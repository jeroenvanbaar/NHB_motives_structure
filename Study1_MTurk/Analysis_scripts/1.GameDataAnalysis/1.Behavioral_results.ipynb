{
 "cells": [
  {
   "cell_type": "code",
   "execution_count": 1,
   "metadata": {},
   "outputs": [],
   "source": [
    "import sys, os, glob, scipy, sqlite3, json, matplotlib#, pymer4\n",
    "import pandas as pd\n",
    "import numpy as np\n",
    "import matplotlib.pyplot as plt\n",
    "import seaborn as sns\n",
    "import scipy.stats as ss\n",
    "import matplotlib.ticker as mtick"
   ]
  },
  {
   "cell_type": "code",
   "execution_count": 2,
   "metadata": {},
   "outputs": [],
   "source": [
    "# Style\n",
    "import matplotlib.style as style\n",
    "style.use('seaborn-poster') #sets the size of the charts\n",
    "style.use('seaborn-white')\n",
    "sns.set_palette('tab10')\n",
    "matplotlib.rcParams['pdf.fonttype'] = 42\n",
    "matplotlib.rcParams['font.family'] = \"Helvetica\""
   ]
  },
  {
   "cell_type": "markdown",
   "metadata": {},
   "source": [
    "### Load data"
   ]
  },
  {
   "cell_type": "code",
   "execution_count": 6,
   "metadata": {},
   "outputs": [
    {
     "name": "stdout",
     "output_type": "stream",
     "text": [
      "/Users/jeroen/Dropbox (Brown)/Postdoc FHL/JEROEN/SOC_STRUCT_LEARN/Code_share/NHB_motives_structure/Study1_MTurk\n"
     ]
    }
   ],
   "source": [
    "baseDir = os.path.realpath('../..')\n",
    "print(baseDir)\n",
    "sys.path.append('/'.join(os.path.realpath('..').split('/')[:4]) + '/Python')\n",
    "import FigureTools"
   ]
  },
  {
   "cell_type": "code",
   "execution_count": 7,
   "metadata": {},
   "outputs": [
    {
     "data": {
      "text/html": [
       "<div>\n",
       "<style scoped>\n",
       "    .dataframe tbody tr th:only-of-type {\n",
       "        vertical-align: middle;\n",
       "    }\n",
       "\n",
       "    .dataframe tbody tr th {\n",
       "        vertical-align: top;\n",
       "    }\n",
       "\n",
       "    .dataframe thead th {\n",
       "        text-align: right;\n",
       "    }\n",
       "</style>\n",
       "<table border=\"1\" class=\"dataframe\">\n",
       "  <thead>\n",
       "    <tr style=\"text-align: right;\">\n",
       "      <th></th>\n",
       "      <th>sub</th>\n",
       "      <th>subID</th>\n",
       "      <th>Block</th>\n",
       "      <th>Player</th>\n",
       "      <th>Type</th>\n",
       "      <th>Variant</th>\n",
       "      <th>Type_Total</th>\n",
       "      <th>Trial</th>\n",
       "      <th>S</th>\n",
       "      <th>T</th>\n",
       "      <th>GameType</th>\n",
       "      <th>Colors</th>\n",
       "      <th>CorrAns</th>\n",
       "      <th>GivenAns</th>\n",
       "      <th>Confidence</th>\n",
       "      <th>Score</th>\n",
       "      <th>RT_radio</th>\n",
       "      <th>RT_submit</th>\n",
       "      <th>SelfReport</th>\n",
       "    </tr>\n",
       "  </thead>\n",
       "  <tbody>\n",
       "    <tr>\n",
       "      <td>0</td>\n",
       "      <td>3</td>\n",
       "      <td>2003</td>\n",
       "      <td>0</td>\n",
       "      <td>G.P.</td>\n",
       "      <td>opt</td>\n",
       "      <td>nat</td>\n",
       "      <td>opt_nat</td>\n",
       "      <td>0</td>\n",
       "      <td>3</td>\n",
       "      <td>12</td>\n",
       "      <td>PD</td>\n",
       "      <td>['Blue', 'Red']</td>\n",
       "      <td>def</td>\n",
       "      <td>def</td>\n",
       "      <td>70</td>\n",
       "      <td>1</td>\n",
       "      <td>10439</td>\n",
       "      <td>14310</td>\n",
       "      <td>maximize own score</td>\n",
       "    </tr>\n",
       "    <tr>\n",
       "      <td>1</td>\n",
       "      <td>3</td>\n",
       "      <td>2003</td>\n",
       "      <td>0</td>\n",
       "      <td>G.P.</td>\n",
       "      <td>opt</td>\n",
       "      <td>nat</td>\n",
       "      <td>opt_nat</td>\n",
       "      <td>1</td>\n",
       "      <td>7</td>\n",
       "      <td>8</td>\n",
       "      <td>HG</td>\n",
       "      <td>['Blue', 'Red']</td>\n",
       "      <td>coop</td>\n",
       "      <td>coop</td>\n",
       "      <td>80</td>\n",
       "      <td>1</td>\n",
       "      <td>5259</td>\n",
       "      <td>8262</td>\n",
       "      <td>maximize own score</td>\n",
       "    </tr>\n",
       "    <tr>\n",
       "      <td>2</td>\n",
       "      <td>3</td>\n",
       "      <td>2003</td>\n",
       "      <td>0</td>\n",
       "      <td>G.P.</td>\n",
       "      <td>opt</td>\n",
       "      <td>nat</td>\n",
       "      <td>opt_nat</td>\n",
       "      <td>2</td>\n",
       "      <td>3</td>\n",
       "      <td>8</td>\n",
       "      <td>SH</td>\n",
       "      <td>['Blue', 'Red']</td>\n",
       "      <td>coop</td>\n",
       "      <td>coop</td>\n",
       "      <td>80</td>\n",
       "      <td>1</td>\n",
       "      <td>2764</td>\n",
       "      <td>5519</td>\n",
       "      <td>maximize own score</td>\n",
       "    </tr>\n",
       "    <tr>\n",
       "      <td>3</td>\n",
       "      <td>3</td>\n",
       "      <td>2003</td>\n",
       "      <td>0</td>\n",
       "      <td>G.P.</td>\n",
       "      <td>opt</td>\n",
       "      <td>nat</td>\n",
       "      <td>opt_nat</td>\n",
       "      <td>3</td>\n",
       "      <td>7</td>\n",
       "      <td>12</td>\n",
       "      <td>SG</td>\n",
       "      <td>['Blue', 'Red']</td>\n",
       "      <td>def</td>\n",
       "      <td>def</td>\n",
       "      <td>80</td>\n",
       "      <td>1</td>\n",
       "      <td>4497</td>\n",
       "      <td>7794</td>\n",
       "      <td>maximize own score</td>\n",
       "    </tr>\n",
       "    <tr>\n",
       "      <td>4</td>\n",
       "      <td>3</td>\n",
       "      <td>2003</td>\n",
       "      <td>0</td>\n",
       "      <td>G.P.</td>\n",
       "      <td>opt</td>\n",
       "      <td>nat</td>\n",
       "      <td>opt_nat</td>\n",
       "      <td>4</td>\n",
       "      <td>0</td>\n",
       "      <td>15</td>\n",
       "      <td>PD</td>\n",
       "      <td>['Blue', 'Red']</td>\n",
       "      <td>def</td>\n",
       "      <td>def</td>\n",
       "      <td>70</td>\n",
       "      <td>1</td>\n",
       "      <td>12523</td>\n",
       "      <td>16207</td>\n",
       "      <td>maximize own score</td>\n",
       "    </tr>\n",
       "  </tbody>\n",
       "</table>\n",
       "</div>"
      ],
      "text/plain": [
       "   sub  subID  Block Player Type Variant Type_Total  Trial  S   T GameType  \\\n",
       "0    3   2003      0   G.P.  opt     nat    opt_nat      0  3  12       PD   \n",
       "1    3   2003      0   G.P.  opt     nat    opt_nat      1  7   8       HG   \n",
       "2    3   2003      0   G.P.  opt     nat    opt_nat      2  3   8       SH   \n",
       "3    3   2003      0   G.P.  opt     nat    opt_nat      3  7  12       SG   \n",
       "4    3   2003      0   G.P.  opt     nat    opt_nat      4  0  15       PD   \n",
       "\n",
       "            Colors CorrAns GivenAns  Confidence  Score  RT_radio  RT_submit  \\\n",
       "0  ['Blue', 'Red']     def      def          70      1     10439      14310   \n",
       "1  ['Blue', 'Red']    coop     coop          80      1      5259       8262   \n",
       "2  ['Blue', 'Red']    coop     coop          80      1      2764       5519   \n",
       "3  ['Blue', 'Red']     def      def          80      1      4497       7794   \n",
       "4  ['Blue', 'Red']     def      def          70      1     12523      16207   \n",
       "\n",
       "           SelfReport  \n",
       "0  maximize own score  \n",
       "1  maximize own score  \n",
       "2  maximize own score  \n",
       "3  maximize own score  \n",
       "4  maximize own score  "
      ]
     },
     "execution_count": 7,
     "metadata": {},
     "output_type": "execute_result"
    }
   ],
   "source": [
    "gameDat = pd.read_csv(baseDir+'/Data/Cleaned/gameDat.csv',index_col=0)\n",
    "gameDat = gameDat.rename(columns = {'ConfidenceNum':'Confidence','ScoreNum':'Score'})\n",
    "gameDat.head()"
   ]
  },
  {
   "cell_type": "code",
   "execution_count": 8,
   "metadata": {},
   "outputs": [
    {
     "name": "stdout",
     "output_type": "stream",
     "text": [
      "150 participants found\n"
     ]
    }
   ],
   "source": [
    "print('%i participants found'%len(gameDat['subID'].unique()))"
   ]
  },
  {
   "cell_type": "code",
   "execution_count": 9,
   "metadata": {
    "scrolled": true
   },
   "outputs": [
    {
     "data": {
      "text/html": [
       "<div>\n",
       "<style scoped>\n",
       "    .dataframe tbody tr th:only-of-type {\n",
       "        vertical-align: middle;\n",
       "    }\n",
       "\n",
       "    .dataframe tbody tr th {\n",
       "        vertical-align: top;\n",
       "    }\n",
       "\n",
       "    .dataframe thead th {\n",
       "        text-align: right;\n",
       "    }\n",
       "</style>\n",
       "<table border=\"1\" class=\"dataframe\">\n",
       "  <thead>\n",
       "    <tr style=\"text-align: right;\">\n",
       "      <th></th>\n",
       "      <th>sub</th>\n",
       "      <th>subID</th>\n",
       "      <th>Block</th>\n",
       "      <th>Player</th>\n",
       "      <th>Type</th>\n",
       "      <th>Variant</th>\n",
       "      <th>Type_Total</th>\n",
       "      <th>Trial</th>\n",
       "      <th>S</th>\n",
       "      <th>T</th>\n",
       "      <th>...</th>\n",
       "      <th>Colors</th>\n",
       "      <th>CorrAns</th>\n",
       "      <th>GivenAns</th>\n",
       "      <th>Confidence</th>\n",
       "      <th>Score</th>\n",
       "      <th>RT_radio</th>\n",
       "      <th>RT_submit</th>\n",
       "      <th>SelfReport</th>\n",
       "      <th>FirstType</th>\n",
       "      <th>ThirdType</th>\n",
       "    </tr>\n",
       "  </thead>\n",
       "  <tbody>\n",
       "    <tr>\n",
       "      <td>0</td>\n",
       "      <td>3</td>\n",
       "      <td>2003</td>\n",
       "      <td>0</td>\n",
       "      <td>G.P.</td>\n",
       "      <td>opt</td>\n",
       "      <td>nat</td>\n",
       "      <td>opt_nat</td>\n",
       "      <td>0</td>\n",
       "      <td>3</td>\n",
       "      <td>12</td>\n",
       "      <td>...</td>\n",
       "      <td>['Blue', 'Red']</td>\n",
       "      <td>def</td>\n",
       "      <td>def</td>\n",
       "      <td>70</td>\n",
       "      <td>1</td>\n",
       "      <td>10439</td>\n",
       "      <td>14310</td>\n",
       "      <td>maximize own score</td>\n",
       "      <td>opt_nat</td>\n",
       "      <td>opt_inv</td>\n",
       "    </tr>\n",
       "    <tr>\n",
       "      <td>1</td>\n",
       "      <td>3</td>\n",
       "      <td>2003</td>\n",
       "      <td>0</td>\n",
       "      <td>G.P.</td>\n",
       "      <td>opt</td>\n",
       "      <td>nat</td>\n",
       "      <td>opt_nat</td>\n",
       "      <td>1</td>\n",
       "      <td>7</td>\n",
       "      <td>8</td>\n",
       "      <td>...</td>\n",
       "      <td>['Blue', 'Red']</td>\n",
       "      <td>coop</td>\n",
       "      <td>coop</td>\n",
       "      <td>80</td>\n",
       "      <td>1</td>\n",
       "      <td>5259</td>\n",
       "      <td>8262</td>\n",
       "      <td>maximize own score</td>\n",
       "      <td>opt_nat</td>\n",
       "      <td>opt_inv</td>\n",
       "    </tr>\n",
       "    <tr>\n",
       "      <td>2</td>\n",
       "      <td>3</td>\n",
       "      <td>2003</td>\n",
       "      <td>0</td>\n",
       "      <td>G.P.</td>\n",
       "      <td>opt</td>\n",
       "      <td>nat</td>\n",
       "      <td>opt_nat</td>\n",
       "      <td>2</td>\n",
       "      <td>3</td>\n",
       "      <td>8</td>\n",
       "      <td>...</td>\n",
       "      <td>['Blue', 'Red']</td>\n",
       "      <td>coop</td>\n",
       "      <td>coop</td>\n",
       "      <td>80</td>\n",
       "      <td>1</td>\n",
       "      <td>2764</td>\n",
       "      <td>5519</td>\n",
       "      <td>maximize own score</td>\n",
       "      <td>opt_nat</td>\n",
       "      <td>opt_inv</td>\n",
       "    </tr>\n",
       "    <tr>\n",
       "      <td>3</td>\n",
       "      <td>3</td>\n",
       "      <td>2003</td>\n",
       "      <td>0</td>\n",
       "      <td>G.P.</td>\n",
       "      <td>opt</td>\n",
       "      <td>nat</td>\n",
       "      <td>opt_nat</td>\n",
       "      <td>3</td>\n",
       "      <td>7</td>\n",
       "      <td>12</td>\n",
       "      <td>...</td>\n",
       "      <td>['Blue', 'Red']</td>\n",
       "      <td>def</td>\n",
       "      <td>def</td>\n",
       "      <td>80</td>\n",
       "      <td>1</td>\n",
       "      <td>4497</td>\n",
       "      <td>7794</td>\n",
       "      <td>maximize own score</td>\n",
       "      <td>opt_nat</td>\n",
       "      <td>opt_inv</td>\n",
       "    </tr>\n",
       "    <tr>\n",
       "      <td>4</td>\n",
       "      <td>3</td>\n",
       "      <td>2003</td>\n",
       "      <td>0</td>\n",
       "      <td>G.P.</td>\n",
       "      <td>opt</td>\n",
       "      <td>nat</td>\n",
       "      <td>opt_nat</td>\n",
       "      <td>4</td>\n",
       "      <td>0</td>\n",
       "      <td>15</td>\n",
       "      <td>...</td>\n",
       "      <td>['Blue', 'Red']</td>\n",
       "      <td>def</td>\n",
       "      <td>def</td>\n",
       "      <td>70</td>\n",
       "      <td>1</td>\n",
       "      <td>12523</td>\n",
       "      <td>16207</td>\n",
       "      <td>maximize own score</td>\n",
       "      <td>opt_nat</td>\n",
       "      <td>opt_inv</td>\n",
       "    </tr>\n",
       "  </tbody>\n",
       "</table>\n",
       "<p>5 rows × 21 columns</p>\n",
       "</div>"
      ],
      "text/plain": [
       "   sub  subID  Block Player Type Variant Type_Total  Trial  S   T  ...  \\\n",
       "0    3   2003      0   G.P.  opt     nat    opt_nat      0  3  12  ...   \n",
       "1    3   2003      0   G.P.  opt     nat    opt_nat      1  7   8  ...   \n",
       "2    3   2003      0   G.P.  opt     nat    opt_nat      2  3   8  ...   \n",
       "3    3   2003      0   G.P.  opt     nat    opt_nat      3  7  12  ...   \n",
       "4    3   2003      0   G.P.  opt     nat    opt_nat      4  0  15  ...   \n",
       "\n",
       "            Colors CorrAns GivenAns Confidence  Score  RT_radio  RT_submit  \\\n",
       "0  ['Blue', 'Red']     def      def         70      1     10439      14310   \n",
       "1  ['Blue', 'Red']    coop     coop         80      1      5259       8262   \n",
       "2  ['Blue', 'Red']    coop     coop         80      1      2764       5519   \n",
       "3  ['Blue', 'Red']     def      def         80      1      4497       7794   \n",
       "4  ['Blue', 'Red']     def      def         70      1     12523      16207   \n",
       "\n",
       "           SelfReport FirstType ThirdType  \n",
       "0  maximize own score   opt_nat   opt_inv  \n",
       "1  maximize own score   opt_nat   opt_inv  \n",
       "2  maximize own score   opt_nat   opt_inv  \n",
       "3  maximize own score   opt_nat   opt_inv  \n",
       "4  maximize own score   opt_nat   opt_inv  \n",
       "\n",
       "[5 rows x 21 columns]"
      ]
     },
     "execution_count": 9,
     "metadata": {},
     "output_type": "execute_result"
    }
   ],
   "source": [
    "firstType = gameDat.loc[(gameDat['Trial']==0) & (gameDat['Block']==0), ['subID','Type_Total']].reset_index(drop=True)\n",
    "firstType.columns = ['subID','FirstType']\n",
    "thirdType = gameDat.loc[(gameDat['Trial']==0) & (gameDat['Block']==2), ['subID','Type_Total']].reset_index(drop=True)\n",
    "thirdType.columns = ['subID','ThirdType']\n",
    "gameDat = gameDat.merge(firstType,on='subID').merge(thirdType,on='subID')\n",
    "gameDat.head()"
   ]
  },
  {
   "cell_type": "code",
   "execution_count": 10,
   "metadata": {},
   "outputs": [],
   "source": [
    "gtOrder = ['HG','SG','SH','PD']\n",
    "roundOrder = range(4)\n",
    "ptOrder = ['opt_nat','pess_nat','opt_inv','pess_inv']"
   ]
  },
  {
   "cell_type": "markdown",
   "metadata": {},
   "source": [
    "##### Best score: subject 2133. What did they discover?"
   ]
  },
  {
   "cell_type": "code",
   "execution_count": 11,
   "metadata": {},
   "outputs": [
    {
     "data": {
      "text/html": [
       "<div>\n",
       "<style scoped>\n",
       "    .dataframe tbody tr th:only-of-type {\n",
       "        vertical-align: middle;\n",
       "    }\n",
       "\n",
       "    .dataframe tbody tr th {\n",
       "        vertical-align: top;\n",
       "    }\n",
       "\n",
       "    .dataframe thead th {\n",
       "        text-align: right;\n",
       "    }\n",
       "</style>\n",
       "<table border=\"1\" class=\"dataframe\">\n",
       "  <thead>\n",
       "    <tr style=\"text-align: right;\">\n",
       "      <th></th>\n",
       "      <th>Type_Total</th>\n",
       "      <th>SelfReport</th>\n",
       "    </tr>\n",
       "  </thead>\n",
       "  <tbody>\n",
       "    <tr>\n",
       "      <td>6208</td>\n",
       "      <td>pess_nat</td>\n",
       "      <td>safe and steady</td>\n",
       "    </tr>\n",
       "    <tr>\n",
       "      <td>6224</td>\n",
       "      <td>opt_nat</td>\n",
       "      <td>highest number</td>\n",
       "    </tr>\n",
       "    <tr>\n",
       "      <td>6240</td>\n",
       "      <td>opt_inv</td>\n",
       "      <td>the lowest one picked</td>\n",
       "    </tr>\n",
       "    <tr>\n",
       "      <td>6256</td>\n",
       "      <td>pess_inv</td>\n",
       "      <td>the lowest number in the 2nd box</td>\n",
       "    </tr>\n",
       "  </tbody>\n",
       "</table>\n",
       "</div>"
      ],
      "text/plain": [
       "     Type_Total                        SelfReport\n",
       "6208   pess_nat                  safe and steady \n",
       "6224    opt_nat                   highest number \n",
       "6240    opt_inv             the lowest one picked\n",
       "6256   pess_inv  the lowest number in the 2nd box"
      ]
     },
     "execution_count": 11,
     "metadata": {},
     "output_type": "execute_result"
    }
   ],
   "source": [
    "gameDat.loc[gameDat['subID']==2133,['Type_Total','SelfReport']].drop_duplicates()"
   ]
  },
  {
   "cell_type": "markdown",
   "metadata": {},
   "source": [
    "## Overall performance by player type"
   ]
  },
  {
   "cell_type": "code",
   "execution_count": 12,
   "metadata": {},
   "outputs": [
    {
     "data": {
      "text/plain": [
       "Index(['sub', 'subID', 'Block', 'Player', 'Type', 'Variant', 'Type_Total',\n",
       "       'Trial', 'S', 'T', 'GameType', 'Colors', 'CorrAns', 'GivenAns',\n",
       "       'Confidence', 'Score', 'RT_radio', 'RT_submit', 'SelfReport',\n",
       "       'FirstType', 'ThirdType'],\n",
       "      dtype='object')"
      ]
     },
     "execution_count": 12,
     "metadata": {},
     "output_type": "execute_result"
    }
   ],
   "source": [
    "gameDat.columns"
   ]
  },
  {
   "cell_type": "code",
   "execution_count": 13,
   "metadata": {},
   "outputs": [
    {
     "data": {
      "image/png": "[encoded data removed]",
      "text/plain": [
       "<Figure size 432x360 with 1 Axes>"
      ]
     },
     "metadata": {},
     "output_type": "display_data"
    }
   ],
   "source": [
    "sns.set_context('poster')\n",
    "blockDat = gameDat[['subID','Type_Total','Type','Variant','Confidence','Score']\n",
    "                  ].groupby(['subID','Variant']).mean().reset_index()\n",
    "fig, ax = plt.subplots(1,1,figsize=[6,5])\n",
    "sns.barplot(data=blockDat,x='Variant',y='Score', ax=ax, errwidth = 3, capsize=.1,\n",
    "            order=['nat','inv'],alpha=0)\n",
    "sns.swarmplot(data=blockDat,x='Variant',y='Score', ax=ax,\n",
    "            order=['nat','inv'], alpha=.3, color = 'k')\n",
    "ax.plot([-5,5],[.5,.5], 'k--', lw=2)\n",
    "ax.set(ylim = [0,1.1], xlim = [-.5,1.5], xlabel = None, yticks = [0,.25,.5,.75,1],\n",
    "       title = 'Performance by strategy type',\n",
    "       xticklabels = ['Human\\nStrategies', 'Artificial\\nStrategies'], ylabel = 'Accuracy     ');\n",
    "dat1 = blockDat.loc[blockDat['Variant']=='nat','Score'].values\n",
    "dat2 = blockDat.loc[blockDat['Variant']=='inv','Score'].values\n",
    "stats = scipy.stats.ttest_rel(dat2,dat1)\n",
    "FigureTools.add_sig_markers(ax, relationships=[[0,1,stats[1]]])\n",
    "sns.despine(top=True,right=True)\n",
    "ax.spines['left'].set_bounds(0,1)\n",
    "ax.set_ylim([0,1.4])\n",
    "ax.yaxis.set_major_formatter(mtick.PercentFormatter(xmax=1))\n",
    "# plt.savefig(baseDir+'/Figures/plot1b.pdf',transparent=True, bbox_inches='tight');"
   ]
  },
  {
   "cell_type": "code",
   "execution_count": 14,
   "metadata": {},
   "outputs": [
    {
     "data": {
      "image/png": "[encoded data removed]",
      "text/plain": [
       "<Figure size 432x360 with 1 Axes>"
      ]
     },
     "metadata": {},
     "output_type": "display_data"
    }
   ],
   "source": [
    "sns.set_context('poster')\n",
    "overallDat = gameDat[['subID','Type_Total','Type','Variant','Confidence','Score']\n",
    "                  ].groupby(['subID']).mean().reset_index()\n",
    "fig, ax = plt.subplots(1,1,figsize=[6,5])\n",
    "sns.barplot(data=blockDat,y='Score', ax=ax, errwidth = 3, capsize=.1,\n",
    "            alpha=0)\n",
    "sns.swarmplot(data=blockDat,y='Score', ax=ax,\n",
    "            alpha=.3, color = 'k')\n",
    "ax.plot([-5,5],[.5,.5], 'k--', lw=2)\n",
    "ax.set(ylim = [0,1.1], xlabel = None, yticks = [0,.25,.5,.75,1],\n",
    "       title = 'Overall task performance',\n",
    "       ylabel = 'Accuracy        ');\n",
    "stats = scipy.stats.ttest_1samp(overallDat['Score'].values, 0.5)\n",
    "FigureTools.add_sig_markers(ax, relationships=[[0,0,stats[1]]])\n",
    "sns.despine(top=True,right=True)\n",
    "ax.spines['left'].set_bounds(0,1)\n",
    "ax.set_ylim([0,1.4])\n",
    "ax.yaxis.set_major_formatter(mtick.PercentFormatter(xmax=1))\n",
    "# plt.savefig(baseDir+'/Figures/plot1d.pdf',transparent=True, bbox_inches='tight');"
   ]
  },
  {
   "cell_type": "code",
   "execution_count": 15,
   "metadata": {},
   "outputs": [],
   "source": [
    "def ttest_1samp(dat, popmean = .5, verbose = True):\n",
    "    if verbose:\n",
    "        print('SD: ',np.std(dat))\n",
    "        print('Stats:')\n",
    "    stats = scipy.stats.ttest_1samp(dat, popmean = popmean)\n",
    "    if verbose:\n",
    "        print(stats)\n",
    "        print('Cohen d:')\n",
    "    coh_d = (np.mean(dat) - popmean)/np.std(dat)\n",
    "    if verbose:\n",
    "        print(coh_d)\n",
    "    return(stats, coh_d)"
   ]
  },
  {
   "cell_type": "code",
   "execution_count": 16,
   "metadata": {},
   "outputs": [],
   "source": [
    "def ttest_2samp(dat1, dat2):\n",
    "    print('SD dat 1: ',np.std(dat1))\n",
    "    print('SD dat 2: ',np.std(dat2))\n",
    "    print('Stats:')\n",
    "    stats = scipy.stats.ttest_ind(dat1, dat2)\n",
    "    print(stats)\n",
    "    print('Cohen d:')\n",
    "    nx = len(dat1)\n",
    "    ny = len(dat2)\n",
    "    dof = nx + ny - 2\n",
    "    coh_d = ((np.mean(dat1) - np.mean(dat2)) /\n",
    "             np.sqrt(((nx-1)*np.std(dat1, ddof=1) ** 2 + (ny-1)*np.std(y, ddof=1) ** 2) / dof))\n",
    "    print(coh_d)\n",
    "    return(stats, coh_d)"
   ]
  },
  {
   "cell_type": "code",
   "execution_count": 17,
   "metadata": {},
   "outputs": [
    {
     "name": "stdout",
     "output_type": "stream",
     "text": [
      "SD:  0.09116910417216764\n",
      "Stats:\n",
      "Ttest_1sampResult(statistic=12.16159953707538, pvalue=4.523880875355806e-24)\n",
      "Cohen d:\n",
      "0.9963170545341739\n"
     ]
    }
   ],
   "source": [
    "ttest_1samp(overallDat['Score'].values);"
   ]
  },
  {
   "cell_type": "code",
   "execution_count": 15,
   "metadata": {},
   "outputs": [
    {
     "data": {
      "text/plain": [
       "WilcoxonResult(statistic=400.0, pvalue=6.322009469523281e-22)"
      ]
     },
     "execution_count": 15,
     "metadata": {},
     "output_type": "execute_result"
    }
   ],
   "source": [
    "scipy.stats.wilcoxon(overallDat['Score'].values-0.5)"
   ]
  },
  {
   "cell_type": "markdown",
   "metadata": {},
   "source": [
    "##### Plot model reproduction of this effect"
   ]
  },
  {
   "cell_type": "code",
   "execution_count": 20,
   "metadata": {},
   "outputs": [
    {
     "data": {
      "text/html": [
       "<div>\n",
       "<style scoped>\n",
       "    .dataframe tbody tr th:only-of-type {\n",
       "        vertical-align: middle;\n",
       "    }\n",
       "\n",
       "    .dataframe tbody tr th {\n",
       "        vertical-align: top;\n",
       "    }\n",
       "\n",
       "    .dataframe thead th {\n",
       "        text-align: right;\n",
       "    }\n",
       "</style>\n",
       "<table border=\"1\" class=\"dataframe\">\n",
       "  <thead>\n",
       "    <tr style=\"text-align: right;\">\n",
       "      <th></th>\n",
       "      <th>sub</th>\n",
       "      <th>subID</th>\n",
       "      <th>Trial</th>\n",
       "      <th>Variant</th>\n",
       "      <th>Type_Total</th>\n",
       "      <th>CorrAns</th>\n",
       "      <th>GivenAns</th>\n",
       "      <th>Confidence</th>\n",
       "      <th>sub_score</th>\n",
       "      <th>model_pred_coop</th>\n",
       "      <th>model_pred</th>\n",
       "      <th>model_score</th>\n",
       "    </tr>\n",
       "  </thead>\n",
       "  <tbody>\n",
       "    <tr>\n",
       "      <td>0</td>\n",
       "      <td>3</td>\n",
       "      <td>2003</td>\n",
       "      <td>0</td>\n",
       "      <td>nat</td>\n",
       "      <td>opt_nat</td>\n",
       "      <td>def</td>\n",
       "      <td>def</td>\n",
       "      <td>70</td>\n",
       "      <td>1</td>\n",
       "      <td>0.424167</td>\n",
       "      <td>def</td>\n",
       "      <td>1</td>\n",
       "    </tr>\n",
       "    <tr>\n",
       "      <td>1</td>\n",
       "      <td>3</td>\n",
       "      <td>2003</td>\n",
       "      <td>1</td>\n",
       "      <td>nat</td>\n",
       "      <td>opt_nat</td>\n",
       "      <td>coop</td>\n",
       "      <td>coop</td>\n",
       "      <td>80</td>\n",
       "      <td>1</td>\n",
       "      <td>0.833934</td>\n",
       "      <td>coop</td>\n",
       "      <td>1</td>\n",
       "    </tr>\n",
       "    <tr>\n",
       "      <td>2</td>\n",
       "      <td>3</td>\n",
       "      <td>2003</td>\n",
       "      <td>2</td>\n",
       "      <td>nat</td>\n",
       "      <td>opt_nat</td>\n",
       "      <td>coop</td>\n",
       "      <td>coop</td>\n",
       "      <td>80</td>\n",
       "      <td>1</td>\n",
       "      <td>0.846740</td>\n",
       "      <td>coop</td>\n",
       "      <td>1</td>\n",
       "    </tr>\n",
       "    <tr>\n",
       "      <td>3</td>\n",
       "      <td>3</td>\n",
       "      <td>2003</td>\n",
       "      <td>3</td>\n",
       "      <td>nat</td>\n",
       "      <td>opt_nat</td>\n",
       "      <td>def</td>\n",
       "      <td>def</td>\n",
       "      <td>80</td>\n",
       "      <td>1</td>\n",
       "      <td>0.365957</td>\n",
       "      <td>def</td>\n",
       "      <td>1</td>\n",
       "    </tr>\n",
       "    <tr>\n",
       "      <td>4</td>\n",
       "      <td>3</td>\n",
       "      <td>2003</td>\n",
       "      <td>4</td>\n",
       "      <td>nat</td>\n",
       "      <td>opt_nat</td>\n",
       "      <td>def</td>\n",
       "      <td>def</td>\n",
       "      <td>70</td>\n",
       "      <td>1</td>\n",
       "      <td>0.318638</td>\n",
       "      <td>def</td>\n",
       "      <td>1</td>\n",
       "    </tr>\n",
       "  </tbody>\n",
       "</table>\n",
       "</div>"
      ],
      "text/plain": [
       "   sub  subID  Trial Variant Type_Total CorrAns GivenAns  Confidence  \\\n",
       "0    3   2003      0     nat    opt_nat     def      def          70   \n",
       "1    3   2003      1     nat    opt_nat    coop     coop          80   \n",
       "2    3   2003      2     nat    opt_nat    coop     coop          80   \n",
       "3    3   2003      3     nat    opt_nat     def      def          80   \n",
       "4    3   2003      4     nat    opt_nat     def      def          70   \n",
       "\n",
       "   sub_score  model_pred_coop model_pred  model_score  \n",
       "0          1         0.424167        def            1  \n",
       "1          1         0.833934       coop            1  \n",
       "2          1         0.846740       coop            1  \n",
       "3          1         0.365957        def            1  \n",
       "4          1         0.318638        def            1  "
      ]
     },
     "execution_count": 20,
     "metadata": {},
     "output_type": "execute_result"
    }
   ],
   "source": [
    "sim_dat = pd.read_csv(baseDir + '/Data/Cleaned/Model_simulations_%s_%s.csv'%('CoGrRiNa','best'), index_col=0)\n",
    "sim_dat.head()"
   ]
  },
  {
   "cell_type": "code",
   "execution_count": 21,
   "metadata": {},
   "outputs": [
    {
     "data": {
      "image/png": "[encoded data removed]",
      "text/plain": [
       "<Figure size 432x360 with 1 Axes>"
      ]
     },
     "metadata": {},
     "output_type": "display_data"
    }
   ],
   "source": [
    "sns.set_context('poster')\n",
    "sim_block_dat = sim_dat[['subID','Type_Total','Variant','Confidence','model_score']\n",
    "                  ].groupby(['subID','Variant']).mean().reset_index()\n",
    "fig, ax = plt.subplots(1,1,figsize=[6,5])\n",
    "sns.barplot(data=sim_block_dat,x='Variant',y='model_score', ax=ax, errwidth = 3, capsize=.1,\n",
    "            order=['nat','inv'],alpha=0)\n",
    "sns.swarmplot(data=sim_block_dat,x='Variant',y='model_score', ax=ax,\n",
    "            order=['nat','inv'], alpha=.3, color = 'k')\n",
    "ax.plot([-5,5],[.5,.5], 'k--', lw=2)\n",
    "ax.set(ylim = [0,1.1], xlim = [-.5,1.5], xlabel = None, yticks = [0,.25,.5,.75,1],\n",
    "       title = 'Model prediction',\n",
    "       xticklabels = ['Human\\nStrategies', 'Artificial\\nStrategies'], ylabel = 'Accuracy     ');\n",
    "dat1 = sim_block_dat.loc[sim_block_dat['Variant']=='nat','model_score'].values\n",
    "dat2 = sim_block_dat.loc[sim_block_dat['Variant']=='inv','model_score'].values\n",
    "stats = scipy.stats.ttest_rel(dat2,dat1)\n",
    "FigureTools.add_sig_markers(ax, relationships=[[0,1,stats[1]]])\n",
    "sns.despine(top=True,right=True)\n",
    "ax.spines['left'].set_bounds(0,1)\n",
    "ax.set_ylim([0,1.4])\n",
    "ax.yaxis.set_major_formatter(mtick.PercentFormatter(xmax=1))\n",
    "# plt.savefig(baseDir+'/Figures/plot1c.pdf',transparent=True, bbox_inches='tight');"
   ]
  },
  {
   "cell_type": "markdown",
   "metadata": {},
   "source": [
    "##### Mean performance, compare distribution of mean per subject against 50%"
   ]
  },
  {
   "cell_type": "code",
   "execution_count": 22,
   "metadata": {},
   "outputs": [
    {
     "data": {
      "text/plain": [
       "count    9600.000000\n",
       "mean        0.590833\n",
       "std         0.491706\n",
       "min         0.000000\n",
       "25%         0.000000\n",
       "50%         1.000000\n",
       "75%         1.000000\n",
       "max         1.000000\n",
       "Name: Score, dtype: float64"
      ]
     },
     "execution_count": 22,
     "metadata": {},
     "output_type": "execute_result"
    }
   ],
   "source": [
    "gameDat['Score'].describe()"
   ]
  },
  {
   "cell_type": "code",
   "execution_count": 23,
   "metadata": {},
   "outputs": [
    {
     "name": "stdout",
     "output_type": "stream",
     "text": [
      "150\n"
     ]
    },
    {
     "data": {
      "text/plain": [
       "Ttest_1sampResult(statistic=12.16159953707538, pvalue=4.523880875355806e-24)"
      ]
     },
     "execution_count": 23,
     "metadata": {},
     "output_type": "execute_result"
    }
   ],
   "source": [
    "meanPerSub = gameDat.groupby('subID').mean()['Score'].values\n",
    "print(len(meanPerSub))\n",
    "scipy.stats.ttest_1samp(meanPerSub, .5)"
   ]
  },
  {
   "cell_type": "markdown",
   "metadata": {},
   "source": [
    "##### Compare human vs artificial strategy performance using within subjects t-test"
   ]
  },
  {
   "cell_type": "code",
   "execution_count": 24,
   "metadata": {},
   "outputs": [
    {
     "data": {
      "text/plain": [
       "Ttest_relResult(statistic=-23.893638317826607, pvalue=7.935219387016067e-53)"
      ]
     },
     "execution_count": 24,
     "metadata": {},
     "output_type": "execute_result"
    }
   ],
   "source": [
    "stats"
   ]
  },
  {
   "cell_type": "code",
   "execution_count": 25,
   "metadata": {},
   "outputs": [
    {
     "data": {
      "text/html": [
       "<div>\n",
       "<style scoped>\n",
       "    .dataframe tbody tr th:only-of-type {\n",
       "        vertical-align: middle;\n",
       "    }\n",
       "\n",
       "    .dataframe tbody tr th {\n",
       "        vertical-align: top;\n",
       "    }\n",
       "\n",
       "    .dataframe thead th {\n",
       "        text-align: right;\n",
       "    }\n",
       "</style>\n",
       "<table border=\"1\" class=\"dataframe\">\n",
       "  <thead>\n",
       "    <tr style=\"text-align: right;\">\n",
       "      <th>Variant</th>\n",
       "      <th>inv</th>\n",
       "      <th>nat</th>\n",
       "    </tr>\n",
       "    <tr>\n",
       "      <th>subID</th>\n",
       "      <th></th>\n",
       "      <th></th>\n",
       "    </tr>\n",
       "  </thead>\n",
       "  <tbody>\n",
       "    <tr>\n",
       "      <td>2003</td>\n",
       "      <td>0.46875</td>\n",
       "      <td>0.78125</td>\n",
       "    </tr>\n",
       "    <tr>\n",
       "      <td>2004</td>\n",
       "      <td>0.37500</td>\n",
       "      <td>0.62500</td>\n",
       "    </tr>\n",
       "    <tr>\n",
       "      <td>2005</td>\n",
       "      <td>0.40625</td>\n",
       "      <td>0.65625</td>\n",
       "    </tr>\n",
       "    <tr>\n",
       "      <td>2006</td>\n",
       "      <td>0.40625</td>\n",
       "      <td>0.71875</td>\n",
       "    </tr>\n",
       "    <tr>\n",
       "      <td>2008</td>\n",
       "      <td>0.50000</td>\n",
       "      <td>0.68750</td>\n",
       "    </tr>\n",
       "  </tbody>\n",
       "</table>\n",
       "</div>"
      ],
      "text/plain": [
       "Variant      inv      nat\n",
       "subID                    \n",
       "2003     0.46875  0.78125\n",
       "2004     0.37500  0.62500\n",
       "2005     0.40625  0.65625\n",
       "2006     0.40625  0.71875\n",
       "2008     0.50000  0.68750"
      ]
     },
     "execution_count": 25,
     "metadata": {},
     "output_type": "execute_result"
    }
   ],
   "source": [
    "meanPerSubCondition = gameDat.groupby(['subID','Variant'],as_index=False).mean()[['subID','Variant','Score']].pivot(\n",
    "    index='subID',columns = 'Variant', values = 'Score')\n",
    "meanPerSubCondition.head()"
   ]
  },
  {
   "cell_type": "markdown",
   "metadata": {},
   "source": [
    "Within natural"
   ]
  },
  {
   "cell_type": "code",
   "execution_count": 26,
   "metadata": {},
   "outputs": [
    {
     "data": {
      "text/plain": [
       "count    150.000000\n",
       "mean       0.716250\n",
       "std        0.105402\n",
       "min        0.406250\n",
       "25%        0.656250\n",
       "50%        0.703125\n",
       "75%        0.781250\n",
       "max        1.000000\n",
       "Name: nat, dtype: float64"
      ]
     },
     "execution_count": 26,
     "metadata": {},
     "output_type": "execute_result"
    }
   ],
   "source": [
    "meanPerSubCondition['nat'].describe()"
   ]
  },
  {
   "cell_type": "code",
   "execution_count": 27,
   "metadata": {},
   "outputs": [
    {
     "data": {
      "text/plain": [
       "Ttest_1sampResult(statistic=25.127824060290394, pvalue=1.924759029222467e-55)"
      ]
     },
     "execution_count": 27,
     "metadata": {},
     "output_type": "execute_result"
    }
   ],
   "source": [
    "scipy.stats.ttest_1samp(meanPerSubCondition['nat'], .5)"
   ]
  },
  {
   "cell_type": "markdown",
   "metadata": {},
   "source": [
    "Within artificial"
   ]
  },
  {
   "cell_type": "code",
   "execution_count": 28,
   "metadata": {},
   "outputs": [
    {
     "data": {
      "text/plain": [
       "count    150.000000\n",
       "mean       0.465417\n",
       "std        0.124166\n",
       "min        0.218750\n",
       "25%        0.382812\n",
       "50%        0.437500\n",
       "75%        0.531250\n",
       "max        0.906250\n",
       "Name: inv, dtype: float64"
      ]
     },
     "execution_count": 28,
     "metadata": {},
     "output_type": "execute_result"
    }
   ],
   "source": [
    "meanPerSubCondition['inv'].describe()"
   ]
  },
  {
   "cell_type": "code",
   "execution_count": 29,
   "metadata": {},
   "outputs": [
    {
     "data": {
      "text/plain": [
       "Ttest_1sampResult(statistic=-3.4112209783787257, pvalue=0.0008326077881688598)"
      ]
     },
     "execution_count": 29,
     "metadata": {},
     "output_type": "execute_result"
    }
   ],
   "source": [
    "scipy.stats.ttest_1samp(meanPerSubCondition['inv'], .5)"
   ]
  },
  {
   "cell_type": "markdown",
   "metadata": {},
   "source": [
    "Between natural and artificial"
   ]
  },
  {
   "cell_type": "code",
   "execution_count": 30,
   "metadata": {},
   "outputs": [
    {
     "data": {
      "text/plain": [
       "Ttest_relResult(statistic=-21.95287714517171, pvalue=1.4999341663439538e-48)"
      ]
     },
     "execution_count": 30,
     "metadata": {},
     "output_type": "execute_result"
    }
   ],
   "source": [
    "scipy.stats.ttest_rel(meanPerSubCondition['inv'],meanPerSubCondition['nat'])"
   ]
  },
  {
   "cell_type": "code",
   "execution_count": 31,
   "metadata": {},
   "outputs": [
    {
     "name": "stdout",
     "output_type": "stream",
     "text": [
      "SD:  0.1394719705014436\n",
      "Stats:\n",
      "Ttest_1sampResult(statistic=21.95287714517171, pvalue=1.4999341663439538e-48)\n",
      "Cohen d:\n",
      "1.798449770455757\n"
     ]
    },
    {
     "data": {
      "text/plain": [
       "(Ttest_1sampResult(statistic=21.95287714517171, pvalue=1.4999341663439538e-48),\n",
       " 1.798449770455757)"
      ]
     },
     "execution_count": 31,
     "metadata": {},
     "output_type": "execute_result"
    }
   ],
   "source": [
    "ttest_1samp((meanPerSubCondition['nat']-meanPerSubCondition['inv']), popmean = 0)"
   ]
  }
 ],
 "metadata": {
  "kernelspec": {
   "display_name": "Python 3",
   "language": "python",
   "name": "python3"
  },
  "language_info": {
   "codemirror_mode": {
    "name": "ipython",
    "version": 3
   },
   "file_extension": ".py",
   "mimetype": "text/x-python",
   "name": "python",
   "nbconvert_exporter": "python",
   "pygments_lexer": "ipython3",
   "version": "3.7.4"
  }
 },
 "nbformat": 4,
 "nbformat_minor": 2
}
