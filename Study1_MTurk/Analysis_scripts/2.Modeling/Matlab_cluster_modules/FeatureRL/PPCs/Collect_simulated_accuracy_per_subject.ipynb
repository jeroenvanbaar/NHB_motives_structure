{
 "cells": [
  {
   "cell_type": "code",
   "execution_count": 1,
   "metadata": {},
   "outputs": [],
   "source": [
    "import scipy, os, sys, glob\n",
    "import numpy as np\n",
    "import pandas as pd\n",
    "import matplotlib.pyplot as plt\n",
    "import seaborn as sns"
   ]
  },
  {
   "cell_type": "code",
   "execution_count": 19,
   "metadata": {},
   "outputs": [],
   "source": [
    "def mean_confidence_interval(data, confidence=0.95):\n",
    "    a = 1.0 * np.array(data)\n",
    "    n = len(a)\n",
    "    m, se = np.mean(a), scipy.stats.sem(a)\n",
    "    h = se * scipy.stats.t.ppf((1 + confidence) / 2., n-1)\n",
    "    return m, m-h, m+h"
   ]
  },
  {
   "cell_type": "code",
   "execution_count": 126,
   "metadata": {},
   "outputs": [],
   "source": [
    "study_name = 'Study2_EyeTracking'\n",
    "date_string = '2020-03-31'\n",
    "subs = np.arange(151,201)\n",
    "\n",
    "sim_dir = ('/gpfs_home/jvanbaar/data/jvanbaar/SOC_STRUCT_LEARN/'+\n",
    "            'ComputationalModel/FeatureRL/Simulations/%s_FeatureRL_CoGrRiNa_%s'%(study_name,date_string))"
   ]
  },
  {
   "cell_type": "code",
   "execution_count": 127,
   "metadata": {},
   "outputs": [
    {
     "name": "stdout",
     "output_type": "stream",
     "text": [
      "151,152,153,154,155,156,157,158,159,160,161,162,163,164,165,166,167,168,169,170,171,172,173,174,175,176,177,178,179,180,181,182,183,184,185,186,187,188,189,190,191,192,193,194,195,196,197,198,199,200,"
     ]
    }
   ],
   "source": [
    "all_sim_results = pd.DataFrame()\n",
    "for sub_index in subs:\n",
    "    print(sub_index, end = ',')\n",
    "    filenames = glob.glob(sim_dir + '/simulations_subInd-%i_*.csv'%sub_index)\n",
    "    sims = pd.read_csv(filenames[0],index_col=None, dtype = {'sub_ID':str, 'sub_ind':int})\n",
    "    \n",
    "    sims['sub_corr'] = sims['player_choice']==sims['sub_pred']\n",
    "    sims['model_corr'] = sims['player_choice']==sims['model_pred']\n",
    "    sims['variant'] = sims['player_type'].apply(lambda x: x[-3:])\n",
    "    \n",
    "    sim_results = sims.query('trial < 65').groupby(['variant','sub_ID'],as_index=False).mean()[['sub_ind','sub_ID','variant','sub_corr','model_corr']]\n",
    "    sim_results = sim_results.rename(columns = {'sub_corr':'sub_acc', 'model_corr':'mean_model_acc'})\n",
    "    \n",
    "    model_sim_distribution = sims.groupby(['sim_index','variant'],as_index=False).mean()[['variant','model_corr']]\n",
    "    for variant in ['nat','inv']:\n",
    "        model_sim_cond_dat = model_sim_distribution.query('variant == @variant')['model_corr'].describe(percentiles = [0.025, 0.975])\n",
    "        sim_results.loc[sim_results['variant'] == variant,'2.5%'] = model_sim_cond_dat['2.5%']\n",
    "        sim_results.loc[sim_results['variant'] == variant,'97.5%'] = model_sim_cond_dat['97.5%']\n",
    "#         inv_m, inv_ci_l, inv_ci_u = mean_confidence_interval(model_sim_distribution.query('variant == @variant')['model_corr'].values)\n",
    "#         sim_results.loc[sim_results['variant'] == variant,'95 ci'] = inv_ci_u - inv_m\n",
    "    \n",
    "    all_sim_results = all_sim_results.append(sim_results)"
   ]
  },
  {
   "cell_type": "code",
   "execution_count": 128,
   "metadata": {},
   "outputs": [],
   "source": [
    "all_sim_results.to_csv(sim_dir + '/all_sim_results.csv')"
   ]
  },
  {
   "cell_type": "markdown",
   "metadata": {},
   "source": [
    "## Across subjects: compute mean accuracy per dataset, get 95% ci"
   ]
  },
  {
   "cell_type": "code",
   "execution_count": 93,
   "metadata": {},
   "outputs": [],
   "source": [
    "study_name = 'Study1_Mturk'\n",
    "date_string = '2020-03-24'\n",
    "subs = np.arange(1,151)\n",
    "\n",
    "sim_dir = ('/gpfs_home/jvanbaar/data/jvanbaar/SOC_STRUCT_LEARN/'+\n",
    "            'ComputationalModel/FeatureRL/Simulations/%s_FeatureRL_CoGrRiNa_%s'%(study_name,date_string))"
   ]
  },
  {
   "cell_type": "code",
   "execution_count": 94,
   "metadata": {},
   "outputs": [
    {
     "name": "stdout",
     "output_type": "stream",
     "text": [
      "1,2,3,4,5,6,7,8,9,10,11,12,13,14,15,16,17,18,19,20,21,22,23,24,25,26,27,28,29,30,31,32,33,34,35,36,37,38,39,40,41,42,43,44,45,46,47,48,49,50,51,52,53,54,55,56,57,58,59,60,61,62,63,64,65,66,67,68,69,70,71,72,73,74,75,76,77,78,79,80,81,82,83,84,85,86,87,88,89,90,91,92,93,94,95,96,97,98,99,100,101,102,103,104,105,106,107,108,109,110,111,112,113,114,115,116,117,118,119,120,121,122,123,124,125,126,127,128,129,130,131,132,133,134,135,136,137,138,139,140,141,142,143,144,145,146,147,148,149,150,"
     ]
    }
   ],
   "source": [
    "all_sims = pd.DataFrame()\n",
    "for sub_index in subs:\n",
    "    print(sub_index, end = ',')\n",
    "    filenames = glob.glob(sim_dir + '/simulations_subInd-%i_*.csv'%sub_index)\n",
    "    sims = pd.read_csv(filenames[0],index_col=None, dtype = {'sub_ID':str, 'sub_ind':int})\n",
    "    sims['sub_corr'] = sims['player_choice']==sims['sub_pred']\n",
    "    sims['model_corr'] = sims['player_choice']==sims['model_pred']\n",
    "    sims['variant'] = sims['player_type'].apply(lambda x: x[-3:])\n",
    "    all_sims = all_sims.append(sims)"
   ]
  },
  {
   "cell_type": "code",
   "execution_count": 95,
   "metadata": {},
   "outputs": [],
   "source": [
    "avg_per_sim = all_sims.groupby(['sim_index','variant'],as_index=False).mean()"
   ]
  },
  {
   "cell_type": "code",
   "execution_count": 96,
   "metadata": {},
   "outputs": [],
   "source": [
    "avg_per_sim_pivot = avg_per_sim.pivot(index = 'sim_index', columns = 'variant', values = 'model_corr').reset_index()"
   ]
  },
  {
   "cell_type": "code",
   "execution_count": 97,
   "metadata": {},
   "outputs": [],
   "source": [
    "avg_per_sim_pivot.to_csv(sim_dir + '/all_sim_mean_accuracies.csv')"
   ]
  },
  {
   "cell_type": "code",
   "execution_count": null,
   "metadata": {},
   "outputs": [],
   "source": []
  }
 ],
 "metadata": {
  "kernelspec": {
   "display_name": "Python 3",
   "language": "python",
   "name": "python3"
  },
  "language_info": {
   "codemirror_mode": {
    "name": "ipython",
    "version": 3
   },
   "file_extension": ".py",
   "mimetype": "text/x-python",
   "name": "python",
   "nbconvert_exporter": "python",
   "pygments_lexer": "ipython3",
   "version": "3.6.9"
  }
 },
 "nbformat": 4,
 "nbformat_minor": 2
}
