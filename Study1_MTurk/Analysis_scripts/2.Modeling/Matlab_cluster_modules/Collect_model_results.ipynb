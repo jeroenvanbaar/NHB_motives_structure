{
 "cells": [
  {
   "cell_type": "code",
   "execution_count": 40,
   "metadata": {
    "ExecuteTime": {
     "end_time": "2021-05-20T20:38:39.850849Z",
     "start_time": "2021-05-20T20:38:39.845226Z"
    }
   },
   "outputs": [],
   "source": [
    "import pandas as pd\n",
    "import numpy as np\n",
    "import os, glob"
   ]
  },
  {
   "cell_type": "code",
   "execution_count": 41,
   "metadata": {
    "ExecuteTime": {
     "end_time": "2021-05-20T20:38:40.023768Z",
     "start_time": "2021-05-20T20:38:40.015946Z"
    }
   },
   "outputs": [
    {
     "data": {
      "text/plain": [
       "'/gpfs/home/jvanbaar/data/jvanbaar/SOC_STRUCT_LEARN/ComputationalModel/'"
      ]
     },
     "execution_count": 41,
     "metadata": {},
     "output_type": "execute_result"
    }
   ],
   "source": [
    "results_dir = '/'.join(os.path.realpath('..').split('/')[:4]) \\\n",
    "                + '/data/jvanbaar/SOC_STRUCT_LEARN/' \\\n",
    "                + 'ComputationalModel/'\n",
    "results_dir"
   ]
  },
  {
   "cell_type": "code",
   "execution_count": 42,
   "metadata": {
    "ExecuteTime": {
     "end_time": "2021-05-20T20:38:40.214534Z",
     "start_time": "2021-05-20T20:38:40.208513Z"
    }
   },
   "outputs": [],
   "source": [
    "model_type = 'FeatureRL'\n",
    "date = '2021-05-19'\n",
    "fitto = 'choice_only'\n",
    "features = 'CoGrRiEV'\n",
    "gaze = 'false'\n",
    "niter = 10"
   ]
  },
  {
   "cell_type": "code",
   "execution_count": 43,
   "metadata": {
    "ExecuteTime": {
     "end_time": "2021-05-20T20:38:40.407602Z",
     "start_time": "2021-05-20T20:38:40.399482Z"
    }
   },
   "outputs": [
    {
     "name": "stdout",
     "output_type": "stream",
     "text": [
      "[  1   2   3   4   5   6   7   8   9  10  11  12  13  14  15  16  17  18\n",
      "  19  20  21  22  23  24  25  26  27  28  29  30  31  32  33  34  35  36\n",
      "  37  38  39  40  41  42  43  44  45  46  47  48  49  50  51  52  53  54\n",
      "  55  56  57  58  59  60  61  62  63  64  65  66  67  68  69  70  71  72\n",
      "  73  74  75  76  77  78  79  80  81  82  83  84  85  86  87  88  89  90\n",
      "  91  92  93  94  95  96  97  98  99 100 101 102 103 104 105 106 107 108\n",
      " 109 110 111 112 113 114 115 116 117 118 119 120 121 122 123 124 125 126\n",
      " 127 128 129 130 131 132 133 134 135 136 137 138 139 140 141 142 143 144\n",
      " 145 146 147 148 149 150]\n"
     ]
    }
   ],
   "source": [
    "subs = np.arange(1,151)\n",
    "print(subs)"
   ]
  },
  {
   "cell_type": "code",
   "execution_count": 44,
   "metadata": {
    "ExecuteTime": {
     "end_time": "2021-05-20T20:38:42.560247Z",
     "start_time": "2021-05-20T20:38:40.702492Z"
    },
    "scrolled": true
   },
   "outputs": [
    {
     "name": "stdout",
     "output_type": "stream",
     "text": [
      "1 (15, 21)\n",
      "2 (15, 21)\n",
      "3 (15, 21)\n",
      "4 (15, 21)\n",
      "5 (15, 21)\n",
      "6 (15, 21)\n",
      "7 (15, 21)\n",
      "8 (15, 21)\n",
      "9 (15, 21)\n",
      "10 (15, 21)\n",
      "11 (15, 21)\n",
      "12 (15, 21)\n",
      "13 (15, 21)\n",
      "14 (15, 21)\n",
      "15 (15, 21)\n",
      "16 (15, 21)\n",
      "17 (15, 21)\n",
      "18 (15, 21)\n",
      "19 (15, 21)\n",
      "20 (15, 21)\n",
      "21 (15, 21)\n",
      "22 (15, 21)\n",
      "23 (15, 21)\n",
      "24 (15, 21)\n",
      "25 (15, 21)\n",
      "26 (15, 21)\n",
      "27 (15, 21)\n",
      "28 (15, 21)\n",
      "29 (15, 21)\n",
      "30 (15, 21)\n",
      "31 (15, 21)\n",
      "32 (15, 21)\n",
      "33 (15, 21)\n",
      "34 (15, 21)\n",
      "35 (15, 21)\n",
      "36 (15, 21)\n",
      "37 (15, 21)\n",
      "38 (15, 21)\n",
      "39 (15, 21)\n",
      "40 (15, 21)\n",
      "41 (15, 21)\n",
      "42 (15, 21)\n",
      "43 (15, 21)\n",
      "44 (15, 21)\n",
      "45 (15, 21)\n",
      "46 (15, 21)\n",
      "47 (15, 21)\n",
      "48 (15, 21)\n",
      "49 (15, 21)\n",
      "50 (15, 21)\n",
      "51 (15, 21)\n",
      "52 (15, 21)\n",
      "53 (15, 21)\n",
      "54 (15, 21)\n",
      "55 (15, 21)\n",
      "56 (15, 21)\n",
      "57 (15, 21)\n",
      "58 (15, 21)\n",
      "59 (15, 21)\n",
      "60 (15, 21)\n",
      "61 (15, 21)\n",
      "62 (15, 21)\n",
      "63 (15, 21)\n",
      "64 (15, 21)\n",
      "65 (15, 21)\n",
      "66 (15, 21)\n",
      "67 (15, 21)\n",
      "68 (15, 21)\n",
      "69 (15, 21)\n",
      "70 (15, 21)\n",
      "71 (15, 21)\n",
      "72 (15, 21)\n",
      "73 (15, 21)\n",
      "74 (15, 21)\n",
      "75 (15, 21)\n",
      "76 (15, 21)\n",
      "77 (15, 21)\n",
      "78 (15, 21)\n",
      "79 (15, 21)\n",
      "80 (15, 21)\n",
      "81 (15, 21)\n",
      "82 (15, 21)\n",
      "83 (15, 21)\n",
      "84 (15, 21)\n",
      "85 (15, 21)\n",
      "86 (15, 21)\n",
      "87 (15, 21)\n",
      "88 (15, 21)\n",
      "89 (15, 21)\n",
      "90 (15, 21)\n",
      "91 (15, 21)\n",
      "92 (15, 21)\n",
      "93 (15, 21)\n",
      "94 (15, 21)\n",
      "95 (15, 21)\n",
      "96 (15, 21)\n",
      "97 (15, 21)\n",
      "98 (15, 21)\n",
      "99 (15, 21)\n",
      "100 (15, 21)\n",
      "101 (15, 21)\n",
      "102 (15, 21)\n",
      "103 (15, 21)\n",
      "104 (15, 21)\n",
      "105 (15, 21)\n",
      "106 (15, 21)\n",
      "107 (15, 21)\n",
      "108 (15, 21)\n",
      "109 (15, 21)\n",
      "110 (15, 21)\n",
      "111 (15, 21)\n",
      "112 (15, 21)\n",
      "113 (15, 21)\n",
      "114 (15, 21)\n",
      "115 (15, 21)\n",
      "116 (15, 21)\n",
      "117 (15, 21)\n",
      "118 (15, 21)\n",
      "119 (15, 21)\n",
      "120 (15, 21)\n",
      "121 (15, 21)\n",
      "122 (15, 21)\n",
      "123 (15, 21)\n",
      "124 (15, 21)\n",
      "125 (15, 21)\n",
      "126 (15, 21)\n",
      "127 (15, 21)\n",
      "128 (15, 21)\n",
      "129 (15, 21)\n",
      "130 (15, 21)\n",
      "131 (15, 21)\n",
      "132 (15, 21)\n",
      "133 (15, 21)\n",
      "134 (15, 21)\n",
      "135 (15, 21)\n",
      "136 (15, 21)\n",
      "137 (15, 21)\n",
      "138 (15, 21)\n",
      "139 (15, 21)\n",
      "140 (15, 21)\n",
      "141 (15, 21)\n",
      "142 (15, 21)\n",
      "143 (15, 21)\n",
      "144 (15, 21)\n",
      "145 (15, 21)\n",
      "146 (15, 21)\n",
      "147 (15, 21)\n",
      "148 (15, 21)\n",
      "149 (15, 21)\n",
      "150 (15, 21)\n"
     ]
    }
   ],
   "source": [
    "all_dat = pd.DataFrame()\n",
    "for sub in subs:\n",
    "    path = results_dir + '%s/Results/results_%s/'%(model_type,date)\n",
    "    if model_type == 'BayesianIO':\n",
    "        fname_pattern = 'params_subInd-%i_subID-*_niter-%i_fitTo-%s.csv'%(\n",
    "            sub,niter,fitto)\n",
    "    else:\n",
    "        fname_pattern = 'subInd-%i_subID-*_fitto-%s_features-%s_gaze-%s_niter-%i_log.csv'%(\n",
    "                        sub, fitto, features, gaze, niter)\n",
    "    flist = glob.glob(path + fname_pattern)\n",
    "    if len(flist) == 0:\n",
    "        print('No results found for sub %i'%sub)\n",
    "    else:\n",
    "        sub_dat = pd.read_csv(flist[0])\n",
    "        if sub_dat.shape[0] is not 3:\n",
    "            print(sub,sub_dat.shape)\n",
    "        all_dat = all_dat.append(sub_dat)\n",
    "all_dat = all_dat.reset_index(drop=True)"
   ]
  },
  {
   "cell_type": "code",
   "execution_count": 45,
   "metadata": {
    "ExecuteTime": {
     "end_time": "2021-05-20T20:38:42.598283Z",
     "start_time": "2021-05-20T20:38:42.568386Z"
    }
   },
   "outputs": [
    {
     "data": {
      "text/html": [
       "<div>\n",
       "<style scoped>\n",
       "    .dataframe tbody tr th:only-of-type {\n",
       "        vertical-align: middle;\n",
       "    }\n",
       "\n",
       "    .dataframe tbody tr th {\n",
       "        vertical-align: top;\n",
       "    }\n",
       "\n",
       "    .dataframe thead th {\n",
       "        text-align: right;\n",
       "    }\n",
       "</style>\n",
       "<table border=\"1\" class=\"dataframe\">\n",
       "  <thead>\n",
       "    <tr style=\"text-align: right;\">\n",
       "      <th></th>\n",
       "      <th>sub_ind</th>\n",
       "      <th>sub_ID</th>\n",
       "      <th>fit_to</th>\n",
       "      <th>comb_index</th>\n",
       "      <th>comb</th>\n",
       "      <th>feature_names</th>\n",
       "      <th>asymm_LR</th>\n",
       "      <th>bounded_weights</th>\n",
       "      <th>gaze</th>\n",
       "      <th>LR_up</th>\n",
       "      <th>...</th>\n",
       "      <th>inv_temp</th>\n",
       "      <th>gaze_bias</th>\n",
       "      <th>feature_weight_1</th>\n",
       "      <th>feature_weight_2</th>\n",
       "      <th>feature_weight_3</th>\n",
       "      <th>feature_weight_4</th>\n",
       "      <th>cost_type</th>\n",
       "      <th>SSE</th>\n",
       "      <th>LL</th>\n",
       "      <th>BIC</th>\n",
       "    </tr>\n",
       "  </thead>\n",
       "  <tbody>\n",
       "    <tr>\n",
       "      <td>0</td>\n",
       "      <td>1</td>\n",
       "      <td>2003</td>\n",
       "      <td>choice_only</td>\n",
       "      <td>1</td>\n",
       "      <td>1</td>\n",
       "      <td>ExpVal</td>\n",
       "      <td>0</td>\n",
       "      <td>0</td>\n",
       "      <td>0</td>\n",
       "      <td>1.259</td>\n",
       "      <td>...</td>\n",
       "      <td>0.440</td>\n",
       "      <td>0.0</td>\n",
       "      <td>2.879</td>\n",
       "      <td>NaN</td>\n",
       "      <td>NaN</td>\n",
       "      <td>NaN</td>\n",
       "      <td>NLL</td>\n",
       "      <td>-999.0</td>\n",
       "      <td>-39.671</td>\n",
       "      <td>91.818</td>\n",
       "    </tr>\n",
       "    <tr>\n",
       "      <td>1</td>\n",
       "      <td>1</td>\n",
       "      <td>2003</td>\n",
       "      <td>choice_only</td>\n",
       "      <td>2</td>\n",
       "      <td>10</td>\n",
       "      <td>Risk</td>\n",
       "      <td>0</td>\n",
       "      <td>0</td>\n",
       "      <td>0</td>\n",
       "      <td>0.326</td>\n",
       "      <td>...</td>\n",
       "      <td>0.166</td>\n",
       "      <td>0.0</td>\n",
       "      <td>0.853</td>\n",
       "      <td>NaN</td>\n",
       "      <td>NaN</td>\n",
       "      <td>NaN</td>\n",
       "      <td>NLL</td>\n",
       "      <td>-999.0</td>\n",
       "      <td>-44.032</td>\n",
       "      <td>100.541</td>\n",
       "    </tr>\n",
       "    <tr>\n",
       "      <td>2</td>\n",
       "      <td>1</td>\n",
       "      <td>2003</td>\n",
       "      <td>choice_only</td>\n",
       "      <td>3</td>\n",
       "      <td>11</td>\n",
       "      <td>Risk_ExpVal</td>\n",
       "      <td>0</td>\n",
       "      <td>0</td>\n",
       "      <td>0</td>\n",
       "      <td>0.482</td>\n",
       "      <td>...</td>\n",
       "      <td>0.281</td>\n",
       "      <td>0.0</td>\n",
       "      <td>-0.505</td>\n",
       "      <td>2.927</td>\n",
       "      <td>NaN</td>\n",
       "      <td>NaN</td>\n",
       "      <td>NLL</td>\n",
       "      <td>-999.0</td>\n",
       "      <td>-41.300</td>\n",
       "      <td>99.236</td>\n",
       "    </tr>\n",
       "    <tr>\n",
       "      <td>3</td>\n",
       "      <td>1</td>\n",
       "      <td>2003</td>\n",
       "      <td>choice_only</td>\n",
       "      <td>4</td>\n",
       "      <td>100</td>\n",
       "      <td>Greed</td>\n",
       "      <td>0</td>\n",
       "      <td>0</td>\n",
       "      <td>0</td>\n",
       "      <td>1.365</td>\n",
       "      <td>...</td>\n",
       "      <td>0.433</td>\n",
       "      <td>0.0</td>\n",
       "      <td>4.566</td>\n",
       "      <td>NaN</td>\n",
       "      <td>NaN</td>\n",
       "      <td>NaN</td>\n",
       "      <td>NLL</td>\n",
       "      <td>-999.0</td>\n",
       "      <td>-33.584</td>\n",
       "      <td>79.644</td>\n",
       "    </tr>\n",
       "    <tr>\n",
       "      <td>4</td>\n",
       "      <td>1</td>\n",
       "      <td>2003</td>\n",
       "      <td>choice_only</td>\n",
       "      <td>5</td>\n",
       "      <td>101</td>\n",
       "      <td>Greed_ExpVal</td>\n",
       "      <td>0</td>\n",
       "      <td>0</td>\n",
       "      <td>0</td>\n",
       "      <td>0.880</td>\n",
       "      <td>...</td>\n",
       "      <td>0.491</td>\n",
       "      <td>0.0</td>\n",
       "      <td>3.470</td>\n",
       "      <td>1.125</td>\n",
       "      <td>NaN</td>\n",
       "      <td>NaN</td>\n",
       "      <td>NLL</td>\n",
       "      <td>-999.0</td>\n",
       "      <td>-32.646</td>\n",
       "      <td>81.928</td>\n",
       "    </tr>\n",
       "  </tbody>\n",
       "</table>\n",
       "<p>5 rows × 21 columns</p>\n",
       "</div>"
      ],
      "text/plain": [
       "   sub_ind  sub_ID       fit_to  comb_index  comb feature_names  asymm_LR  \\\n",
       "0        1    2003  choice_only           1     1        ExpVal         0   \n",
       "1        1    2003  choice_only           2    10          Risk         0   \n",
       "2        1    2003  choice_only           3    11   Risk_ExpVal         0   \n",
       "3        1    2003  choice_only           4   100         Greed         0   \n",
       "4        1    2003  choice_only           5   101  Greed_ExpVal         0   \n",
       "\n",
       "   bounded_weights  gaze  LR_up  ...  inv_temp  gaze_bias  feature_weight_1  \\\n",
       "0                0     0  1.259  ...     0.440        0.0             2.879   \n",
       "1                0     0  0.326  ...     0.166        0.0             0.853   \n",
       "2                0     0  0.482  ...     0.281        0.0            -0.505   \n",
       "3                0     0  1.365  ...     0.433        0.0             4.566   \n",
       "4                0     0  0.880  ...     0.491        0.0             3.470   \n",
       "\n",
       "   feature_weight_2  feature_weight_3  feature_weight_4  cost_type    SSE  \\\n",
       "0               NaN               NaN               NaN        NLL -999.0   \n",
       "1               NaN               NaN               NaN        NLL -999.0   \n",
       "2             2.927               NaN               NaN        NLL -999.0   \n",
       "3               NaN               NaN               NaN        NLL -999.0   \n",
       "4             1.125               NaN               NaN        NLL -999.0   \n",
       "\n",
       "       LL      BIC  \n",
       "0 -39.671   91.818  \n",
       "1 -44.032  100.541  \n",
       "2 -41.300   99.236  \n",
       "3 -33.584   79.644  \n",
       "4 -32.646   81.928  \n",
       "\n",
       "[5 rows x 21 columns]"
      ]
     },
     "execution_count": 45,
     "metadata": {},
     "output_type": "execute_result"
    }
   ],
   "source": [
    "# all_dat = all_dat.replace({\"SE\":\"SSE\"})\n",
    "all_dat.head()"
   ]
  },
  {
   "cell_type": "code",
   "execution_count": 46,
   "metadata": {
    "ExecuteTime": {
     "end_time": "2021-05-20T20:38:47.062084Z",
     "start_time": "2021-05-20T20:38:47.055047Z"
    }
   },
   "outputs": [
    {
     "data": {
      "text/plain": [
       "(2250, 21)"
      ]
     },
     "execution_count": 46,
     "metadata": {},
     "output_type": "execute_result"
    }
   ],
   "source": [
    "all_dat.shape"
   ]
  },
  {
   "cell_type": "code",
   "execution_count": 48,
   "metadata": {
    "ExecuteTime": {
     "end_time": "2021-05-20T20:38:54.766099Z",
     "start_time": "2021-05-20T20:38:54.623638Z"
    },
    "scrolled": true
   },
   "outputs": [
    {
     "name": "stdout",
     "output_type": "stream",
     "text": [
      "Saving to /gpfs/home/jvanbaar/data/jvanbaar/SOC_STRUCT_LEARN/ComputationalModel/FeatureRL/Results/results_2021-05-19/FeatureRL_CoGrRiEV_2021-05-19_fitto-choice_only_gaze-false_niter-10.csv\n"
     ]
    }
   ],
   "source": [
    "if model_type == \"FeatureRL\":\n",
    "    mtstring = model_type + '_' + features\n",
    "elif model_type == \"BayesianIO\":\n",
    "    mtstring = model_type\n",
    "f_out = results_dir + model_type + '/Results/results_%s/'%date + '%s_%s_fitto-%s_gaze-%s_niter-%i.csv'%(\n",
    "    mtstring, date,fitto,gaze,niter)\n",
    "print('Saving to %s'%f_out)\n",
    "all_dat.to_csv(f_out)"
   ]
  },
  {
   "cell_type": "markdown",
   "metadata": {},
   "source": [
    "## Some scraps for analysis of bayesian category learner"
   ]
  },
  {
   "cell_type": "code",
   "execution_count": 12,
   "metadata": {
    "ExecuteTime": {
     "end_time": "2021-05-15T19:28:43.096256Z",
     "start_time": "2021-05-15T19:28:40.082849Z"
    }
   },
   "outputs": [
    {
     "data": {
      "text/plain": [
       "<matplotlib.axes._subplots.AxesSubplot at 0x7f7c5103f128>"
      ]
     },
     "execution_count": 12,
     "metadata": {},
     "output_type": "execute_result"
    },
    {
     "data": {
      "image/png": "[encoded data removed]",
      "text/plain": [
       "<Figure size 432x288 with 1 Axes>"
      ]
     },
     "metadata": {
      "needs_background": "light"
     },
     "output_type": "display_data"
    }
   ],
   "source": [
    "%matplotlib inline\n",
    "import seaborn as sns\n",
    "\n",
    "sns.barplot(data = all_dat.loc[all_dat['BIC']<400,:], x = 'classSet', y = 'BIC', alpha = .5)\n",
    "sns.stripplot(data = all_dat.loc[all_dat['BIC']<400,:], x = 'classSet', y = 'BIC', alpha = .5)\n",
    "sns.barplot(data = all_dat.loc[all_dat['BIC']<400,:], x = 'classSet', y = 'BIC', alpha = 0, errwidth = 1, capsize=.1)"
   ]
  },
  {
   "cell_type": "code",
   "execution_count": 13,
   "metadata": {
    "ExecuteTime": {
     "end_time": "2021-05-15T19:28:47.890838Z",
     "start_time": "2021-05-15T19:28:47.579301Z"
    }
   },
   "outputs": [
    {
     "data": {
      "text/plain": [
       "<matplotlib.axes._subplots.AxesSubplot at 0x7f7c4ef32390>"
      ]
     },
     "execution_count": 13,
     "metadata": {},
     "output_type": "execute_result"
    },
    {
     "data": {
      "image/png": "[encoded data removed]",
      "text/plain": [
       "<Figure size 432x288 with 1 Axes>"
      ]
     },
     "metadata": {
      "needs_background": "light"
     },
     "output_type": "display_data"
    }
   ],
   "source": [
    "all_dat.query('classSet == \"players\"')['BIC'].plot()\n",
    "all_dat.query('classSet == \"motives\"')['BIC'].plot()\n",
    "all_dat.query('classSet == \"poncela\"')['BIC'].plot()"
   ]
  },
  {
   "cell_type": "code",
   "execution_count": 14,
   "metadata": {
    "ExecuteTime": {
     "end_time": "2021-05-15T19:28:50.932082Z",
     "start_time": "2021-05-15T19:28:50.901423Z"
    }
   },
   "outputs": [
    {
     "data": {
      "text/html": [
       "<div>\n",
       "<style scoped>\n",
       "    .dataframe tbody tr th:only-of-type {\n",
       "        vertical-align: middle;\n",
       "    }\n",
       "\n",
       "    .dataframe tbody tr th {\n",
       "        vertical-align: top;\n",
       "    }\n",
       "\n",
       "    .dataframe thead th {\n",
       "        text-align: right;\n",
       "    }\n",
       "</style>\n",
       "<table border=\"1\" class=\"dataframe\">\n",
       "  <thead>\n",
       "    <tr style=\"text-align: right;\">\n",
       "      <th></th>\n",
       "      <th>subID</th>\n",
       "      <th>fitTo</th>\n",
       "      <th>classSet</th>\n",
       "      <th>prior1</th>\n",
       "      <th>prior2</th>\n",
       "      <th>prior3</th>\n",
       "      <th>prior4</th>\n",
       "      <th>noise</th>\n",
       "      <th>costType</th>\n",
       "      <th>costVal</th>\n",
       "      <th>BIC</th>\n",
       "    </tr>\n",
       "  </thead>\n",
       "  <tbody>\n",
       "    <tr>\n",
       "      <td>0</td>\n",
       "      <td>2003</td>\n",
       "      <td>joint</td>\n",
       "      <td>players</td>\n",
       "      <td>0.9599</td>\n",
       "      <td>0.0291</td>\n",
       "      <td>0.0100</td>\n",
       "      <td>0.5233</td>\n",
       "      <td>83.0</td>\n",
       "      <td>SE</td>\n",
       "      <td>3.698</td>\n",
       "      <td>16.394</td>\n",
       "    </tr>\n",
       "    <tr>\n",
       "      <td>1</td>\n",
       "      <td>2003</td>\n",
       "      <td>joint</td>\n",
       "      <td>motives</td>\n",
       "      <td>0.6546</td>\n",
       "      <td>0.3320</td>\n",
       "      <td>0.0001</td>\n",
       "      <td>0.4371</td>\n",
       "      <td>83.0</td>\n",
       "      <td>SE</td>\n",
       "      <td>3.361</td>\n",
       "      <td>9.680</td>\n",
       "    </tr>\n",
       "    <tr>\n",
       "      <td>2</td>\n",
       "      <td>2003</td>\n",
       "      <td>joint</td>\n",
       "      <td>poncela</td>\n",
       "      <td>0.6700</td>\n",
       "      <td>0.3126</td>\n",
       "      <td>0.0000</td>\n",
       "      <td>0.4175</td>\n",
       "      <td>83.0</td>\n",
       "      <td>SE</td>\n",
       "      <td>3.343</td>\n",
       "      <td>9.341</td>\n",
       "    </tr>\n",
       "    <tr>\n",
       "      <td>3</td>\n",
       "      <td>2004</td>\n",
       "      <td>joint</td>\n",
       "      <td>players</td>\n",
       "      <td>0.9987</td>\n",
       "      <td>0.0003</td>\n",
       "      <td>0.0000</td>\n",
       "      <td>0.4284</td>\n",
       "      <td>83.0</td>\n",
       "      <td>SE</td>\n",
       "      <td>3.980</td>\n",
       "      <td>20.612</td>\n",
       "    </tr>\n",
       "    <tr>\n",
       "      <td>4</td>\n",
       "      <td>2004</td>\n",
       "      <td>joint</td>\n",
       "      <td>motives</td>\n",
       "      <td>0.3433</td>\n",
       "      <td>0.6549</td>\n",
       "      <td>0.0006</td>\n",
       "      <td>0.4490</td>\n",
       "      <td>83.0</td>\n",
       "      <td>SE</td>\n",
       "      <td>4.120</td>\n",
       "      <td>22.705</td>\n",
       "    </tr>\n",
       "    <tr>\n",
       "      <td>...</td>\n",
       "      <td>...</td>\n",
       "      <td>...</td>\n",
       "      <td>...</td>\n",
       "      <td>...</td>\n",
       "      <td>...</td>\n",
       "      <td>...</td>\n",
       "      <td>...</td>\n",
       "      <td>...</td>\n",
       "      <td>...</td>\n",
       "      <td>...</td>\n",
       "      <td>...</td>\n",
       "    </tr>\n",
       "    <tr>\n",
       "      <td>439</td>\n",
       "      <td>3026</td>\n",
       "      <td>joint</td>\n",
       "      <td>motives</td>\n",
       "      <td>0.1579</td>\n",
       "      <td>0.2757</td>\n",
       "      <td>0.0000</td>\n",
       "      <td>0.5050</td>\n",
       "      <td>83.0</td>\n",
       "      <td>SE</td>\n",
       "      <td>3.535</td>\n",
       "      <td>12.937</td>\n",
       "    </tr>\n",
       "    <tr>\n",
       "      <td>440</td>\n",
       "      <td>3026</td>\n",
       "      <td>joint</td>\n",
       "      <td>poncela</td>\n",
       "      <td>0.0053</td>\n",
       "      <td>0.9937</td>\n",
       "      <td>0.0000</td>\n",
       "      <td>0.6058</td>\n",
       "      <td>83.0</td>\n",
       "      <td>SE</td>\n",
       "      <td>3.920</td>\n",
       "      <td>19.865</td>\n",
       "    </tr>\n",
       "    <tr>\n",
       "      <td>441</td>\n",
       "      <td>4000</td>\n",
       "      <td>joint</td>\n",
       "      <td>players</td>\n",
       "      <td>0.5219</td>\n",
       "      <td>0.4769</td>\n",
       "      <td>0.0001</td>\n",
       "      <td>0.4738</td>\n",
       "      <td>83.0</td>\n",
       "      <td>SE</td>\n",
       "      <td>4.715</td>\n",
       "      <td>31.338</td>\n",
       "    </tr>\n",
       "    <tr>\n",
       "      <td>442</td>\n",
       "      <td>4000</td>\n",
       "      <td>joint</td>\n",
       "      <td>motives</td>\n",
       "      <td>0.0023</td>\n",
       "      <td>0.0000</td>\n",
       "      <td>0.0013</td>\n",
       "      <td>0.4062</td>\n",
       "      <td>83.0</td>\n",
       "      <td>SE</td>\n",
       "      <td>4.344</td>\n",
       "      <td>26.093</td>\n",
       "    </tr>\n",
       "    <tr>\n",
       "      <td>443</td>\n",
       "      <td>4000</td>\n",
       "      <td>joint</td>\n",
       "      <td>poncela</td>\n",
       "      <td>0.0599</td>\n",
       "      <td>0.3212</td>\n",
       "      <td>0.2427</td>\n",
       "      <td>0.4642</td>\n",
       "      <td>83.0</td>\n",
       "      <td>SE</td>\n",
       "      <td>4.817</td>\n",
       "      <td>32.717</td>\n",
       "    </tr>\n",
       "  </tbody>\n",
       "</table>\n",
       "<p>444 rows × 11 columns</p>\n",
       "</div>"
      ],
      "text/plain": [
       "     subID  fitTo classSet  prior1  prior2  prior3  prior4  noise costType  \\\n",
       "0     2003  joint  players  0.9599  0.0291  0.0100  0.5233   83.0       SE   \n",
       "1     2003  joint  motives  0.6546  0.3320  0.0001  0.4371   83.0       SE   \n",
       "2     2003  joint  poncela  0.6700  0.3126  0.0000  0.4175   83.0       SE   \n",
       "3     2004  joint  players  0.9987  0.0003  0.0000  0.4284   83.0       SE   \n",
       "4     2004  joint  motives  0.3433  0.6549  0.0006  0.4490   83.0       SE   \n",
       "..     ...    ...      ...     ...     ...     ...     ...    ...      ...   \n",
       "439   3026  joint  motives  0.1579  0.2757  0.0000  0.5050   83.0       SE   \n",
       "440   3026  joint  poncela  0.0053  0.9937  0.0000  0.6058   83.0       SE   \n",
       "441   4000  joint  players  0.5219  0.4769  0.0001  0.4738   83.0       SE   \n",
       "442   4000  joint  motives  0.0023  0.0000  0.0013  0.4062   83.0       SE   \n",
       "443   4000  joint  poncela  0.0599  0.3212  0.2427  0.4642   83.0       SE   \n",
       "\n",
       "     costVal     BIC  \n",
       "0      3.698  16.394  \n",
       "1      3.361   9.680  \n",
       "2      3.343   9.341  \n",
       "3      3.980  20.612  \n",
       "4      4.120  22.705  \n",
       "..       ...     ...  \n",
       "439    3.535  12.937  \n",
       "440    3.920  19.865  \n",
       "441    4.715  31.338  \n",
       "442    4.344  26.093  \n",
       "443    4.817  32.717  \n",
       "\n",
       "[444 rows x 11 columns]"
      ]
     },
     "execution_count": 14,
     "metadata": {},
     "output_type": "execute_result"
    }
   ],
   "source": [
    "all_dat"
   ]
  },
  {
   "cell_type": "code",
   "execution_count": 16,
   "metadata": {
    "ExecuteTime": {
     "end_time": "2021-05-15T19:31:38.162991Z",
     "start_time": "2021-05-15T19:31:37.904919Z"
    }
   },
   "outputs": [
    {
     "data": {
      "text/plain": [
       "<matplotlib.axes._subplots.AxesSubplot at 0x7f7c5b7c6748>"
      ]
     },
     "execution_count": 16,
     "metadata": {},
     "output_type": "execute_result"
    },
    {
     "data": {
      "image/png": "[encoded data removed]",
      "text/plain": [
       "<Figure size 432x288 with 1 Axes>"
      ]
     },
     "metadata": {
      "needs_background": "light"
     },
     "output_type": "display_data"
    }
   ],
   "source": [
    "all_dat['prior4'].hist()"
   ]
  },
  {
   "cell_type": "code",
   "execution_count": null,
   "metadata": {},
   "outputs": [],
   "source": []
  }
 ],
 "metadata": {
  "kernelspec": {
   "display_name": "Python 3",
   "language": "python",
   "name": "python3"
  },
  "language_info": {
   "codemirror_mode": {
    "name": "ipython",
    "version": 3
   },
   "file_extension": ".py",
   "mimetype": "text/x-python",
   "name": "python",
   "nbconvert_exporter": "python",
   "pygments_lexer": "ipython3",
   "version": "3.6.9"
  }
 },
 "nbformat": 4,
 "nbformat_minor": 2
}
