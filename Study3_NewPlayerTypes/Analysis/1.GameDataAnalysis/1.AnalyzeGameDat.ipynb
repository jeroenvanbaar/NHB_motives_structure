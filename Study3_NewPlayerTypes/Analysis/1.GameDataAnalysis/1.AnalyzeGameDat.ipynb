{
 "cells": [
  {
   "cell_type": "code",
   "execution_count": 1,
   "metadata": {},
   "outputs": [],
   "source": [
    "import sys, os, glob, scipy, sqlite3, json, matplotlib#, pymer4\n",
    "import pandas as pd\n",
    "import numpy as np\n",
    "import matplotlib.pyplot as plt\n",
    "import seaborn as sns\n",
    "import scipy.stats as ss\n",
    "import matplotlib.ticker as mtick"
   ]
  },
  {
   "cell_type": "markdown",
   "metadata": {},
   "source": [
    "## Functions with stats"
   ]
  },
  {
   "cell_type": "code",
   "execution_count": 2,
   "metadata": {},
   "outputs": [],
   "source": [
    "def ttest_1samp(dat, popmean = .5, verbose = True):\n",
    "    if verbose:\n",
    "        print('SD: ',np.std(dat))\n",
    "        print('Stats:')\n",
    "    stats = scipy.stats.ttest_1samp(dat, popmean = popmean)\n",
    "    if verbose:\n",
    "        print(stats)\n",
    "        print('Cohen d:')\n",
    "    coh_d = (np.mean(dat) - popmean)/np.std(dat)\n",
    "    if verbose:\n",
    "        print(coh_d)\n",
    "    return(stats, coh_d)"
   ]
  },
  {
   "cell_type": "code",
   "execution_count": 3,
   "metadata": {},
   "outputs": [],
   "source": [
    "def ttest_2samp(dat1, dat2):\n",
    "    print('SD dat 1: ',np.std(dat1))\n",
    "    print('SD dat 2: ',np.std(dat2))\n",
    "    print('Stats:')\n",
    "    stats = scipy.stats.ttest_ind(dat1, dat2)\n",
    "    print(stats)\n",
    "    print('Cohen d:')\n",
    "    nx = len(dat1)\n",
    "    ny = len(dat2)\n",
    "    dof = nx + ny - 2\n",
    "    coh_d = ((np.mean(dat1) - np.mean(dat2)) /\n",
    "             np.sqrt(((nx-1)*np.std(dat1, ddof=1) ** 2 + (ny-1)*np.std(y, ddof=1) ** 2) / dof))\n",
    "    print(coh_d)\n",
    "    return(stats, coh_d)"
   ]
  },
  {
   "cell_type": "markdown",
   "metadata": {},
   "source": [
    "## Design"
   ]
  },
  {
   "cell_type": "code",
   "execution_count": 4,
   "metadata": {},
   "outputs": [],
   "source": [
    "sns.set(palette = 'tab10', style = 'white', font = 'arial', context = 'notebook')"
   ]
  },
  {
   "cell_type": "markdown",
   "metadata": {},
   "source": [
    "### Load data"
   ]
  },
  {
   "cell_type": "code",
   "execution_count": 5,
   "metadata": {},
   "outputs": [
    {
     "name": "stdout",
     "output_type": "stream",
     "text": [
      "/Users/jeroen/Dropbox (Brown)/Postdoc FHL/JEROEN/SOC_STRUCT_LEARN/Code_share/NHB_motives_structure/Study3_NewPlayerTypes\n"
     ]
    }
   ],
   "source": [
    "a = !pwd\n",
    "baseDir = '/'.join(a[0].split('/')[0:-2])\n",
    "print(baseDir)\n",
    "sys.path.append('/'.join(a[0].split('/')[:4])+'/Python')\n",
    "import FigureTools"
   ]
  },
  {
   "cell_type": "code",
   "execution_count": 6,
   "metadata": {},
   "outputs": [
    {
     "data": {
      "text/html": [
       "<div>\n",
       "<style scoped>\n",
       "    .dataframe tbody tr th:only-of-type {\n",
       "        vertical-align: middle;\n",
       "    }\n",
       "\n",
       "    .dataframe tbody tr th {\n",
       "        vertical-align: top;\n",
       "    }\n",
       "\n",
       "    .dataframe thead th {\n",
       "        text-align: right;\n",
       "    }\n",
       "</style>\n",
       "<table border=\"1\" class=\"dataframe\">\n",
       "  <thead>\n",
       "    <tr style=\"text-align: right;\">\n",
       "      <th></th>\n",
       "      <th>sub</th>\n",
       "      <th>subID</th>\n",
       "      <th>worker</th>\n",
       "      <th>assignment</th>\n",
       "      <th>Block</th>\n",
       "      <th>Player</th>\n",
       "      <th>Type</th>\n",
       "      <th>Variant</th>\n",
       "      <th>Type_Total</th>\n",
       "      <th>Trial</th>\n",
       "      <th>...</th>\n",
       "      <th>GameType</th>\n",
       "      <th>Colors</th>\n",
       "      <th>CorrAns</th>\n",
       "      <th>GivenAns</th>\n",
       "      <th>Confidence</th>\n",
       "      <th>Score</th>\n",
       "      <th>ScoreCumulBlock</th>\n",
       "      <th>RT_radio</th>\n",
       "      <th>RT_submit</th>\n",
       "      <th>SelfReport</th>\n",
       "    </tr>\n",
       "  </thead>\n",
       "  <tbody>\n",
       "    <tr>\n",
       "      <td>0</td>\n",
       "      <td>1</td>\n",
       "      <td>6001</td>\n",
       "      <td>AQT5PKG39SJJM</td>\n",
       "      <td>3KAKFY4PGVUG37QYGCWJI5QD8KEI3D</td>\n",
       "      <td>0</td>\n",
       "      <td>n.a.</td>\n",
       "      <td>pess</td>\n",
       "      <td>nat</td>\n",
       "      <td>pess_nat</td>\n",
       "      <td>0</td>\n",
       "      <td>...</td>\n",
       "      <td>SG</td>\n",
       "      <td>n.a.</td>\n",
       "      <td>coop</td>\n",
       "      <td>coop</td>\n",
       "      <td>50.0</td>\n",
       "      <td>1</td>\n",
       "      <td>1</td>\n",
       "      <td>34851.0</td>\n",
       "      <td>38989.0</td>\n",
       "      <td>n.a.</td>\n",
       "    </tr>\n",
       "    <tr>\n",
       "      <td>1</td>\n",
       "      <td>1</td>\n",
       "      <td>6001</td>\n",
       "      <td>AQT5PKG39SJJM</td>\n",
       "      <td>3KAKFY4PGVUG37QYGCWJI5QD8KEI3D</td>\n",
       "      <td>0</td>\n",
       "      <td>n.a.</td>\n",
       "      <td>pess</td>\n",
       "      <td>nat</td>\n",
       "      <td>pess_nat</td>\n",
       "      <td>1</td>\n",
       "      <td>...</td>\n",
       "      <td>PD</td>\n",
       "      <td>n.a.</td>\n",
       "      <td>def</td>\n",
       "      <td>def</td>\n",
       "      <td>50.0</td>\n",
       "      <td>1</td>\n",
       "      <td>2</td>\n",
       "      <td>20870.0</td>\n",
       "      <td>24642.0</td>\n",
       "      <td>n.a.</td>\n",
       "    </tr>\n",
       "    <tr>\n",
       "      <td>2</td>\n",
       "      <td>1</td>\n",
       "      <td>6001</td>\n",
       "      <td>AQT5PKG39SJJM</td>\n",
       "      <td>3KAKFY4PGVUG37QYGCWJI5QD8KEI3D</td>\n",
       "      <td>0</td>\n",
       "      <td>n.a.</td>\n",
       "      <td>pess</td>\n",
       "      <td>nat</td>\n",
       "      <td>pess_nat</td>\n",
       "      <td>2</td>\n",
       "      <td>...</td>\n",
       "      <td>SH</td>\n",
       "      <td>n.a.</td>\n",
       "      <td>def</td>\n",
       "      <td>def</td>\n",
       "      <td>50.0</td>\n",
       "      <td>1</td>\n",
       "      <td>3</td>\n",
       "      <td>7268.0</td>\n",
       "      <td>9664.0</td>\n",
       "      <td>n.a.</td>\n",
       "    </tr>\n",
       "    <tr>\n",
       "      <td>3</td>\n",
       "      <td>1</td>\n",
       "      <td>6001</td>\n",
       "      <td>AQT5PKG39SJJM</td>\n",
       "      <td>3KAKFY4PGVUG37QYGCWJI5QD8KEI3D</td>\n",
       "      <td>0</td>\n",
       "      <td>n.a.</td>\n",
       "      <td>pess</td>\n",
       "      <td>nat</td>\n",
       "      <td>pess_nat</td>\n",
       "      <td>3</td>\n",
       "      <td>...</td>\n",
       "      <td>HG</td>\n",
       "      <td>n.a.</td>\n",
       "      <td>coop</td>\n",
       "      <td>coop</td>\n",
       "      <td>70.0</td>\n",
       "      <td>1</td>\n",
       "      <td>4</td>\n",
       "      <td>8997.0</td>\n",
       "      <td>11736.0</td>\n",
       "      <td>n.a.</td>\n",
       "    </tr>\n",
       "    <tr>\n",
       "      <td>4</td>\n",
       "      <td>1</td>\n",
       "      <td>6001</td>\n",
       "      <td>AQT5PKG39SJJM</td>\n",
       "      <td>3KAKFY4PGVUG37QYGCWJI5QD8KEI3D</td>\n",
       "      <td>0</td>\n",
       "      <td>n.a.</td>\n",
       "      <td>pess</td>\n",
       "      <td>nat</td>\n",
       "      <td>pess_nat</td>\n",
       "      <td>4</td>\n",
       "      <td>...</td>\n",
       "      <td>SG</td>\n",
       "      <td>n.a.</td>\n",
       "      <td>coop</td>\n",
       "      <td>coop</td>\n",
       "      <td>60.0</td>\n",
       "      <td>1</td>\n",
       "      <td>5</td>\n",
       "      <td>5880.0</td>\n",
       "      <td>8617.0</td>\n",
       "      <td>n.a.</td>\n",
       "    </tr>\n",
       "  </tbody>\n",
       "</table>\n",
       "<p>5 rows × 22 columns</p>\n",
       "</div>"
      ],
      "text/plain": [
       "   sub  subID         worker                      assignment  Block Player  \\\n",
       "0    1   6001  AQT5PKG39SJJM  3KAKFY4PGVUG37QYGCWJI5QD8KEI3D      0   n.a.   \n",
       "1    1   6001  AQT5PKG39SJJM  3KAKFY4PGVUG37QYGCWJI5QD8KEI3D      0   n.a.   \n",
       "2    1   6001  AQT5PKG39SJJM  3KAKFY4PGVUG37QYGCWJI5QD8KEI3D      0   n.a.   \n",
       "3    1   6001  AQT5PKG39SJJM  3KAKFY4PGVUG37QYGCWJI5QD8KEI3D      0   n.a.   \n",
       "4    1   6001  AQT5PKG39SJJM  3KAKFY4PGVUG37QYGCWJI5QD8KEI3D      0   n.a.   \n",
       "\n",
       "   Type Variant Type_Total  Trial  ...  GameType  Colors CorrAns GivenAns  \\\n",
       "0  pess     nat   pess_nat      0  ...        SG    n.a.    coop     coop   \n",
       "1  pess     nat   pess_nat      1  ...        PD    n.a.     def      def   \n",
       "2  pess     nat   pess_nat      2  ...        SH    n.a.     def      def   \n",
       "3  pess     nat   pess_nat      3  ...        HG    n.a.    coop     coop   \n",
       "4  pess     nat   pess_nat      4  ...        SG    n.a.    coop     coop   \n",
       "\n",
       "  Confidence Score  ScoreCumulBlock  RT_radio  RT_submit  SelfReport  \n",
       "0       50.0     1                1   34851.0    38989.0        n.a.  \n",
       "1       50.0     1                2   20870.0    24642.0        n.a.  \n",
       "2       50.0     1                3    7268.0     9664.0        n.a.  \n",
       "3       70.0     1                4    8997.0    11736.0        n.a.  \n",
       "4       60.0     1                5    5880.0     8617.0        n.a.  \n",
       "\n",
       "[5 rows x 22 columns]"
      ]
     },
     "execution_count": 6,
     "metadata": {},
     "output_type": "execute_result"
    }
   ],
   "source": [
    "gameDat = pd.read_csv(baseDir+'/Data/Cleaned/gameDat_study4.csv',index_col=0)\n",
    "gameDat = gameDat.rename(columns = {'ConfidenceNum':'Confidence','ScoreNum':'Score'})\n",
    "gameDat.head()"
   ]
  },
  {
   "cell_type": "markdown",
   "metadata": {},
   "source": [
    "##### Exclude workers with no survey data, as these did not reach the end of the experiment"
   ]
  },
  {
   "cell_type": "code",
   "execution_count": 8,
   "metadata": {
    "scrolled": true
   },
   "outputs": [
    {
     "data": {
      "text/plain": [
       "['AQT5PKG39SJJM',\n",
       " 'A3HE29W5IDR394',\n",
       " 'A2GXLM74C7BDI8',\n",
       " 'AC75J5UN6DOKB',\n",
       " 'A1TLNLB9D87H6']"
      ]
     },
     "execution_count": 8,
     "metadata": {},
     "output_type": "execute_result"
    }
   ],
   "source": [
    "workers_nosurvey = pd.read_csv(baseDir+'/Data/Cleaned/workers_without_survey.csv',index_col=0)['worker'].tolist()\n",
    "workers_nosurvey"
   ]
  },
  {
   "cell_type": "code",
   "execution_count": 9,
   "metadata": {},
   "outputs": [
    {
     "data": {
      "text/plain": [
       "[0, 15, 22, 41, 119]"
      ]
     },
     "execution_count": 9,
     "metadata": {},
     "output_type": "execute_result"
    }
   ],
   "source": [
    "[i for i in range(153) if gameDat['worker'].unique()[i] in workers_nosurvey]"
   ]
  },
  {
   "cell_type": "code",
   "execution_count": 12,
   "metadata": {},
   "outputs": [],
   "source": [
    "gameDat = gameDat.loc[~gameDat['worker'].isin(workers_nosurvey),:].copy().reset_index(drop=True)"
   ]
  },
  {
   "cell_type": "code",
   "execution_count": 13,
   "metadata": {},
   "outputs": [
    {
     "name": "stdout",
     "output_type": "stream",
     "text": [
      "148 participants found\n"
     ]
    }
   ],
   "source": [
    "print('%i participants found'%len(gameDat['subID'].unique()))"
   ]
  },
  {
   "cell_type": "code",
   "execution_count": 14,
   "metadata": {},
   "outputs": [],
   "source": [
    "gtOrder = ['HG','SG','SH','PD']\n",
    "# roundOrder = range(4)\n",
    "ptOrder = ['trust','opt','pess','env']\n",
    "# ptLong = ['Trustful','Optimist','Pessimist','Envious']\n",
    "ptLong = ['Cooperative','Greedy','Risk-Averse','Envious']"
   ]
  },
  {
   "cell_type": "markdown",
   "metadata": {},
   "source": [
    "## Overall performance by player type"
   ]
  },
  {
   "cell_type": "code",
   "execution_count": 15,
   "metadata": {},
   "outputs": [
    {
     "data": {
      "image/png": "[encoded data removed]",
      "text/plain": [
       "<Figure size 432x360 with 1 Axes>"
      ]
     },
     "metadata": {},
     "output_type": "display_data"
    }
   ],
   "source": [
    "sns.set(context = 'talk', style = 'white', font = 'arial')\n",
    "overallDat = gameDat[['subID','Type_Total','Type','Variant','Confidence','Score']\n",
    "                  ].groupby(['subID']).mean().reset_index()\n",
    "fig, ax = plt.subplots(1,1,figsize=[6,5])\n",
    "sns.barplot(data=overallDat,y='Score', ax=ax, errwidth = 2, capsize=.05,\n",
    "            alpha=0)\n",
    "sns.swarmplot(data=overallDat,y='Score', ax=ax,\n",
    "            alpha=.3, color = 'k')\n",
    "ax.plot([-5,5],[.5,.5], 'k--', lw=2)\n",
    "ax.set(xlabel = None, yticks = [0,.25,.5,.75,1],\n",
    "       ylabel = 'Accuracy');\n",
    "stats = scipy.stats.ttest_1samp(overallDat['Score'].values, 0.5)\n",
    "FigureTools.add_sig_markers(ax, relationships=[[0,0,stats[1]]])\n",
    "sns.despine(top=True,right=True)\n",
    "ax.spines['left'].set_bounds(0,1)\n",
    "ax.set_ylim([0,1.4])\n",
    "ax.yaxis.set_major_formatter(mtick.PercentFormatter(xmax=1))"
   ]
  },
  {
   "cell_type": "code",
   "execution_count": 16,
   "metadata": {},
   "outputs": [
    {
     "data": {
      "text/plain": [
       "count    148.000000\n",
       "mean       0.737542\n",
       "std        0.088218\n",
       "min        0.453125\n",
       "25%        0.703125\n",
       "50%        0.750000\n",
       "75%        0.796875\n",
       "max        0.937500\n",
       "Name: Score, dtype: float64"
      ]
     },
     "execution_count": 16,
     "metadata": {},
     "output_type": "execute_result"
    }
   ],
   "source": [
    "overallDat['Score'].describe()"
   ]
  },
  {
   "cell_type": "code",
   "execution_count": 17,
   "metadata": {},
   "outputs": [
    {
     "name": "stdout",
     "output_type": "stream",
     "text": [
      "SD:  0.08791977199621336\n",
      "Stats:\n",
      "Ttest_1sampResult(statistic=32.757665431271505, pvalue=1.9665640491865558e-69)\n",
      "Cohen d:\n",
      "2.7018067078240433\n"
     ]
    }
   ],
   "source": [
    "ttest_1samp(overallDat['Score'].values);"
   ]
  },
  {
   "cell_type": "code",
   "execution_count": 18,
   "metadata": {},
   "outputs": [
    {
     "data": {
      "text/plain": [
       "WilcoxonResult(statistic=6.5, pvalue=7.651285940303821e-26)"
      ]
     },
     "execution_count": 18,
     "metadata": {},
     "output_type": "execute_result"
    }
   ],
   "source": [
    "scipy.stats.wilcoxon(overallDat['Score'].values-0.5)"
   ]
  },
  {
   "cell_type": "markdown",
   "metadata": {},
   "source": [
    "##### All conditions"
   ]
  },
  {
   "cell_type": "code",
   "execution_count": 19,
   "metadata": {},
   "outputs": [
    {
     "data": {
      "image/png": "[encoded data removed]",
      "text/plain": [
       "<Figure size 864x288 with 1 Axes>"
      ]
     },
     "metadata": {},
     "output_type": "display_data"
    }
   ],
   "source": [
    "sns.set_context('talk')\n",
    "# sns.set_palette('tab10',4)\n",
    "blockDat = gameDat[['subID','Type','Confidence','Score']\n",
    "                  ].groupby(['subID','Type']).mean().reset_index()\n",
    "fig, ax = plt.subplots(1,1,figsize=[12,4])\n",
    "# sns.barplot(data=blockDat,x='Type',y='Score', ax=ax,\n",
    "#             order=ptOrder,alpha=.5, errwidth = 0, zorder = 1)\n",
    "sns.stripplot(data=blockDat,x='Type',y='Score', ax=ax,\n",
    "            order=ptOrder, size=6, jitter = 0.2, color = 'k',\n",
    "              linewidth =0, alpha = .2, zorder = 2)\n",
    "# sns.swarmplot(data=blockDat,x='Type',y='Score', ax=ax,\n",
    "#             order=ptOrder, color = 'k', alpha = .3, zorder = 2)\n",
    "sns.barplot(data=blockDat,x='Type',y='Score', ax=ax,\n",
    "            order=ptOrder,alpha=0, zorder = 3, errwidth = 2, capsize = .05, errcolor = 'k')\n",
    "ax.plot([-5,5],[.5,.5], 'k--');\n",
    "ax.set(ylim = [0,1.1], xlim = [-.5,3.5], yticks = np.arange(0,1.1,.25),\n",
    "       ylabel = 'Accuracy', xlabel = 'Player strategy',\n",
    "      xticklabels = ptLong);\n",
    "sns.despine(top=True,right=True)\n",
    "ax.spines['left'].set_bounds(0,1)\n",
    "\n",
    "ax.yaxis.set_major_formatter(mtick.PercentFormatter(xmax=1))"
   ]
  },
  {
   "cell_type": "code",
   "execution_count": 20,
   "metadata": {},
   "outputs": [
    {
     "name": "stdout",
     "output_type": "stream",
     "text": [
      "trust\n",
      "count    148.000000\n",
      "mean       0.887247\n",
      "std        0.131558\n",
      "min        0.375000\n",
      "25%        0.812500\n",
      "50%        0.937500\n",
      "75%        1.000000\n",
      "max        1.000000\n",
      "Name: Score, dtype: float64\n",
      "SD:  0.131112939975912\n",
      "Stats:\n",
      "Ttest_1sampResult(statistic=35.809705486117, pvalue=1.7228538329868728e-74)\n",
      "Cohen d:\n",
      "2.953534728858695\n",
      "(Ttest_1sampResult(statistic=35.809705486117, pvalue=1.7228538329868728e-74), 2.953534728858695)\n",
      "\n",
      "\n",
      "\n",
      "opt\n",
      "count    148.000000\n",
      "mean       0.850084\n",
      "std        0.161331\n",
      "min        0.312500\n",
      "25%        0.796875\n",
      "50%        0.906250\n",
      "75%        0.937500\n",
      "max        1.000000\n",
      "Name: Score, dtype: float64\n",
      "SD:  0.16078550203266775\n",
      "Stats:\n",
      "Ttest_1sampResult(statistic=26.398826022299595, pvalue=1.1857745357805416e-57)\n",
      "Cohen d:\n",
      "2.177338472894967\n",
      "(Ttest_1sampResult(statistic=26.398826022299595, pvalue=1.1857745357805416e-57), 2.177338472894967)\n",
      "\n",
      "\n",
      "\n",
      "pess\n",
      "count    148.000000\n",
      "mean       0.540963\n",
      "std        0.182358\n",
      "min        0.250000\n",
      "25%        0.375000\n",
      "50%        0.500000\n",
      "75%        0.687500\n",
      "max        1.000000\n",
      "Name: Score, dtype: float64\n",
      "SD:  0.18174048816345967\n",
      "Stats:\n",
      "Ttest_1sampResult(statistic=2.7327318173300403, pvalue=0.0070519389863011196)\n",
      "Cohen d:\n",
      "0.22539192147979342\n",
      "(Ttest_1sampResult(statistic=2.7327318173300403, pvalue=0.0070519389863011196), 0.22539192147979342)\n",
      "\n",
      "\n",
      "\n",
      "env\n",
      "count    148.000000\n",
      "mean       0.671875\n",
      "std        0.132608\n",
      "min        0.187500\n",
      "25%        0.625000\n",
      "50%        0.687500\n",
      "75%        0.750000\n",
      "max        0.937500\n",
      "Name: Score, dtype: float64\n",
      "SD:  0.13215881461486179\n",
      "Stats:\n",
      "Ttest_1sampResult(statistic=15.767950355253607, pvalue=2.06021076003247e-33)\n",
      "Cohen d:\n",
      "1.3005186260249035\n",
      "(Ttest_1sampResult(statistic=15.767950355253607, pvalue=2.06021076003247e-33), 1.3005186260249035)\n",
      "\n",
      "\n",
      "\n"
     ]
    }
   ],
   "source": [
    "for pt in ptOrder:\n",
    "    scores = blockDat.query('Type == @pt')['Score']\n",
    "    print(pt)\n",
    "    print(scores.describe())\n",
    "    print(ttest_1samp(scores))\n",
    "    print('\\n\\n')"
   ]
  }
 ],
 "metadata": {
  "kernelspec": {
   "display_name": "Python 3",
   "language": "python",
   "name": "python3"
  },
  "language_info": {
   "codemirror_mode": {
    "name": "ipython",
    "version": 3
   },
   "file_extension": ".py",
   "mimetype": "text/x-python",
   "name": "python",
   "nbconvert_exporter": "python",
   "pygments_lexer": "ipython3",
   "version": "3.7.4"
  }
 },
 "nbformat": 4,
 "nbformat_minor": 2
}
