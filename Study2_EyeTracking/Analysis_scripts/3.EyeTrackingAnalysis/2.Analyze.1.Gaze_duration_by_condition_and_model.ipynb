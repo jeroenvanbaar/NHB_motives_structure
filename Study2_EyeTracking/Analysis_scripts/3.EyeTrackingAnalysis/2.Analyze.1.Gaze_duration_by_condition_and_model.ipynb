{
 "cells": [
  {
   "cell_type": "code",
   "execution_count": 1,
   "metadata": {},
   "outputs": [],
   "source": [
    "import numpy as np\n",
    "import pandas as pd\n",
    "import seaborn as sns\n",
    "import matplotlib.pyplot as plt\n",
    "import scipy, os, glob, sys, re\n",
    "from matplotlib import patches, image\n",
    "from matplotlib.ticker import FuncFormatter\n",
    "\n",
    "from tqdm import tqdm\n",
    "from time import sleep\n",
    "from matplotlib import animation, rc\n",
    "from IPython.display import HTML\n",
    "\n",
    "from helpers import *"
   ]
  },
  {
   "cell_type": "markdown",
   "metadata": {},
   "source": [
    "## Load fixations as % looking time"
   ]
  },
  {
   "cell_type": "code",
   "execution_count": 2,
   "metadata": {},
   "outputs": [
    {
     "name": "stdout",
     "output_type": "stream",
     "text": [
      "/Users/jeroen/Dropbox (Brown)/Postdoc FHL/JEROEN/SOC_STRUCT_LEARN/Code_share/NHB_motives_structure/Study2_EyeTracking\n"
     ]
    }
   ],
   "source": [
    "base_dir = os.path.realpath('../..')\n",
    "print(base_dir)\n",
    "sys.path.append('/'.join(os.path.realpath('..').split('/')[:4]) + '/Python')\n",
    "import FigureTools"
   ]
  },
  {
   "cell_type": "code",
   "execution_count": 3,
   "metadata": {},
   "outputs": [],
   "source": [
    "desktopdir = '/Users/jeroen/Desktop'"
   ]
  },
  {
   "cell_type": "code",
   "execution_count": 4,
   "metadata": {},
   "outputs": [
    {
     "data": {
      "text/html": [
       "<div>\n",
       "<style scoped>\n",
       "    .dataframe tbody tr th:only-of-type {\n",
       "        vertical-align: middle;\n",
       "    }\n",
       "\n",
       "    .dataframe tbody tr th {\n",
       "        vertical-align: top;\n",
       "    }\n",
       "\n",
       "    .dataframe thead th {\n",
       "        text-align: right;\n",
       "    }\n",
       "</style>\n",
       "<table border=\"1\" class=\"dataframe\">\n",
       "  <thead>\n",
       "    <tr style=\"text-align: right;\">\n",
       "      <th></th>\n",
       "      <th>sub</th>\n",
       "      <th>part</th>\n",
       "      <th>block</th>\n",
       "      <th>player_type</th>\n",
       "      <th>trial</th>\n",
       "      <th>num</th>\n",
       "      <th>num_S_T</th>\n",
       "      <th>dur_pct</th>\n",
       "    </tr>\n",
       "  </thead>\n",
       "  <tbody>\n",
       "    <tr>\n",
       "      <td>0</td>\n",
       "      <td>5</td>\n",
       "      <td>1</td>\n",
       "      <td>1.0</td>\n",
       "      <td>opt_nat</td>\n",
       "      <td>1</td>\n",
       "      <td>10_1</td>\n",
       "      <td>no_S_T</td>\n",
       "      <td>0.123562</td>\n",
       "    </tr>\n",
       "    <tr>\n",
       "      <td>1</td>\n",
       "      <td>5</td>\n",
       "      <td>1</td>\n",
       "      <td>1.0</td>\n",
       "      <td>opt_nat</td>\n",
       "      <td>1</td>\n",
       "      <td>10_2</td>\n",
       "      <td>no_S_T</td>\n",
       "      <td>0.113534</td>\n",
       "    </tr>\n",
       "    <tr>\n",
       "      <td>2</td>\n",
       "      <td>5</td>\n",
       "      <td>1</td>\n",
       "      <td>1.0</td>\n",
       "      <td>opt_nat</td>\n",
       "      <td>1</td>\n",
       "      <td>5_1</td>\n",
       "      <td>no_S_T</td>\n",
       "      <td>0.000000</td>\n",
       "    </tr>\n",
       "    <tr>\n",
       "      <td>3</td>\n",
       "      <td>5</td>\n",
       "      <td>1</td>\n",
       "      <td>1.0</td>\n",
       "      <td>opt_nat</td>\n",
       "      <td>1</td>\n",
       "      <td>5_2</td>\n",
       "      <td>no_S_T</td>\n",
       "      <td>0.000000</td>\n",
       "    </tr>\n",
       "    <tr>\n",
       "      <td>4</td>\n",
       "      <td>5</td>\n",
       "      <td>1</td>\n",
       "      <td>1.0</td>\n",
       "      <td>opt_nat</td>\n",
       "      <td>1</td>\n",
       "      <td>S_1</td>\n",
       "      <td>S</td>\n",
       "      <td>0.108974</td>\n",
       "    </tr>\n",
       "  </tbody>\n",
       "</table>\n",
       "</div>"
      ],
      "text/plain": [
       "   sub  part  block player_type  trial   num num_S_T   dur_pct\n",
       "0    5     1    1.0     opt_nat      1  10_1  no_S_T  0.123562\n",
       "1    5     1    1.0     opt_nat      1  10_2  no_S_T  0.113534\n",
       "2    5     1    1.0     opt_nat      1   5_1  no_S_T  0.000000\n",
       "3    5     1    1.0     opt_nat      1   5_2  no_S_T  0.000000\n",
       "4    5     1    1.0     opt_nat      1   S_1       S  0.108974"
      ]
     },
     "execution_count": 4,
     "metadata": {},
     "output_type": "execute_result"
    }
   ],
   "source": [
    "eye = 'average'\n",
    "fix_pct_LT = pd.read_csv(base_dir + \n",
    "                '/Data/all_fixations_as_pct_LT_eye-%s.csv'%eye,index_col=0)\n",
    "fix_pct_LT.head()"
   ]
  },
  {
   "cell_type": "markdown",
   "metadata": {},
   "source": [
    "## Plot by condition"
   ]
  },
  {
   "cell_type": "markdown",
   "metadata": {},
   "source": [
    "##### Mean across blocks and trials, and sum across S_1/S_2 and T_1/T_2"
   ]
  },
  {
   "cell_type": "code",
   "execution_count": 5,
   "metadata": {},
   "outputs": [
    {
     "data": {
      "text/html": [
       "<div>\n",
       "<style scoped>\n",
       "    .dataframe tbody tr th:only-of-type {\n",
       "        vertical-align: middle;\n",
       "    }\n",
       "\n",
       "    .dataframe tbody tr th {\n",
       "        vertical-align: top;\n",
       "    }\n",
       "\n",
       "    .dataframe thead th {\n",
       "        text-align: right;\n",
       "    }\n",
       "</style>\n",
       "<table border=\"1\" class=\"dataframe\">\n",
       "  <thead>\n",
       "    <tr style=\"text-align: right;\">\n",
       "      <th></th>\n",
       "      <th>sub</th>\n",
       "      <th>part</th>\n",
       "      <th>player_type</th>\n",
       "      <th>num_S_T</th>\n",
       "      <th>dur_pct</th>\n",
       "    </tr>\n",
       "  </thead>\n",
       "  <tbody>\n",
       "    <tr>\n",
       "      <td>0</td>\n",
       "      <td>5</td>\n",
       "      <td>1</td>\n",
       "      <td>opt_inv</td>\n",
       "      <td>S</td>\n",
       "      <td>0.171438</td>\n",
       "    </tr>\n",
       "    <tr>\n",
       "      <td>1</td>\n",
       "      <td>5</td>\n",
       "      <td>1</td>\n",
       "      <td>opt_inv</td>\n",
       "      <td>T</td>\n",
       "      <td>0.128132</td>\n",
       "    </tr>\n",
       "    <tr>\n",
       "      <td>2</td>\n",
       "      <td>5</td>\n",
       "      <td>1</td>\n",
       "      <td>opt_inv</td>\n",
       "      <td>no_S_T</td>\n",
       "      <td>0.700430</td>\n",
       "    </tr>\n",
       "    <tr>\n",
       "      <td>3</td>\n",
       "      <td>5</td>\n",
       "      <td>1</td>\n",
       "      <td>opt_nat</td>\n",
       "      <td>S</td>\n",
       "      <td>0.096319</td>\n",
       "    </tr>\n",
       "    <tr>\n",
       "      <td>4</td>\n",
       "      <td>5</td>\n",
       "      <td>1</td>\n",
       "      <td>opt_nat</td>\n",
       "      <td>T</td>\n",
       "      <td>0.131792</td>\n",
       "    </tr>\n",
       "  </tbody>\n",
       "</table>\n",
       "</div>"
      ],
      "text/plain": [
       "   sub  part player_type num_S_T   dur_pct\n",
       "0    5     1     opt_inv       S  0.171438\n",
       "1    5     1     opt_inv       T  0.128132\n",
       "2    5     1     opt_inv  no_S_T  0.700430\n",
       "3    5     1     opt_nat       S  0.096319\n",
       "4    5     1     opt_nat       T  0.131792"
      ]
     },
     "execution_count": 5,
     "metadata": {},
     "output_type": "execute_result"
    }
   ],
   "source": [
    "tmp = fix_pct_LT.groupby(['sub','part','player_type','num_S_T','num']).mean().reset_index()\n",
    "tmp = tmp[['sub','part','player_type','num_S_T','num','dur_pct']]\n",
    "tmp = tmp.groupby(['sub','part','player_type','num_S_T'],\n",
    "                          as_index=False).sum()\n",
    "tmp.head()"
   ]
  },
  {
   "cell_type": "markdown",
   "metadata": {},
   "source": [
    "##### Plot"
   ]
  },
  {
   "cell_type": "code",
   "execution_count": 6,
   "metadata": {},
   "outputs": [],
   "source": [
    "pts = ['opt_nat','pess_nat','opt_inv','pess_inv']"
   ]
  },
  {
   "cell_type": "code",
   "execution_count": 7,
   "metadata": {},
   "outputs": [
    {
     "name": "stderr",
     "output_type": "stream",
     "text": [
      "findfont: Font family ['Ubuntu'] not found. Falling back to DejaVu Sans.\n",
      "findfont: Font family ['Ubuntu'] not found. Falling back to DejaVu Sans.\n",
      "findfont: Font family ['Ubuntu'] not found. Falling back to DejaVu Sans.\n"
     ]
    },
    {
     "data": {
      "text/plain": [
       "<seaborn.axisgrid.FacetGrid at 0x7fe9e9a41190>"
      ]
     },
     "execution_count": 7,
     "metadata": {},
     "output_type": "execute_result"
    },
    {
     "data": {
      "image/png": "[encoded data removed]",
      "text/plain": [
       "<Figure size 801.7x360 with 2 Axes>"
      ]
     },
     "metadata": {
      "needs_background": "light"
     },
     "output_type": "display_data"
    }
   ],
   "source": [
    "sns.set_context('talk')\n",
    "sns.catplot(kind = 'bar', data = tmp,\n",
    "            x = 'player_type', y = 'dur_pct', hue = 'num_S_T',\n",
    "            order = pts, hue_order = ['S','T'],\n",
    "            col = 'part', capsize = .1)"
   ]
  },
  {
   "cell_type": "markdown",
   "metadata": {},
   "source": [
    "# Eye tracking results 1: gaze differences between Greedy and Risk-Averse block"
   ]
  },
  {
   "cell_type": "markdown",
   "metadata": {},
   "source": [
    "Note: in line with some other literature (Poncela-Casasnovas SciAdv) Greedy is still called \"Optimist\" and Risk-Averse \"Pessimist\" here; terminology was aligned in the paper."
   ]
  },
  {
   "cell_type": "code",
   "execution_count": 8,
   "metadata": {},
   "outputs": [
    {
     "data": {
      "text/html": [
       "<div>\n",
       "<style scoped>\n",
       "    .dataframe tbody tr th:only-of-type {\n",
       "        vertical-align: middle;\n",
       "    }\n",
       "\n",
       "    .dataframe tbody tr th {\n",
       "        vertical-align: top;\n",
       "    }\n",
       "\n",
       "    .dataframe thead th {\n",
       "        text-align: right;\n",
       "    }\n",
       "</style>\n",
       "<table border=\"1\" class=\"dataframe\">\n",
       "  <thead>\n",
       "    <tr style=\"text-align: right;\">\n",
       "      <th></th>\n",
       "      <th>sub</th>\n",
       "      <th>player_type</th>\n",
       "      <th>num_S_T</th>\n",
       "      <th>dur_pct</th>\n",
       "    </tr>\n",
       "  </thead>\n",
       "  <tbody>\n",
       "    <tr>\n",
       "      <td>0</td>\n",
       "      <td>5</td>\n",
       "      <td>opt_inv</td>\n",
       "      <td>S</td>\n",
       "      <td>0.201654</td>\n",
       "    </tr>\n",
       "    <tr>\n",
       "      <td>1</td>\n",
       "      <td>5</td>\n",
       "      <td>opt_inv</td>\n",
       "      <td>T</td>\n",
       "      <td>0.107986</td>\n",
       "    </tr>\n",
       "    <tr>\n",
       "      <td>2</td>\n",
       "      <td>5</td>\n",
       "      <td>opt_inv</td>\n",
       "      <td>no_S_T</td>\n",
       "      <td>0.690360</td>\n",
       "    </tr>\n",
       "    <tr>\n",
       "      <td>3</td>\n",
       "      <td>5</td>\n",
       "      <td>opt_nat</td>\n",
       "      <td>S</td>\n",
       "      <td>0.159366</td>\n",
       "    </tr>\n",
       "    <tr>\n",
       "      <td>4</td>\n",
       "      <td>5</td>\n",
       "      <td>opt_nat</td>\n",
       "      <td>T</td>\n",
       "      <td>0.129862</td>\n",
       "    </tr>\n",
       "  </tbody>\n",
       "</table>\n",
       "</div>"
      ],
      "text/plain": [
       "   sub player_type num_S_T   dur_pct\n",
       "0    5     opt_inv       S  0.201654\n",
       "1    5     opt_inv       T  0.107986\n",
       "2    5     opt_inv  no_S_T  0.690360\n",
       "3    5     opt_nat       S  0.159366\n",
       "4    5     opt_nat       T  0.129862"
      ]
     },
     "metadata": {},
     "output_type": "display_data"
    },
    {
     "data": {
      "image/png": "[encoded data removed]",
      "text/plain": [
       "<Figure size 432x432 with 1 Axes>"
      ]
     },
     "metadata": {
      "needs_background": "light"
     },
     "output_type": "display_data"
    }
   ],
   "source": [
    "tmp = fix_pct_LT.groupby(['sub','player_type','num_S_T','num']).mean().reset_index()\n",
    "tmp = tmp[['sub','player_type','num_S_T','num','dur_pct']]\n",
    "tmp = tmp.groupby(['sub','player_type','num_S_T'],\n",
    "                          as_index=False).sum()\n",
    "display(tmp.head())\n",
    "\n",
    "sns.set_context('talk')\n",
    "fig, ax = plt.subplots(1,1,figsize=[6,6])\n",
    "sns.stripplot(data = tmp,\n",
    "              x = 'player_type', y = 'dur_pct', hue = 'num_S_T',\n",
    "            order = ['opt_nat','pess_nat'], hue_order = ['S','T'],\n",
    "              dodge = False, alpha = .3, ax = ax)\n",
    "hand,lab = ax.get_legend_handles_labels()\n",
    "sns.barplot(data = tmp,\n",
    "            x = 'player_type', y = 'dur_pct', hue = 'num_S_T',\n",
    "            order = ['opt_nat','pess_nat'], hue_order = ['S','T'],\n",
    "            capsize = .1, alpha = 0, dodge = False)\n",
    "dat1 = tmp.query('player_type == \"opt_nat\" and num_S_T == \"S\"'\n",
    "                )['dur_pct']\n",
    "dat2 = tmp.query('player_type == \"opt_nat\" and num_S_T == \"T\"'\n",
    "                )['dur_pct']\n",
    "dat3 = tmp.query('player_type == \"pess_nat\" and num_S_T == \"S\"'\n",
    "                )['dur_pct']\n",
    "dat4 = tmp.query('player_type == \"pess_nat\" and num_S_T == \"T\"'\n",
    "                )['dur_pct']\n",
    "plt.plot([0,1],[np.mean(dat1),np.mean(dat3)])\n",
    "plt.plot([0,1],[np.mean(dat2),np.mean(dat4)])\n",
    "plt.legend(hand,lab,loc=[1.1,.5], title = 'Information source',\n",
    "           facecolor = None)\n",
    "ax.set(ylabel = 'Looking time', xlabel = 'Player type',\n",
    "       xticklabels = ['Optimist','Pessimist'], \n",
    "       yticks = np.arange(0,.45,.05), ylim = [0,.4]);\n",
    "ax.set_yticklabels(['{:,.1%}'.format(x) for x in ax.get_yticks()]);"
   ]
  },
  {
   "cell_type": "code",
   "execution_count": 9,
   "metadata": {},
   "outputs": [],
   "source": [
    "diff1 = dat3.values - dat1.values\n",
    "diff2 = dat4.values - dat2.values"
   ]
  },
  {
   "cell_type": "code",
   "execution_count": 10,
   "metadata": {},
   "outputs": [
    {
     "data": {
      "text/plain": [
       "Ttest_relResult(statistic=5.109179459452987, pvalue=5.314138868954674e-06)"
      ]
     },
     "execution_count": 10,
     "metadata": {},
     "output_type": "execute_result"
    }
   ],
   "source": [
    "scipy.stats.ttest_rel(diff1,diff2)"
   ]
  },
  {
   "cell_type": "markdown",
   "metadata": {},
   "source": [
    "# Eye tracking results 2: gaze differences between blocks developing over time (trials)"
   ]
  },
  {
   "cell_type": "markdown",
   "metadata": {},
   "source": [
    "##### Split blocks in 2 halves and 4 mini-blocks"
   ]
  },
  {
   "cell_type": "code",
   "execution_count": 11,
   "metadata": {},
   "outputs": [
    {
     "data": {
      "text/html": [
       "<div>\n",
       "<style scoped>\n",
       "    .dataframe tbody tr th:only-of-type {\n",
       "        vertical-align: middle;\n",
       "    }\n",
       "\n",
       "    .dataframe tbody tr th {\n",
       "        vertical-align: top;\n",
       "    }\n",
       "\n",
       "    .dataframe thead th {\n",
       "        text-align: right;\n",
       "    }\n",
       "</style>\n",
       "<table border=\"1\" class=\"dataframe\">\n",
       "  <thead>\n",
       "    <tr style=\"text-align: right;\">\n",
       "      <th></th>\n",
       "      <th>sub</th>\n",
       "      <th>part</th>\n",
       "      <th>block</th>\n",
       "      <th>player_type</th>\n",
       "      <th>trial</th>\n",
       "      <th>num</th>\n",
       "      <th>num_S_T</th>\n",
       "      <th>dur_pct</th>\n",
       "      <th>block_trial</th>\n",
       "      <th>phase</th>\n",
       "      <th>mini_block</th>\n",
       "    </tr>\n",
       "  </thead>\n",
       "  <tbody>\n",
       "    <tr>\n",
       "      <td>0</td>\n",
       "      <td>5</td>\n",
       "      <td>1</td>\n",
       "      <td>1.0</td>\n",
       "      <td>opt_nat</td>\n",
       "      <td>1</td>\n",
       "      <td>10_1</td>\n",
       "      <td>no_S_T</td>\n",
       "      <td>0.123562</td>\n",
       "      <td>1</td>\n",
       "      <td>early</td>\n",
       "      <td>1</td>\n",
       "    </tr>\n",
       "    <tr>\n",
       "      <td>1</td>\n",
       "      <td>5</td>\n",
       "      <td>1</td>\n",
       "      <td>1.0</td>\n",
       "      <td>opt_nat</td>\n",
       "      <td>1</td>\n",
       "      <td>10_2</td>\n",
       "      <td>no_S_T</td>\n",
       "      <td>0.113534</td>\n",
       "      <td>1</td>\n",
       "      <td>early</td>\n",
       "      <td>1</td>\n",
       "    </tr>\n",
       "    <tr>\n",
       "      <td>2</td>\n",
       "      <td>5</td>\n",
       "      <td>1</td>\n",
       "      <td>1.0</td>\n",
       "      <td>opt_nat</td>\n",
       "      <td>1</td>\n",
       "      <td>5_1</td>\n",
       "      <td>no_S_T</td>\n",
       "      <td>0.000000</td>\n",
       "      <td>1</td>\n",
       "      <td>early</td>\n",
       "      <td>1</td>\n",
       "    </tr>\n",
       "    <tr>\n",
       "      <td>3</td>\n",
       "      <td>5</td>\n",
       "      <td>1</td>\n",
       "      <td>1.0</td>\n",
       "      <td>opt_nat</td>\n",
       "      <td>1</td>\n",
       "      <td>5_2</td>\n",
       "      <td>no_S_T</td>\n",
       "      <td>0.000000</td>\n",
       "      <td>1</td>\n",
       "      <td>early</td>\n",
       "      <td>1</td>\n",
       "    </tr>\n",
       "    <tr>\n",
       "      <td>4</td>\n",
       "      <td>5</td>\n",
       "      <td>1</td>\n",
       "      <td>1.0</td>\n",
       "      <td>opt_nat</td>\n",
       "      <td>1</td>\n",
       "      <td>S_1</td>\n",
       "      <td>S</td>\n",
       "      <td>0.108974</td>\n",
       "      <td>1</td>\n",
       "      <td>early</td>\n",
       "      <td>1</td>\n",
       "    </tr>\n",
       "  </tbody>\n",
       "</table>\n",
       "</div>"
      ],
      "text/plain": [
       "   sub  part  block player_type  trial   num num_S_T   dur_pct  block_trial  \\\n",
       "0    5     1    1.0     opt_nat      1  10_1  no_S_T  0.123562            1   \n",
       "1    5     1    1.0     opt_nat      1  10_2  no_S_T  0.113534            1   \n",
       "2    5     1    1.0     opt_nat      1   5_1  no_S_T  0.000000            1   \n",
       "3    5     1    1.0     opt_nat      1   5_2  no_S_T  0.000000            1   \n",
       "4    5     1    1.0     opt_nat      1   S_1       S  0.108974            1   \n",
       "\n",
       "   phase  mini_block  \n",
       "0  early           1  \n",
       "1  early           1  \n",
       "2  early           1  \n",
       "3  early           1  \n",
       "4  early           1  "
      ]
     },
     "execution_count": 11,
     "metadata": {},
     "output_type": "execute_result"
    }
   ],
   "source": [
    "fix_pct_LT['block_trial'] = (fix_pct_LT['trial'] - \n",
    "                             np.floor(np.divide(fix_pct_LT['trial'],16.001))*16).astype(int)\n",
    "\n",
    "fix_pct_LT['phase'] = fix_pct_LT['block_trial'].apply(lambda x: 'early' if x < 9 else 'late')\n",
    "\n",
    "fix_pct_LT['mini_block'] = (np.floor((fix_pct_LT['block_trial']-1)/4)+1).astype(int)\n",
    "fix_pct_LT.head()"
   ]
  },
  {
   "cell_type": "code",
   "execution_count": 15,
   "metadata": {},
   "outputs": [
    {
     "data": {
      "text/html": [
       "<div>\n",
       "<style scoped>\n",
       "    .dataframe tbody tr th:only-of-type {\n",
       "        vertical-align: middle;\n",
       "    }\n",
       "\n",
       "    .dataframe tbody tr th {\n",
       "        vertical-align: top;\n",
       "    }\n",
       "\n",
       "    .dataframe thead th {\n",
       "        text-align: right;\n",
       "    }\n",
       "</style>\n",
       "<table border=\"1\" class=\"dataframe\">\n",
       "  <thead>\n",
       "    <tr style=\"text-align: right;\">\n",
       "      <th></th>\n",
       "      <th>sub</th>\n",
       "      <th>player_type</th>\n",
       "      <th>mini_block</th>\n",
       "      <th>num_S_T</th>\n",
       "      <th>index</th>\n",
       "      <th>part</th>\n",
       "      <th>block</th>\n",
       "      <th>trial</th>\n",
       "      <th>dur_pct</th>\n",
       "      <th>block_trial</th>\n",
       "    </tr>\n",
       "  </thead>\n",
       "  <tbody>\n",
       "    <tr>\n",
       "      <td>0</td>\n",
       "      <td>5</td>\n",
       "      <td>opt_inv</td>\n",
       "      <td>1</td>\n",
       "      <td>S</td>\n",
       "      <td>1</td>\n",
       "      <td>3.0</td>\n",
       "      <td>11.0</td>\n",
       "      <td>149.0</td>\n",
       "      <td>0.216191</td>\n",
       "      <td>5.0</td>\n",
       "    </tr>\n",
       "    <tr>\n",
       "      <td>1</td>\n",
       "      <td>5</td>\n",
       "      <td>opt_inv</td>\n",
       "      <td>1</td>\n",
       "      <td>T</td>\n",
       "      <td>5</td>\n",
       "      <td>3.0</td>\n",
       "      <td>11.0</td>\n",
       "      <td>149.0</td>\n",
       "      <td>0.094784</td>\n",
       "      <td>5.0</td>\n",
       "    </tr>\n",
       "    <tr>\n",
       "      <td>2</td>\n",
       "      <td>5</td>\n",
       "      <td>opt_inv</td>\n",
       "      <td>1</td>\n",
       "      <td>no_S_T</td>\n",
       "      <td>30</td>\n",
       "      <td>7.5</td>\n",
       "      <td>27.5</td>\n",
       "      <td>372.5</td>\n",
       "      <td>0.689025</td>\n",
       "      <td>12.5</td>\n",
       "    </tr>\n",
       "    <tr>\n",
       "      <td>3</td>\n",
       "      <td>5</td>\n",
       "      <td>opt_inv</td>\n",
       "      <td>2</td>\n",
       "      <td>S</td>\n",
       "      <td>19</td>\n",
       "      <td>3.0</td>\n",
       "      <td>11.0</td>\n",
       "      <td>157.0</td>\n",
       "      <td>0.183557</td>\n",
       "      <td>13.0</td>\n",
       "    </tr>\n",
       "    <tr>\n",
       "      <td>4</td>\n",
       "      <td>5</td>\n",
       "      <td>opt_inv</td>\n",
       "      <td>2</td>\n",
       "      <td>T</td>\n",
       "      <td>23</td>\n",
       "      <td>3.0</td>\n",
       "      <td>11.0</td>\n",
       "      <td>157.0</td>\n",
       "      <td>0.116684</td>\n",
       "      <td>13.0</td>\n",
       "    </tr>\n",
       "  </tbody>\n",
       "</table>\n",
       "</div>"
      ],
      "text/plain": [
       "   sub player_type  mini_block num_S_T  index  part  block  trial   dur_pct  \\\n",
       "0    5     opt_inv           1       S      1   3.0   11.0  149.0  0.216191   \n",
       "1    5     opt_inv           1       T      5   3.0   11.0  149.0  0.094784   \n",
       "2    5     opt_inv           1  no_S_T     30   7.5   27.5  372.5  0.689025   \n",
       "3    5     opt_inv           2       S     19   3.0   11.0  157.0  0.183557   \n",
       "4    5     opt_inv           2       T     23   3.0   11.0  157.0  0.116684   \n",
       "\n",
       "   block_trial  \n",
       "0          5.0  \n",
       "1          5.0  \n",
       "2         12.5  \n",
       "3         13.0  \n",
       "4         13.0  "
      ]
     },
     "metadata": {},
     "output_type": "display_data"
    }
   ],
   "source": [
    "tmp = fix_pct_LT.groupby(['sub','player_type','mini_block','num_S_T','num']\n",
    "                        ,as_index = False).mean().reset_index()\n",
    "tmp = tmp.groupby(['sub','player_type','mini_block','num_S_T'],\n",
    "                          as_index=False).sum()\n",
    "display(tmp.head())"
   ]
  },
  {
   "cell_type": "code",
   "execution_count": 16,
   "metadata": {
    "scrolled": false
   },
   "outputs": [
    {
     "data": {
      "image/png": "[encoded data removed]",
      "text/plain": [
       "<Figure size 432x432 with 1 Axes>"
      ]
     },
     "metadata": {
      "needs_background": "light"
     },
     "output_type": "display_data"
    }
   ],
   "source": [
    "sns.set_context('talk')\n",
    "\n",
    "fig, ax = plt.subplots(1,1,figsize=[6,6])\n",
    "cols_1 = [sns.color_palette('tab20')[i] for i in [0,2]]\n",
    "cols_2 = [sns.color_palette('tab20')[i] for i in [1,3]]\n",
    "sns.pointplot(data = tmp.query('player_type == \"opt_nat\"'),\n",
    "             x = 'mini_block', y = 'dur_pct', hue = 'num_S_T',\n",
    "             ax = ax, hue_order = ['S','T'],\n",
    "              capsize = .1, errwidth = 1,\n",
    "             palette = cols_1, legend = 'off')\n",
    "sns.pointplot(data = tmp.query('player_type == \"pess_nat\"'),\n",
    "             x = 'mini_block', y = 'dur_pct', hue = 'num_S_T',\n",
    "             ax = ax, hue_order = ['S','T'],\n",
    "              capsize = .1, errwidth = 1,\n",
    "             palette = cols_2, legend = 'off')\n",
    "hand,lab = ax.get_legend_handles_labels()\n",
    "plt.legend([hand[i] for i in [2,0,1,3]],\n",
    "           ['S (Pessimist)','S (Optimist)',\n",
    "            'T (Optimist)','T (Pessimist)'],\n",
    "           loc=[1.1,.5], title = 'Information source',\n",
    "          facecolor = None)\n",
    "ax.set(ylabel = 'Looking time', xlabel = 'Trials',\n",
    "       xticklabels = ['1-4','5-8','9-12','13-16'],\n",
    "       yticks = np.arange(0,.45,.05), ylim = [0,.4]);\n",
    "ax.set_yticklabels(['{:,.1%}'.format(x) for x in ax.get_yticks()]);\n",
    "\n",
    "y_starts = [.31,.17]\n",
    "for isi,info_source in enumerate(['S']):\n",
    "    for mbi,mini_block in enumerate(tmp['mini_block'].unique()):\n",
    "#         print(info_source, mini_block)\n",
    "        dat1 = tmp.query('num_S_T == @info_source & mini_block == @mini_block & player_type == \"opt_nat\"')['dur_pct']\n",
    "        dat2 = tmp.query('num_S_T == @info_source & mini_block == @mini_block & player_type == \"pess_nat\"')['dur_pct']\n",
    "        stats = scipy.stats.ttest_rel(dat1, dat2)\n",
    "#         if stats[1] < (0.05/8):\n",
    "        FigureTools.add_sig_markers(ax,\n",
    "                relationships=[[mbi,mbi,stats[1]*4]],\n",
    "                ystart = y_starts[isi], caps=False)#, distScale = .6)"
   ]
  },
  {
   "cell_type": "markdown",
   "metadata": {},
   "source": [
    "Note to code: See LMER/LMER_LT_onto_mini-block_player-type_Risk.Rmd for R code analyzing this change in differences over time using mixed-effects regression."
   ]
  },
  {
   "cell_type": "markdown",
   "metadata": {},
   "source": [
    "# Eye tracking results 3: linking gaze shift to performance"
   ]
  },
  {
   "cell_type": "code",
   "execution_count": 41,
   "metadata": {},
   "outputs": [],
   "source": [
    "# Compute average looking time difference per trial per subject\n",
    "LT_diff_by_trial = fix_pct_LT.pivot_table(\n",
    "    index = ['sub','trial','mini_block','player_type'],\n",
    "    columns = ['num_S_T'], values = 'dur_pct').reset_index()\n",
    "LT_diff_by_trial['S-T'] = LT_diff_by_trial['S'] - LT_diff_by_trial['T']"
   ]
  },
  {
   "cell_type": "code",
   "execution_count": 42,
   "metadata": {},
   "outputs": [
    {
     "data": {
      "text/html": [
       "<div>\n",
       "<style scoped>\n",
       "    .dataframe tbody tr th:only-of-type {\n",
       "        vertical-align: middle;\n",
       "    }\n",
       "\n",
       "    .dataframe tbody tr th {\n",
       "        vertical-align: top;\n",
       "    }\n",
       "\n",
       "    .dataframe thead th {\n",
       "        text-align: right;\n",
       "    }\n",
       "</style>\n",
       "<table border=\"1\" class=\"dataframe\">\n",
       "  <thead>\n",
       "    <tr style=\"text-align: right;\">\n",
       "      <th></th>\n",
       "      <th>sub</th>\n",
       "      <th>subID</th>\n",
       "      <th>Block</th>\n",
       "      <th>Player</th>\n",
       "      <th>Type</th>\n",
       "      <th>Variant</th>\n",
       "      <th>Type_Total</th>\n",
       "      <th>Trial</th>\n",
       "      <th>S</th>\n",
       "      <th>T</th>\n",
       "      <th>GameType</th>\n",
       "      <th>Colors</th>\n",
       "      <th>CorrAns</th>\n",
       "      <th>GivenAns</th>\n",
       "      <th>ConfidenceNum</th>\n",
       "      <th>ScoreNum</th>\n",
       "      <th>RT_radio</th>\n",
       "      <th>RT_submit</th>\n",
       "      <th>SelfReport</th>\n",
       "      <th>trial</th>\n",
       "    </tr>\n",
       "  </thead>\n",
       "  <tbody>\n",
       "    <tr>\n",
       "      <td>0</td>\n",
       "      <td>5</td>\n",
       "      <td>5005</td>\n",
       "      <td>0</td>\n",
       "      <td>N.N.</td>\n",
       "      <td>opt</td>\n",
       "      <td>nat</td>\n",
       "      <td>opt_nat</td>\n",
       "      <td>0</td>\n",
       "      <td>0</td>\n",
       "      <td>12</td>\n",
       "      <td>PD</td>\n",
       "      <td>['Not', 'Defined']</td>\n",
       "      <td>def</td>\n",
       "      <td>def</td>\n",
       "      <td>86</td>\n",
       "      <td>1</td>\n",
       "      <td>8631</td>\n",
       "      <td>10443</td>\n",
       "      <td>not defined</td>\n",
       "      <td>1</td>\n",
       "    </tr>\n",
       "    <tr>\n",
       "      <td>1</td>\n",
       "      <td>5</td>\n",
       "      <td>5005</td>\n",
       "      <td>0</td>\n",
       "      <td>N.N.</td>\n",
       "      <td>opt</td>\n",
       "      <td>nat</td>\n",
       "      <td>opt_nat</td>\n",
       "      <td>1</td>\n",
       "      <td>7</td>\n",
       "      <td>5</td>\n",
       "      <td>HG</td>\n",
       "      <td>['Not', 'Defined']</td>\n",
       "      <td>coop</td>\n",
       "      <td>coop</td>\n",
       "      <td>70</td>\n",
       "      <td>1</td>\n",
       "      <td>3639</td>\n",
       "      <td>5183</td>\n",
       "      <td>not defined</td>\n",
       "      <td>2</td>\n",
       "    </tr>\n",
       "    <tr>\n",
       "      <td>2</td>\n",
       "      <td>5</td>\n",
       "      <td>5005</td>\n",
       "      <td>0</td>\n",
       "      <td>N.N.</td>\n",
       "      <td>opt</td>\n",
       "      <td>nat</td>\n",
       "      <td>opt_nat</td>\n",
       "      <td>2</td>\n",
       "      <td>10</td>\n",
       "      <td>12</td>\n",
       "      <td>SG</td>\n",
       "      <td>['Not', 'Defined']</td>\n",
       "      <td>def</td>\n",
       "      <td>coop</td>\n",
       "      <td>52</td>\n",
       "      <td>0</td>\n",
       "      <td>4796</td>\n",
       "      <td>6608</td>\n",
       "      <td>not defined</td>\n",
       "      <td>3</td>\n",
       "    </tr>\n",
       "    <tr>\n",
       "      <td>3</td>\n",
       "      <td>5</td>\n",
       "      <td>5005</td>\n",
       "      <td>0</td>\n",
       "      <td>N.N.</td>\n",
       "      <td>opt</td>\n",
       "      <td>nat</td>\n",
       "      <td>opt_nat</td>\n",
       "      <td>3</td>\n",
       "      <td>3</td>\n",
       "      <td>5</td>\n",
       "      <td>SH</td>\n",
       "      <td>['Not', 'Defined']</td>\n",
       "      <td>coop</td>\n",
       "      <td>def</td>\n",
       "      <td>52</td>\n",
       "      <td>0</td>\n",
       "      <td>3840</td>\n",
       "      <td>5502</td>\n",
       "      <td>not defined</td>\n",
       "      <td>4</td>\n",
       "    </tr>\n",
       "    <tr>\n",
       "      <td>4</td>\n",
       "      <td>5</td>\n",
       "      <td>5005</td>\n",
       "      <td>0</td>\n",
       "      <td>N.N.</td>\n",
       "      <td>opt</td>\n",
       "      <td>nat</td>\n",
       "      <td>opt_nat</td>\n",
       "      <td>4</td>\n",
       "      <td>0</td>\n",
       "      <td>8</td>\n",
       "      <td>SH</td>\n",
       "      <td>['Not', 'Defined']</td>\n",
       "      <td>coop</td>\n",
       "      <td>coop</td>\n",
       "      <td>54</td>\n",
       "      <td>1</td>\n",
       "      <td>3806</td>\n",
       "      <td>6322</td>\n",
       "      <td>not defined</td>\n",
       "      <td>5</td>\n",
       "    </tr>\n",
       "  </tbody>\n",
       "</table>\n",
       "</div>"
      ],
      "text/plain": [
       "   sub  subID  Block Player Type Variant Type_Total  Trial   S   T GameType  \\\n",
       "0    5   5005      0   N.N.  opt     nat    opt_nat      0   0  12       PD   \n",
       "1    5   5005      0   N.N.  opt     nat    opt_nat      1   7   5       HG   \n",
       "2    5   5005      0   N.N.  opt     nat    opt_nat      2  10  12       SG   \n",
       "3    5   5005      0   N.N.  opt     nat    opt_nat      3   3   5       SH   \n",
       "4    5   5005      0   N.N.  opt     nat    opt_nat      4   0   8       SH   \n",
       "\n",
       "               Colors CorrAns GivenAns  ConfidenceNum  ScoreNum  RT_radio  \\\n",
       "0  ['Not', 'Defined']     def      def             86         1      8631   \n",
       "1  ['Not', 'Defined']    coop     coop             70         1      3639   \n",
       "2  ['Not', 'Defined']     def     coop             52         0      4796   \n",
       "3  ['Not', 'Defined']    coop      def             52         0      3840   \n",
       "4  ['Not', 'Defined']    coop     coop             54         1      3806   \n",
       "\n",
       "   RT_submit   SelfReport  trial  \n",
       "0      10443  not defined      1  \n",
       "1       5183  not defined      2  \n",
       "2       6608  not defined      3  \n",
       "3       5502  not defined      4  \n",
       "4       6322  not defined      5  "
      ]
     },
     "execution_count": 42,
     "metadata": {},
     "output_type": "execute_result"
    }
   ],
   "source": [
    "# Load game performance for each subject\n",
    "game_dat = pd.read_csv('%s/Data/gameDat_study2.csv'%base_dir, index_col = 0,\n",
    "                      dtype = {'sub':int})\n",
    "game_dat['trial'] = game_dat['Trial'] + 1 + game_dat['Block']*16\n",
    "game_dat.head()"
   ]
  },
  {
   "cell_type": "code",
   "execution_count": 43,
   "metadata": {},
   "outputs": [
    {
     "data": {
      "text/html": [
       "<div>\n",
       "<style scoped>\n",
       "    .dataframe tbody tr th:only-of-type {\n",
       "        vertical-align: middle;\n",
       "    }\n",
       "\n",
       "    .dataframe tbody tr th {\n",
       "        vertical-align: top;\n",
       "    }\n",
       "\n",
       "    .dataframe thead th {\n",
       "        text-align: right;\n",
       "    }\n",
       "</style>\n",
       "<table border=\"1\" class=\"dataframe\">\n",
       "  <thead>\n",
       "    <tr style=\"text-align: right;\">\n",
       "      <th></th>\n",
       "      <th>sub</th>\n",
       "      <th>player_type</th>\n",
       "      <th>trial</th>\n",
       "      <th>S-T</th>\n",
       "      <th>score</th>\n",
       "    </tr>\n",
       "  </thead>\n",
       "  <tbody>\n",
       "    <tr>\n",
       "      <td>0</td>\n",
       "      <td>5</td>\n",
       "      <td>opt_inv</td>\n",
       "      <td>80.5</td>\n",
       "      <td>0.046834</td>\n",
       "      <td>0.40625</td>\n",
       "    </tr>\n",
       "    <tr>\n",
       "      <td>1</td>\n",
       "      <td>5</td>\n",
       "      <td>opt_nat</td>\n",
       "      <td>40.5</td>\n",
       "      <td>0.014752</td>\n",
       "      <td>0.90625</td>\n",
       "    </tr>\n",
       "    <tr>\n",
       "      <td>2</td>\n",
       "      <td>5</td>\n",
       "      <td>pess_inv</td>\n",
       "      <td>80.5</td>\n",
       "      <td>0.032518</td>\n",
       "      <td>0.43750</td>\n",
       "    </tr>\n",
       "    <tr>\n",
       "      <td>3</td>\n",
       "      <td>5</td>\n",
       "      <td>pess_nat</td>\n",
       "      <td>56.5</td>\n",
       "      <td>0.054629</td>\n",
       "      <td>0.93750</td>\n",
       "    </tr>\n",
       "    <tr>\n",
       "      <td>4</td>\n",
       "      <td>6</td>\n",
       "      <td>opt_inv</td>\n",
       "      <td>80.5</td>\n",
       "      <td>0.098905</td>\n",
       "      <td>0.40625</td>\n",
       "    </tr>\n",
       "  </tbody>\n",
       "</table>\n",
       "</div>"
      ],
      "text/plain": [
       "   sub player_type  trial       S-T    score\n",
       "0    5     opt_inv   80.5  0.046834  0.40625\n",
       "1    5     opt_nat   40.5  0.014752  0.90625\n",
       "2    5    pess_inv   80.5  0.032518  0.43750\n",
       "3    5    pess_nat   56.5  0.054629  0.93750\n",
       "4    6     opt_inv   80.5  0.098905  0.40625"
      ]
     },
     "metadata": {},
     "output_type": "display_data"
    }
   ],
   "source": [
    "# Add in total game score per subject, average per subject\n",
    "tmp = LT_diff_by_trial[['sub','trial','player_type','S-T']].merge(\n",
    "    game_dat[['sub','trial','ScoreNum']], on = ['sub','trial'])\n",
    "tmp = tmp.groupby(['sub','player_type'],\n",
    "                as_index=False).mean()\n",
    "tmp = tmp.rename(columns={'ScoreNum':'score'})\n",
    "display(tmp.head())"
   ]
  },
  {
   "cell_type": "code",
   "execution_count": 44,
   "metadata": {},
   "outputs": [
    {
     "data": {
      "image/png": "[encoded data removed]",
      "text/plain": [
       "<Figure size 432x360 with 1 Axes>"
      ]
     },
     "metadata": {
      "needs_background": "light"
     },
     "output_type": "display_data"
    }
   ],
   "source": [
    "# Plot relationship\n",
    "sns.set_context('talk')\n",
    "pts = ['opt_nat','pess_nat']\n",
    "nrows = 1\n",
    "ncols = 1\n",
    "fig, axes = plt.subplots(nrows,ncols,figsize=[6,5])\n",
    "hands = dict()\n",
    "labs = dict()\n",
    "markers = ['o','^']\n",
    "ax = axes\n",
    "xticks = np.arange(0,.161,.02)\n",
    "for pti,pt in enumerate(pts):\n",
    "    sns.regplot(data = tmp.query('player_type == @pt'),\n",
    "        x = 'S-T', y = 'score', ax = ax,\n",
    "        label = pt, color = sns.color_palette('tab10')[pti],\n",
    "        marker = markers[pti])\n",
    "    hands,labs = ax.get_legend_handles_labels()\n",
    "    ax.set(xlabel = 'Gaze proportion S – T\\n<-- equal S & T             more S -->',\n",
    "          ylabel = 'Accuracy', ylim = [0.3,1.02],\n",
    "           xlim = [0,.16],\n",
    "          xticks = xticks,\n",
    "           xticklabels = ['{:,.0%}'.format(x) for x in xticks],\n",
    "          yticks = np.arange(0.3,1.01,.1),\n",
    "          yticklabels = ['{:,.0%}'.format(x) for x in  np.arange(0.3,1.01,.1)])\n",
    "sns.despine(top=True, right = True)"
   ]
  },
  {
   "cell_type": "code",
   "execution_count": 45,
   "metadata": {},
   "outputs": [
    {
     "name": "stdout",
     "output_type": "stream",
     "text": [
      "(-0.06964591347908644, 0.6308013347416787)\n",
      "(0.36965178086723377, 0.008241238343605817)\n"
     ]
    }
   ],
   "source": [
    "# Statistics\n",
    "# Optimist\n",
    "statdat = tmp.query('player_type == \"opt_nat\"')\n",
    "dat1 = statdat['S-T']\n",
    "dat2 = statdat['score']\n",
    "print(scipy.stats.pearsonr(dat1,dat2))\n",
    "# Pessimist\n",
    "statdat = tmp.query('player_type == \"pess_nat\"')\n",
    "dat1 = statdat['S-T']\n",
    "dat2 = statdat['score']\n",
    "print(scipy.stats.pearsonr(dat1,dat2))"
   ]
  },
  {
   "cell_type": "markdown",
   "metadata": {},
   "source": [
    "# Supplementary Results 7: comparing gaze between participants with different mental models"
   ]
  },
  {
   "cell_type": "code",
   "execution_count": 46,
   "metadata": {},
   "outputs": [],
   "source": [
    "# Load model features per subject, add these into the looking time data\n",
    "bestPerSubject_features = pd.read_csv(base_dir+\n",
    "    '/Data/Model_results/ModelFeaturesPerSubject.csv',index_col = 0)\n",
    "bestPerSubject_features['sub'] = bestPerSubject_features['subID'] - 5000\n",
    "fix_pct_LT_model_features = fix_pct_LT.merge(bestPerSubject_features, on = 'sub')"
   ]
  },
  {
   "cell_type": "code",
   "execution_count": 47,
   "metadata": {},
   "outputs": [
    {
     "data": {
      "text/html": [
       "<div>\n",
       "<style scoped>\n",
       "    .dataframe tbody tr th:only-of-type {\n",
       "        vertical-align: middle;\n",
       "    }\n",
       "\n",
       "    .dataframe tbody tr th {\n",
       "        vertical-align: top;\n",
       "    }\n",
       "\n",
       "    .dataframe thead th {\n",
       "        text-align: right;\n",
       "    }\n",
       "</style>\n",
       "<table border=\"1\" class=\"dataframe\">\n",
       "  <thead>\n",
       "    <tr style=\"text-align: right;\">\n",
       "      <th></th>\n",
       "      <th>sub</th>\n",
       "      <th>Risk</th>\n",
       "      <th>player_type</th>\n",
       "      <th>num_S_T</th>\n",
       "      <th>index</th>\n",
       "      <th>part</th>\n",
       "      <th>block</th>\n",
       "      <th>trial</th>\n",
       "      <th>dur_pct</th>\n",
       "      <th>block_trial</th>\n",
       "      <th>mini_block</th>\n",
       "      <th>subID</th>\n",
       "      <th>Coop</th>\n",
       "      <th>Greed</th>\n",
       "      <th>Nash</th>\n",
       "      <th>comb</th>\n",
       "      <th>BIC</th>\n",
       "    </tr>\n",
       "  </thead>\n",
       "  <tbody>\n",
       "    <tr>\n",
       "      <td>0</td>\n",
       "      <td>5</td>\n",
       "      <td>True</td>\n",
       "      <td>opt_inv</td>\n",
       "      <td>S</td>\n",
       "      <td>1</td>\n",
       "      <td>3.0</td>\n",
       "      <td>11.0</td>\n",
       "      <td>161.0</td>\n",
       "      <td>0.201654</td>\n",
       "      <td>17.0</td>\n",
       "      <td>5.0</td>\n",
       "      <td>10010.0</td>\n",
       "      <td>0.0</td>\n",
       "      <td>2.0</td>\n",
       "      <td>0.0</td>\n",
       "      <td>22000.0</td>\n",
       "      <td>35.54</td>\n",
       "    </tr>\n",
       "    <tr>\n",
       "      <td>1</td>\n",
       "      <td>5</td>\n",
       "      <td>True</td>\n",
       "      <td>opt_inv</td>\n",
       "      <td>T</td>\n",
       "      <td>5</td>\n",
       "      <td>3.0</td>\n",
       "      <td>11.0</td>\n",
       "      <td>161.0</td>\n",
       "      <td>0.107986</td>\n",
       "      <td>17.0</td>\n",
       "      <td>5.0</td>\n",
       "      <td>10010.0</td>\n",
       "      <td>0.0</td>\n",
       "      <td>2.0</td>\n",
       "      <td>0.0</td>\n",
       "      <td>22000.0</td>\n",
       "      <td>35.54</td>\n",
       "    </tr>\n",
       "    <tr>\n",
       "      <td>2</td>\n",
       "      <td>5</td>\n",
       "      <td>True</td>\n",
       "      <td>opt_inv</td>\n",
       "      <td>no_S_T</td>\n",
       "      <td>30</td>\n",
       "      <td>7.5</td>\n",
       "      <td>27.5</td>\n",
       "      <td>402.5</td>\n",
       "      <td>0.690360</td>\n",
       "      <td>42.5</td>\n",
       "      <td>12.5</td>\n",
       "      <td>25025.0</td>\n",
       "      <td>0.0</td>\n",
       "      <td>5.0</td>\n",
       "      <td>0.0</td>\n",
       "      <td>55000.0</td>\n",
       "      <td>88.85</td>\n",
       "    </tr>\n",
       "    <tr>\n",
       "      <td>3</td>\n",
       "      <td>5</td>\n",
       "      <td>True</td>\n",
       "      <td>opt_nat</td>\n",
       "      <td>S</td>\n",
       "      <td>19</td>\n",
       "      <td>3.0</td>\n",
       "      <td>6.0</td>\n",
       "      <td>81.0</td>\n",
       "      <td>0.159366</td>\n",
       "      <td>17.0</td>\n",
       "      <td>5.0</td>\n",
       "      <td>10010.0</td>\n",
       "      <td>0.0</td>\n",
       "      <td>2.0</td>\n",
       "      <td>0.0</td>\n",
       "      <td>22000.0</td>\n",
       "      <td>35.54</td>\n",
       "    </tr>\n",
       "    <tr>\n",
       "      <td>4</td>\n",
       "      <td>5</td>\n",
       "      <td>True</td>\n",
       "      <td>opt_nat</td>\n",
       "      <td>T</td>\n",
       "      <td>23</td>\n",
       "      <td>3.0</td>\n",
       "      <td>6.0</td>\n",
       "      <td>81.0</td>\n",
       "      <td>0.129862</td>\n",
       "      <td>17.0</td>\n",
       "      <td>5.0</td>\n",
       "      <td>10010.0</td>\n",
       "      <td>0.0</td>\n",
       "      <td>2.0</td>\n",
       "      <td>0.0</td>\n",
       "      <td>22000.0</td>\n",
       "      <td>35.54</td>\n",
       "    </tr>\n",
       "  </tbody>\n",
       "</table>\n",
       "</div>"
      ],
      "text/plain": [
       "   sub  Risk player_type num_S_T  index  part  block  trial   dur_pct  \\\n",
       "0    5  True     opt_inv       S      1   3.0   11.0  161.0  0.201654   \n",
       "1    5  True     opt_inv       T      5   3.0   11.0  161.0  0.107986   \n",
       "2    5  True     opt_inv  no_S_T     30   7.5   27.5  402.5  0.690360   \n",
       "3    5  True     opt_nat       S     19   3.0    6.0   81.0  0.159366   \n",
       "4    5  True     opt_nat       T     23   3.0    6.0   81.0  0.129862   \n",
       "\n",
       "   block_trial  mini_block    subID  Coop  Greed  Nash     comb    BIC  \n",
       "0         17.0         5.0  10010.0   0.0    2.0   0.0  22000.0  35.54  \n",
       "1         17.0         5.0  10010.0   0.0    2.0   0.0  22000.0  35.54  \n",
       "2         42.5        12.5  25025.0   0.0    5.0   0.0  55000.0  88.85  \n",
       "3         17.0         5.0  10010.0   0.0    2.0   0.0  22000.0  35.54  \n",
       "4         17.0         5.0  10010.0   0.0    2.0   0.0  22000.0  35.54  "
      ]
     },
     "metadata": {},
     "output_type": "display_data"
    }
   ],
   "source": [
    "tmp = fix_pct_LT_model_features.groupby(['sub','Risk','player_type','num_S_T','num']\n",
    "                        ,as_index = False).mean().reset_index()\n",
    "tmp = tmp.groupby(['sub','Risk','player_type','num_S_T'],\n",
    "                          as_index=False).sum()\n",
    "display(tmp.head())"
   ]
  },
  {
   "cell_type": "code",
   "execution_count": 48,
   "metadata": {},
   "outputs": [
    {
     "data": {
      "text/plain": [
       "<seaborn.axisgrid.FacetGrid at 0x7fe9eaf4e650>"
      ]
     },
     "execution_count": 48,
     "metadata": {},
     "output_type": "execute_result"
    },
    {
     "data": {
      "image/png": "[encoded data removed]",
      "text/plain": [
       "<Figure size 801.7x360 with 2 Axes>"
      ]
     },
     "metadata": {
      "needs_background": "light"
     },
     "output_type": "display_data"
    }
   ],
   "source": [
    "sns.catplot(data = tmp, kind = 'bar',\n",
    "            x = 'player_type', y = 'dur_pct', hue = 'num_S_T',\n",
    "            hue_order = ['S','T'],\n",
    "            col = 'Risk')"
   ]
  },
  {
   "cell_type": "markdown",
   "metadata": {},
   "source": [
    "##### Is the difference between looking at S and T across all blocks greater for people who consider Risk?"
   ]
  },
  {
   "cell_type": "code",
   "execution_count": 61,
   "metadata": {},
   "outputs": [
    {
     "data": {
      "text/html": [
       "<div>\n",
       "<style scoped>\n",
       "    .dataframe tbody tr th:only-of-type {\n",
       "        vertical-align: middle;\n",
       "    }\n",
       "\n",
       "    .dataframe tbody tr th {\n",
       "        vertical-align: top;\n",
       "    }\n",
       "\n",
       "    .dataframe thead th {\n",
       "        text-align: right;\n",
       "    }\n",
       "</style>\n",
       "<table border=\"1\" class=\"dataframe\">\n",
       "  <thead>\n",
       "    <tr style=\"text-align: right;\">\n",
       "      <th>num_S_T</th>\n",
       "      <th>sub</th>\n",
       "      <th>Risk</th>\n",
       "      <th>trial</th>\n",
       "      <th>mini_block</th>\n",
       "      <th>player_type</th>\n",
       "      <th>S</th>\n",
       "      <th>T</th>\n",
       "      <th>no_S_T</th>\n",
       "      <th>S-T</th>\n",
       "    </tr>\n",
       "  </thead>\n",
       "  <tbody>\n",
       "    <tr>\n",
       "      <td>0</td>\n",
       "      <td>5</td>\n",
       "      <td>True</td>\n",
       "      <td>1</td>\n",
       "      <td>1</td>\n",
       "      <td>opt_nat</td>\n",
       "      <td>0.054487</td>\n",
       "      <td>0.081152</td>\n",
       "      <td>0.145744</td>\n",
       "      <td>-0.026665</td>\n",
       "    </tr>\n",
       "    <tr>\n",
       "      <td>1</td>\n",
       "      <td>5</td>\n",
       "      <td>True</td>\n",
       "      <td>2</td>\n",
       "      <td>1</td>\n",
       "      <td>opt_nat</td>\n",
       "      <td>0.036582</td>\n",
       "      <td>0.024162</td>\n",
       "      <td>0.175702</td>\n",
       "      <td>0.012420</td>\n",
       "    </tr>\n",
       "    <tr>\n",
       "      <td>2</td>\n",
       "      <td>5</td>\n",
       "      <td>True</td>\n",
       "      <td>3</td>\n",
       "      <td>1</td>\n",
       "      <td>opt_nat</td>\n",
       "      <td>0.020697</td>\n",
       "      <td>0.000000</td>\n",
       "      <td>0.191721</td>\n",
       "      <td>0.020697</td>\n",
       "    </tr>\n",
       "    <tr>\n",
       "      <td>3</td>\n",
       "      <td>5</td>\n",
       "      <td>True</td>\n",
       "      <td>4</td>\n",
       "      <td>1</td>\n",
       "      <td>opt_nat</td>\n",
       "      <td>0.069122</td>\n",
       "      <td>0.038464</td>\n",
       "      <td>0.156966</td>\n",
       "      <td>0.030658</td>\n",
       "    </tr>\n",
       "    <tr>\n",
       "      <td>4</td>\n",
       "      <td>5</td>\n",
       "      <td>True</td>\n",
       "      <td>5</td>\n",
       "      <td>2</td>\n",
       "      <td>opt_nat</td>\n",
       "      <td>0.064392</td>\n",
       "      <td>0.077634</td>\n",
       "      <td>0.143189</td>\n",
       "      <td>-0.013242</td>\n",
       "    </tr>\n",
       "  </tbody>\n",
       "</table>\n",
       "</div>"
      ],
      "text/plain": [
       "num_S_T  sub  Risk  trial  mini_block player_type         S         T  \\\n",
       "0          5  True      1           1     opt_nat  0.054487  0.081152   \n",
       "1          5  True      2           1     opt_nat  0.036582  0.024162   \n",
       "2          5  True      3           1     opt_nat  0.020697  0.000000   \n",
       "3          5  True      4           1     opt_nat  0.069122  0.038464   \n",
       "4          5  True      5           2     opt_nat  0.064392  0.077634   \n",
       "\n",
       "num_S_T    no_S_T       S-T  \n",
       "0        0.145744 -0.026665  \n",
       "1        0.175702  0.012420  \n",
       "2        0.191721  0.020697  \n",
       "3        0.156966  0.030658  \n",
       "4        0.143189 -0.013242  "
      ]
     },
     "execution_count": 61,
     "metadata": {},
     "output_type": "execute_result"
    }
   ],
   "source": [
    "LT_diff_by_trial = fix_pct_LT_model_features.pivot_table(\n",
    "    index = ['sub','Risk','trial','mini_block','player_type'],\n",
    "    columns = ['num_S_T'], values = 'dur_pct').reset_index()\n",
    "LT_diff_by_trial['S-T'] = LT_diff_by_trial['S'] - LT_diff_by_trial['T']\n",
    "LT_diff_by_trial.head()"
   ]
  },
  {
   "cell_type": "code",
   "execution_count": 62,
   "metadata": {},
   "outputs": [
    {
     "data": {
      "text/plain": [
       "Ttest_indResult(statistic=2.0390522348356015, pvalue=0.04697174039559627)"
      ]
     },
     "execution_count": 62,
     "metadata": {},
     "output_type": "execute_result"
    }
   ],
   "source": [
    "diff_by_Risk = LT_diff_by_trial.groupby('sub',as_index=False).mean()[['Risk','S-T']].copy()\n",
    "scipy.stats.ttest_ind(diff_by_Risk.loc[diff_by_Risk['Risk']==True,'S-T'],\n",
    "                     diff_by_Risk.loc[diff_by_Risk['Risk']==False,'S-T'])"
   ]
  },
  {
   "cell_type": "markdown",
   "metadata": {},
   "source": [
    "# Figure 4B"
   ]
  },
  {
   "cell_type": "code",
   "execution_count": 67,
   "metadata": {},
   "outputs": [
    {
     "name": "stderr",
     "output_type": "stream",
     "text": [
      "findfont: Font family ['Ubuntu'] not found. Falling back to DejaVu Sans.\n",
      "findfont: Font family ['Ubuntu'] not found. Falling back to DejaVu Sans.\n"
     ]
    },
    {
     "data": {
      "image/png": "[encoded data removed]",
      "text/plain": [
       "<Figure size 432x288 with 2 Axes>"
      ]
     },
     "metadata": {
      "needs_background": "light"
     },
     "output_type": "display_data"
    }
   ],
   "source": [
    "#### 1\n",
    "sns.set_context('poster')\n",
    "fig, ax = plt.subplots(1,2,figsize=[6,4], sharey=False)\n",
    "\n",
    "# no risk\n",
    "sns.pointplot(data = LT_diff_by_trial.query('Risk == True').groupby(\n",
    "    ['sub','player_type','mini_block'], as_index=False).mean(),\n",
    "              x = 'mini_block', hue = 'player_type', y = 'S-T',\n",
    "              hue_order = ['opt_nat','pess_nat'],\n",
    "              ax = ax[0], capsize = .1, errwidth = 1,\n",
    "             markers = ['o','^'])\n",
    "\n",
    "ax[0].set(ylabel = 'Gaze proportion S – T', xlabel = 'Trials',\n",
    "       xticklabels = ['1-4','5-8','9-12','13-16'],\n",
    "       yticks = np.arange(0,.121,.02), ylim = [0,.12],\n",
    "       title = 'Participant\\nconsiders Risk');\n",
    "ax[0].set_yticklabels(['{:,.0%}'.format(x) for x in ax[0].get_yticks()]);\n",
    "\n",
    "hand,lab = ax[0].get_legend_handles_labels()\n",
    "lab = ['Optimist', 'Pessimist']\n",
    "ax[0].legend([hand[i] for i in [1,0]],\n",
    "             ['',''],\n",
    "             loc = [0,0], ncol=1, title = None,\n",
    "            frameon=False)\n",
    "plt.setp(ax[0].xaxis.get_majorticklabels(), rotation=90)\n",
    "\n",
    "# yes risk\n",
    "sns.pointplot(data = LT_diff_by_trial.query('Risk == False').groupby(\n",
    "    ['sub','player_type','mini_block'], as_index=False).mean(),\n",
    "              x = 'mini_block', hue = 'player_type', y = 'S-T',\n",
    "              hue_order = ['opt_nat','pess_nat'],\n",
    "              ax = ax[1], capsize = .1, errwidth = 1, legend = False,\n",
    "             markers = ['o','^'])\n",
    "\n",
    "ax[1].set(xlabel = 'Trials', ylabel = None, yticks = [], ylim = [0,.12],\n",
    "       xticklabels = ['1-4','5-8','9-12','13-16'],\n",
    "       title = 'P. does not\\nconsider Risk');\n",
    "ax[1].get_legend().remove()\n",
    "plt.setp(ax[1].xaxis.get_majorticklabels(), rotation=90);\n",
    "\n",
    "sns.despine(top=True, right = True)"
   ]
  }
 ],
 "metadata": {
  "kernelspec": {
   "display_name": "Python 3",
   "language": "python",
   "name": "python3"
  },
  "language_info": {
   "codemirror_mode": {
    "name": "ipython",
    "version": 3
   },
   "file_extension": ".py",
   "mimetype": "text/x-python",
   "name": "python",
   "nbconvert_exporter": "python",
   "pygments_lexer": "ipython3",
   "version": "3.7.4"
  }
 },
 "nbformat": 4,
 "nbformat_minor": 2
}
