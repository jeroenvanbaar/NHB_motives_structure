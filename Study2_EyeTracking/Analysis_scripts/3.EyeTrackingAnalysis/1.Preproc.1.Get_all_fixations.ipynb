{
 "cells": [
  {
   "cell_type": "code",
   "execution_count": 1,
   "metadata": {
    "scrolled": true
   },
   "outputs": [],
   "source": [
    "import numpy as np\n",
    "import pandas as pd\n",
    "import matplotlib.pyplot as plt\n",
    "import seaborn as sns\n",
    "import sys, os, glob, json, re\n",
    "import pygaze\n",
    "# import GazeParser\n",
    "from helpers import *\n",
    "from tqdm import tqdm"
   ]
  },
  {
   "cell_type": "code",
   "execution_count": 2,
   "metadata": {},
   "outputs": [],
   "source": [
    "sys.path.append('pygazeanalyser')"
   ]
  },
  {
   "cell_type": "code",
   "execution_count": 3,
   "metadata": {},
   "outputs": [],
   "source": [
    "import gazeplotter, opengazereader, idfreader, eyetribereader, edfreader, detectors, traces"
   ]
  },
  {
   "cell_type": "code",
   "execution_count": 4,
   "metadata": {},
   "outputs": [],
   "source": [
    "from gazeplotter import parse_fixations, gaussian"
   ]
  },
  {
   "cell_type": "code",
   "execution_count": 5,
   "metadata": {},
   "outputs": [],
   "source": [
    "base_dir = '%s/Dropbox (Brown)/Postdoc FHL/JEROEN/SOC_STRUCT_LEARN'%os.environ['HOME']"
   ]
  },
  {
   "cell_type": "markdown",
   "metadata": {},
   "source": [
    "## Look at one subject"
   ]
  },
  {
   "cell_type": "code",
   "execution_count": 6,
   "metadata": {},
   "outputs": [],
   "source": [
    "sub = 5"
   ]
  },
  {
   "cell_type": "markdown",
   "metadata": {},
   "source": [
    "##### Raw data"
   ]
  },
  {
   "cell_type": "code",
   "execution_count": 7,
   "metadata": {},
   "outputs": [
    {
     "name": "stdout",
     "output_type": "stream",
     "text": [
      "Loading files:\n",
      "/Users/jvanbaar/Dropbox (Brown)/Postdoc FHL/JEROEN/SOC_STRUCT_LEARN/Study2_EyeTracking/Data/Cleaned/Gaze_full_info/sub-005_ses-001_part1 Samples.txt\n",
      "/Users/jvanbaar/Dropbox (Brown)/Postdoc FHL/JEROEN/SOC_STRUCT_LEARN/Study2_EyeTracking/Data/Cleaned/Gaze_full_info/sub-005_ses-001_part2 Samples.txt\n",
      "Raw data shape is (97839, 8)\n",
      "Raw data shape is (74476, 8)\n",
      "Processed data shape is (172154, 12)\n"
     ]
    },
    {
     "data": {
      "text/html": [
       "<div>\n",
       "<style scoped>\n",
       "    .dataframe tbody tr th:only-of-type {\n",
       "        vertical-align: middle;\n",
       "    }\n",
       "\n",
       "    .dataframe tbody tr th {\n",
       "        vertical-align: top;\n",
       "    }\n",
       "\n",
       "    .dataframe thead th {\n",
       "        text-align: right;\n",
       "    }\n",
       "</style>\n",
       "<table border=\"1\" class=\"dataframe\">\n",
       "  <thead>\n",
       "    <tr style=\"text-align: right;\">\n",
       "      <th></th>\n",
       "      <th>time</th>\n",
       "      <th>L_diam</th>\n",
       "      <th>R_diam</th>\n",
       "      <th>L_X</th>\n",
       "      <th>L_Y</th>\n",
       "      <th>R_X</th>\n",
       "      <th>R_Y</th>\n",
       "      <th>dt</th>\n",
       "      <th>sub</th>\n",
       "      <th>chunk</th>\n",
       "      <th>session</th>\n",
       "      <th>part</th>\n",
       "      <th>trial_row</th>\n",
       "      <th>block</th>\n",
       "      <th>trial</th>\n",
       "      <th>S</th>\n",
       "      <th>T</th>\n",
       "    </tr>\n",
       "  </thead>\n",
       "  <tbody>\n",
       "    <tr>\n",
       "      <th>7180</th>\n",
       "      <td>1733390405842</td>\n",
       "      <td>3.54</td>\n",
       "      <td>3.62</td>\n",
       "      <td>253.76</td>\n",
       "      <td>937.21</td>\n",
       "      <td>215.39</td>\n",
       "      <td>931.24</td>\n",
       "      <td>62074.596</td>\n",
       "      <td>5</td>\n",
       "      <td>Starting block 1 trial 1, S = 0 and T = 12</td>\n",
       "      <td>1</td>\n",
       "      <td>1</td>\n",
       "      <td>True</td>\n",
       "      <td>1</td>\n",
       "      <td>1</td>\n",
       "      <td>0</td>\n",
       "      <td>12</td>\n",
       "    </tr>\n",
       "    <tr>\n",
       "      <th>7181</th>\n",
       "      <td>1733390414209</td>\n",
       "      <td>3.54</td>\n",
       "      <td>3.62</td>\n",
       "      <td>253.05</td>\n",
       "      <td>939.17</td>\n",
       "      <td>209.90</td>\n",
       "      <td>932.29</td>\n",
       "      <td>62082.963</td>\n",
       "      <td>5</td>\n",
       "      <td>Starting block 1 trial 1, S = 0 and T = 12</td>\n",
       "      <td>1</td>\n",
       "      <td>1</td>\n",
       "      <td>True</td>\n",
       "      <td>1</td>\n",
       "      <td>1</td>\n",
       "      <td>0</td>\n",
       "      <td>12</td>\n",
       "    </tr>\n",
       "    <tr>\n",
       "      <th>7182</th>\n",
       "      <td>1733390422591</td>\n",
       "      <td>3.54</td>\n",
       "      <td>3.63</td>\n",
       "      <td>254.66</td>\n",
       "      <td>941.33</td>\n",
       "      <td>220.79</td>\n",
       "      <td>932.57</td>\n",
       "      <td>62091.345</td>\n",
       "      <td>5</td>\n",
       "      <td>Starting block 1 trial 1, S = 0 and T = 12</td>\n",
       "      <td>1</td>\n",
       "      <td>1</td>\n",
       "      <td>True</td>\n",
       "      <td>1</td>\n",
       "      <td>1</td>\n",
       "      <td>0</td>\n",
       "      <td>12</td>\n",
       "    </tr>\n",
       "    <tr>\n",
       "      <th>7183</th>\n",
       "      <td>1733390430948</td>\n",
       "      <td>3.54</td>\n",
       "      <td>3.63</td>\n",
       "      <td>252.05</td>\n",
       "      <td>941.05</td>\n",
       "      <td>222.75</td>\n",
       "      <td>931.99</td>\n",
       "      <td>62099.702</td>\n",
       "      <td>5</td>\n",
       "      <td>Starting block 1 trial 1, S = 0 and T = 12</td>\n",
       "      <td>1</td>\n",
       "      <td>1</td>\n",
       "      <td>True</td>\n",
       "      <td>1</td>\n",
       "      <td>1</td>\n",
       "      <td>0</td>\n",
       "      <td>12</td>\n",
       "    </tr>\n",
       "    <tr>\n",
       "      <th>7184</th>\n",
       "      <td>1733390439199</td>\n",
       "      <td>3.55</td>\n",
       "      <td>3.63</td>\n",
       "      <td>248.47</td>\n",
       "      <td>941.38</td>\n",
       "      <td>223.55</td>\n",
       "      <td>931.71</td>\n",
       "      <td>62107.953</td>\n",
       "      <td>5</td>\n",
       "      <td>Starting block 1 trial 1, S = 0 and T = 12</td>\n",
       "      <td>1</td>\n",
       "      <td>1</td>\n",
       "      <td>True</td>\n",
       "      <td>1</td>\n",
       "      <td>1</td>\n",
       "      <td>0</td>\n",
       "      <td>12</td>\n",
       "    </tr>\n",
       "  </tbody>\n",
       "</table>\n",
       "</div>"
      ],
      "text/plain": [
       "               time  L_diam  R_diam     L_X     L_Y     R_X     R_Y  \\\n",
       "7180  1733390405842    3.54    3.62  253.76  937.21  215.39  931.24   \n",
       "7181  1733390414209    3.54    3.62  253.05  939.17  209.90  932.29   \n",
       "7182  1733390422591    3.54    3.63  254.66  941.33  220.79  932.57   \n",
       "7183  1733390430948    3.54    3.63  252.05  941.05  222.75  931.99   \n",
       "7184  1733390439199    3.55    3.63  248.47  941.38  223.55  931.71   \n",
       "\n",
       "             dt  sub                                       chunk  session  \\\n",
       "7180  62074.596    5  Starting block 1 trial 1, S = 0 and T = 12        1   \n",
       "7181  62082.963    5  Starting block 1 trial 1, S = 0 and T = 12        1   \n",
       "7182  62091.345    5  Starting block 1 trial 1, S = 0 and T = 12        1   \n",
       "7183  62099.702    5  Starting block 1 trial 1, S = 0 and T = 12        1   \n",
       "7184  62107.953    5  Starting block 1 trial 1, S = 0 and T = 12        1   \n",
       "\n",
       "      part  trial_row  block  trial  S   T  \n",
       "7180     1       True      1      1  0  12  \n",
       "7181     1       True      1      1  0  12  \n",
       "7182     1       True      1      1  0  12  \n",
       "7183     1       True      1      1  0  12  \n",
       "7184     1       True      1      1  0  12  "
      ]
     },
     "execution_count": 7,
     "metadata": {},
     "output_type": "execute_result"
    }
   ],
   "source": [
    "gaze_data_trials = parse_trials(load_data(sub, base_dir = base_dir))\n",
    "gaze_data_trials.head()"
   ]
  },
  {
   "cell_type": "markdown",
   "metadata": {},
   "source": [
    "##### Fixation events"
   ]
  },
  {
   "cell_type": "code",
   "execution_count": 8,
   "metadata": {},
   "outputs": [
    {
     "name": "stdout",
     "output_type": "stream",
     "text": [
      "Loading files:\n",
      "/Users/jvanbaar/Dropbox (Brown)/Postdoc FHL/JEROEN/SOC_STRUCT_LEARN/Study2_EyeTracking/Data/Cleaned/Gaze_events/sub-005_ses-001_part1 Events.txt\n",
      "/Users/jvanbaar/Dropbox (Brown)/Postdoc FHL/JEROEN/SOC_STRUCT_LEARN/Study2_EyeTracking/Data/Cleaned/Gaze_events/sub-005_ses-001_part2 Events.txt\n",
      "[1, 1] [1, 2]\n",
      "Raw data shape is (10812, 17)\n",
      "Raw data shape is (9017, 17)\n"
     ]
    },
    {
     "data": {
      "text/html": [
       "<div>\n",
       "<style scoped>\n",
       "    .dataframe tbody tr th:only-of-type {\n",
       "        vertical-align: middle;\n",
       "    }\n",
       "\n",
       "    .dataframe tbody tr th {\n",
       "        vertical-align: top;\n",
       "    }\n",
       "\n",
       "    .dataframe thead th {\n",
       "        text-align: right;\n",
       "    }\n",
       "</style>\n",
       "<table border=\"1\" class=\"dataframe\">\n",
       "  <thead>\n",
       "    <tr style=\"text-align: right;\">\n",
       "      <th></th>\n",
       "      <th>event_type</th>\n",
       "      <th>tracker_trial</th>\n",
       "      <th>number</th>\n",
       "      <th>start</th>\n",
       "      <th>end</th>\n",
       "      <th>duration</th>\n",
       "      <th>X</th>\n",
       "      <th>Y</th>\n",
       "      <th>disp_X</th>\n",
       "      <th>disp_Y</th>\n",
       "      <th>plane</th>\n",
       "      <th>avg_pupil_X</th>\n",
       "      <th>avg_pupil_Y</th>\n",
       "      <th>file_index</th>\n",
       "    </tr>\n",
       "  </thead>\n",
       "  <tbody>\n",
       "    <tr>\n",
       "      <th>0</th>\n",
       "      <td>Fixation L</td>\n",
       "      <td>1</td>\n",
       "      <td>1</td>\n",
       "      <td>1733351806245</td>\n",
       "      <td>1733352006492</td>\n",
       "      <td>200247</td>\n",
       "      <td>156.92</td>\n",
       "      <td>793.45</td>\n",
       "      <td>37.0</td>\n",
       "      <td>35.0</td>\n",
       "      <td>-1</td>\n",
       "      <td>12.47</td>\n",
       "      <td>12.47</td>\n",
       "      <td>0</td>\n",
       "    </tr>\n",
       "    <tr>\n",
       "      <th>1</th>\n",
       "      <td>Fixation L</td>\n",
       "      <td>1</td>\n",
       "      <td>2</td>\n",
       "      <td>1733352048255</td>\n",
       "      <td>1733352181779</td>\n",
       "      <td>133524</td>\n",
       "      <td>647.91</td>\n",
       "      <td>440.48</td>\n",
       "      <td>20.0</td>\n",
       "      <td>49.0</td>\n",
       "      <td>-1</td>\n",
       "      <td>12.30</td>\n",
       "      <td>12.30</td>\n",
       "      <td>0</td>\n",
       "    </tr>\n",
       "    <tr>\n",
       "      <th>2</th>\n",
       "      <td>Fixation L</td>\n",
       "      <td>1</td>\n",
       "      <td>3</td>\n",
       "      <td>1733352198389</td>\n",
       "      <td>1733352365277</td>\n",
       "      <td>166888</td>\n",
       "      <td>468.06</td>\n",
       "      <td>268.64</td>\n",
       "      <td>56.0</td>\n",
       "      <td>29.0</td>\n",
       "      <td>-1</td>\n",
       "      <td>12.08</td>\n",
       "      <td>12.08</td>\n",
       "      <td>0</td>\n",
       "    </tr>\n",
       "    <tr>\n",
       "      <th>3</th>\n",
       "      <td>Fixation L</td>\n",
       "      <td>1</td>\n",
       "      <td>4</td>\n",
       "      <td>1733352373522</td>\n",
       "      <td>1733353216152</td>\n",
       "      <td>842630</td>\n",
       "      <td>412.50</td>\n",
       "      <td>226.11</td>\n",
       "      <td>22.0</td>\n",
       "      <td>76.0</td>\n",
       "      <td>-1</td>\n",
       "      <td>12.15</td>\n",
       "      <td>12.15</td>\n",
       "      <td>0</td>\n",
       "    </tr>\n",
       "    <tr>\n",
       "      <th>4</th>\n",
       "      <td>Fixation L</td>\n",
       "      <td>1</td>\n",
       "      <td>5</td>\n",
       "      <td>1733353224553</td>\n",
       "      <td>1733354108790</td>\n",
       "      <td>884237</td>\n",
       "      <td>421.80</td>\n",
       "      <td>255.74</td>\n",
       "      <td>44.0</td>\n",
       "      <td>53.0</td>\n",
       "      <td>-1</td>\n",
       "      <td>12.62</td>\n",
       "      <td>12.62</td>\n",
       "      <td>0</td>\n",
       "    </tr>\n",
       "  </tbody>\n",
       "</table>\n",
       "</div>"
      ],
      "text/plain": [
       "   event_type tracker_trial number          start            end  duration  \\\n",
       "0  Fixation L             1      1  1733351806245  1733352006492    200247   \n",
       "1  Fixation L             1      2  1733352048255  1733352181779    133524   \n",
       "2  Fixation L             1      3  1733352198389  1733352365277    166888   \n",
       "3  Fixation L             1      4  1733352373522  1733353216152    842630   \n",
       "4  Fixation L             1      5  1733353224553  1733354108790    884237   \n",
       "\n",
       "        X       Y  disp_X  disp_Y plane  avg_pupil_X  avg_pupil_Y  file_index  \n",
       "0  156.92  793.45    37.0    35.0    -1        12.47        12.47           0  \n",
       "1  647.91  440.48    20.0    49.0    -1        12.30        12.30           0  \n",
       "2  468.06  268.64    56.0    29.0    -1        12.08        12.08           0  \n",
       "3  412.50  226.11    22.0    76.0    -1        12.15        12.15           0  \n",
       "4  421.80  255.74    44.0    53.0    -1        12.62        12.62           0  "
      ]
     },
     "execution_count": 8,
     "metadata": {},
     "output_type": "execute_result"
    }
   ],
   "source": [
    "fixation_events = load_fixations(sub)\n",
    "fixation_events.head()"
   ]
  },
  {
   "cell_type": "code",
   "execution_count": 9,
   "metadata": {},
   "outputs": [
    {
     "data": {
      "text/plain": [
       "<matplotlib.axes._subplots.AxesSubplot at 0x1a1f1fb198>"
      ]
     },
     "execution_count": 9,
     "metadata": {},
     "output_type": "execute_result"
    },
    {
     "data": {
      "image/png": "[encoded data removed]",
      "text/plain": [
       "<Figure size 432x288 with 1 Axes>"
      ]
     },
     "metadata": {
      "needs_background": "light"
     },
     "output_type": "display_data"
    }
   ],
   "source": [
    "fixation_events['start'].plot()"
   ]
  },
  {
   "cell_type": "markdown",
   "metadata": {},
   "source": [
    "Should see at least four positive-slope line segments here: eye L and R for the first part, then eye L and R for the second part. For subjects with more calibrations between blocks, more lines should appear (but shorter ones)."
   ]
  },
  {
   "cell_type": "markdown",
   "metadata": {},
   "source": [
    "##### Plot a few trials"
   ]
  },
  {
   "cell_type": "code",
   "execution_count": 11,
   "metadata": {
    "scrolled": true
   },
   "outputs": [
    {
     "name": "stdout",
     "output_type": "stream",
     "text": [
      "12"
     ]
    },
    {
     "data": {
      "image/png": "[encoded data removed]",
      "text/plain": [
       "<Figure size 864x576 with 4 Axes>"
      ]
     },
     "metadata": {},
     "output_type": "display_data"
    }
   ],
   "source": [
    "dispsize = [1680, 1050]\n",
    "dpi = 150\n",
    "\n",
    "trials = np.arange(1,3)\n",
    "eyes = ['L','R']\n",
    "\n",
    "fig, axes = plt.subplots(len(trials), len(eyes), figsize = [12,4*len(trials)])\n",
    "\n",
    "for ti, trial in enumerate(trials):\n",
    "    print(trial, end = '')\n",
    "    for ei,eye in enumerate(eyes):\n",
    "        ax = axes[ti,ei]\n",
    "        S, T = gaze_data_trials.query('trial == @trial')[['S','T']].drop_duplicates().values[0]\n",
    "        fix = select_trial_fixations(trial, gaze_data_trials, fixation_events, eye = eye)\n",
    "        fix = fix.loc[(fix['X'] >= 200) & (fix['X'] <= 1120) &\n",
    "                      (fix['Y'] >= 200) & (fix['Y'] <= 950),:].reset_index(drop=True)\n",
    "        fix_dict = parse_fixations(fix.values)\n",
    "        hm = get_heatmap(fix_dict, dispsize = dispsize)\n",
    "        plot_heatmap(hm, dispsize, ax = ax, draw_numbers = True, remove_zeros = True, S = S, T = T,\n",
    "                    alpha = 0.3)\n",
    "        ax.set(title = 'Sub-%03d %s'%(sub,eye), ylabel = 'Trial %i'%trial)\n",
    "        ax.invert_yaxis()\n",
    "plt.tight_layout()\n",
    "# plt.savefig('/'.join(base_dir.split('/')[:3]) + '/Desktop' + \n",
    "#             '/trial_heatmap.pdf',bbox_inches='tight',transparent=True)"
   ]
  },
  {
   "cell_type": "markdown",
   "metadata": {},
   "source": [
    "## Parse fixations for all subjects and store to disk"
   ]
  },
  {
   "cell_type": "code",
   "execution_count": 17,
   "metadata": {},
   "outputs": [],
   "source": [
    "# subs = np.arange(5,55)\n",
    "# trials = np.arange(1,129)\n",
    "# eyes = ['L','R']\n",
    "\n",
    "# for si,sub in tqdm(enumerate(subs)):\n",
    "#     sub_fix = pd.DataFrame()\n",
    "#     gaze_data_trials = parse_trials(load_data(sub, base_dir = base_dir))\n",
    "#     fixation_events = load_fixations(sub)\n",
    "#     for ti,trial in enumerate(trials):\n",
    "#         trial_dat = gaze_data_trials.query('trial == @trial')\n",
    "#         trial_fixations = fixation_events.query('start >= %i & end <= %i'%(\n",
    "#             trial_dat['time'].min(), trial_dat['time'].max())).copy()\n",
    "#         trial_fixations['eye'] = trial_fixations['event_type'].apply(lambda x: x[-1])\n",
    "#         trial_fixations = trial_fixations[['eye','start','end','duration','X','Y']].reset_index(drop=True)\n",
    "# #         print(trial, end = '|')\n",
    "#         for ei,eye in enumerate(eyes):\n",
    "#             fix = pd.DataFrame(parse_fixations(trial_fixations.query('eye == @eye').iloc[:,1:].values))\n",
    "#             fix['sub'] = sub\n",
    "#             fix['trial'] = trial\n",
    "#             fix['eye'] = eye\n",
    "#             sub_fix = sub_fix.append(fix).reset_index(drop=True)\n",
    "#     sub_fix.to_csv(base_dir + '/Study2_EyeTracking/Data/Cleaned/Gaze_events/sub-%03d_fixations.csv'%sub)"
   ]
  },
  {
   "cell_type": "markdown",
   "metadata": {},
   "source": [
    "##### Test"
   ]
  },
  {
   "cell_type": "code",
   "execution_count": 21,
   "metadata": {},
   "outputs": [
    {
     "data": {
      "text/plain": [
       "<matplotlib.axes._subplots.AxesSubplot at 0x1a23197c50>"
      ]
     },
     "execution_count": 21,
     "metadata": {},
     "output_type": "execute_result"
    },
    {
     "data": {
      "image/png": "[encoded data removed]",
      "text/plain": [
       "<Figure size 576x360 with 1 Axes>"
      ]
     },
     "metadata": {},
     "output_type": "display_data"
    }
   ],
   "source": [
    "sub = 5\n",
    "trial = 1\n",
    "sub_fix = pd.read_csv(base_dir + '/Study2_EyeTracking/Data/Cleaned/Gaze_events/sub-%03d_fixations.csv'%sub,\n",
    "                     index_col = 0)\n",
    "trial_fix = sub_fix.query('trial == @trial')\n",
    "trial_fix = trial_fix.loc[(trial_fix['x'] >= 200) & (trial_fix['x'] <= 1120) &\n",
    "                          (trial_fix['y'] >= 200) & (trial_fix['y'] <= 950),:].reset_index(drop=True)\n",
    "heatmap = get_heatmap(trial_fix, dispsize)\n",
    "plot_heatmap(heatmap, dispsize, draw_numbers = True)"
   ]
  },
  {
   "cell_type": "markdown",
   "metadata": {},
   "source": [
    "## Concatenate all subject fixations"
   ]
  },
  {
   "cell_type": "code",
   "execution_count": 17,
   "metadata": {},
   "outputs": [],
   "source": [
    "subs = np.arange(5,55)\n",
    "trials = np.arange(1,129)\n",
    "eyes = ['L','R']\n",
    "dispsize = [1680, 1050]"
   ]
  },
  {
   "cell_type": "code",
   "execution_count": 23,
   "metadata": {},
   "outputs": [],
   "source": [
    "# all_fix = pd.DataFrame()\n",
    "# for sub in subs:\n",
    "#     sub_fix = pd.read_csv(base_dir + '/Study2_EyeTracking/Data/Cleaned/Gaze_events/sub-%03d_fixations.csv'%sub,\n",
    "#                      index_col = 0)\n",
    "#     all_fix = all_fix.append(sub_fix).reset_index(drop=True)\n",
    "\n",
    "# all_fix['block'] = all_fix['trial'].apply(lambda x: np.floor((x-0.001)/16) + 1)\n",
    "\n",
    "# block_pt_all = pd.DataFrame()\n",
    "# for sub in all_fix['sub'].unique():\n",
    "#     block_pt = load_block_pt(sub)\n",
    "#     block_pt_all = block_pt_all.append(block_pt).reset_index(drop=True)\n",
    "\n",
    "# all_fix = all_fix.merge(block_pt_all, on = ['sub','block'])\n",
    "# all_fix.head()\n",
    "\n",
    "# all_fix.to_csv(base_dir + '/Study2_EyeTracking/Data/Cleaned/Gaze_events/all_fixations.csv')"
   ]
  }
 ],
 "metadata": {
  "kernelspec": {
   "display_name": "Python 3",
   "language": "python",
   "name": "python3"
  },
  "language_info": {
   "codemirror_mode": {
    "name": "ipython",
    "version": 3
   },
   "file_extension": ".py",
   "mimetype": "text/x-python",
   "name": "python",
   "nbconvert_exporter": "python",
   "pygments_lexer": "ipython3",
   "version": "3.5.6"
  }
 },
 "nbformat": 4,
 "nbformat_minor": 2
}
