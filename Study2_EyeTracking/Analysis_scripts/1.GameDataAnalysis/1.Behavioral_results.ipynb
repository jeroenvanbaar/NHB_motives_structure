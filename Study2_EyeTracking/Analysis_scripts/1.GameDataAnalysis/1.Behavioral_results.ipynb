{
 "cells": [
  {
   "cell_type": "code",
   "execution_count": 1,
   "metadata": {},
   "outputs": [],
   "source": [
    "import sys, os, glob, scipy, sqlite3, json, matplotlib\n",
    "import pandas as pd\n",
    "import numpy as np\n",
    "import matplotlib.pyplot as plt\n",
    "import seaborn as sns\n",
    "import scipy.stats as ss"
   ]
  },
  {
   "cell_type": "code",
   "execution_count": 2,
   "metadata": {},
   "outputs": [],
   "source": [
    "# Style\n",
    "import matplotlib.style as style\n",
    "style.use('seaborn-poster') #sets the size of the charts\n",
    "style.use('seaborn-white')\n",
    "sns.set_palette('tab10')\n",
    "matplotlib.rcParams['pdf.fonttype'] = 42\n",
    "matplotlib.rcParams['font.family'] = \"Helvetica\""
   ]
  },
  {
   "cell_type": "markdown",
   "metadata": {},
   "source": [
    "### Load data"
   ]
  },
  {
   "cell_type": "code",
   "execution_count": 3,
   "metadata": {},
   "outputs": [
    {
     "name": "stdout",
     "output_type": "stream",
     "text": [
      "/Users/jeroen/Dropbox (Brown)/Postdoc FHL/JEROEN/SOC_STRUCT_LEARN/Code_share/NHB_motives_structure/Study2_EyeTracking\n"
     ]
    }
   ],
   "source": [
    "baseDir = os.path.realpath('../..')\n",
    "print(baseDir)\n",
    "sys.path.append('/'.join(os.path.realpath('..').split('/')[:4]) + '/Python')\n",
    "import FigureTools"
   ]
  },
  {
   "cell_type": "code",
   "execution_count": 6,
   "metadata": {},
   "outputs": [
    {
     "data": {
      "text/html": [
       "<div>\n",
       "<style scoped>\n",
       "    .dataframe tbody tr th:only-of-type {\n",
       "        vertical-align: middle;\n",
       "    }\n",
       "\n",
       "    .dataframe tbody tr th {\n",
       "        vertical-align: top;\n",
       "    }\n",
       "\n",
       "    .dataframe thead th {\n",
       "        text-align: right;\n",
       "    }\n",
       "</style>\n",
       "<table border=\"1\" class=\"dataframe\">\n",
       "  <thead>\n",
       "    <tr style=\"text-align: right;\">\n",
       "      <th></th>\n",
       "      <th>sub</th>\n",
       "      <th>subID</th>\n",
       "      <th>Block</th>\n",
       "      <th>Player</th>\n",
       "      <th>Type</th>\n",
       "      <th>Variant</th>\n",
       "      <th>Type_Total</th>\n",
       "      <th>Trial</th>\n",
       "      <th>S</th>\n",
       "      <th>T</th>\n",
       "      <th>GameType</th>\n",
       "      <th>Colors</th>\n",
       "      <th>CorrAns</th>\n",
       "      <th>GivenAns</th>\n",
       "      <th>Confidence</th>\n",
       "      <th>Score</th>\n",
       "      <th>RT_radio</th>\n",
       "      <th>RT_submit</th>\n",
       "      <th>SelfReport</th>\n",
       "    </tr>\n",
       "  </thead>\n",
       "  <tbody>\n",
       "    <tr>\n",
       "      <td>0</td>\n",
       "      <td>5</td>\n",
       "      <td>5005</td>\n",
       "      <td>0</td>\n",
       "      <td>N.N.</td>\n",
       "      <td>opt</td>\n",
       "      <td>nat</td>\n",
       "      <td>opt_nat</td>\n",
       "      <td>0</td>\n",
       "      <td>0</td>\n",
       "      <td>12</td>\n",
       "      <td>PD</td>\n",
       "      <td>['Not', 'Defined']</td>\n",
       "      <td>def</td>\n",
       "      <td>def</td>\n",
       "      <td>86</td>\n",
       "      <td>1</td>\n",
       "      <td>8631</td>\n",
       "      <td>10443</td>\n",
       "      <td>not defined</td>\n",
       "    </tr>\n",
       "    <tr>\n",
       "      <td>1</td>\n",
       "      <td>5</td>\n",
       "      <td>5005</td>\n",
       "      <td>0</td>\n",
       "      <td>N.N.</td>\n",
       "      <td>opt</td>\n",
       "      <td>nat</td>\n",
       "      <td>opt_nat</td>\n",
       "      <td>1</td>\n",
       "      <td>7</td>\n",
       "      <td>5</td>\n",
       "      <td>HG</td>\n",
       "      <td>['Not', 'Defined']</td>\n",
       "      <td>coop</td>\n",
       "      <td>coop</td>\n",
       "      <td>70</td>\n",
       "      <td>1</td>\n",
       "      <td>3639</td>\n",
       "      <td>5183</td>\n",
       "      <td>not defined</td>\n",
       "    </tr>\n",
       "    <tr>\n",
       "      <td>2</td>\n",
       "      <td>5</td>\n",
       "      <td>5005</td>\n",
       "      <td>0</td>\n",
       "      <td>N.N.</td>\n",
       "      <td>opt</td>\n",
       "      <td>nat</td>\n",
       "      <td>opt_nat</td>\n",
       "      <td>2</td>\n",
       "      <td>10</td>\n",
       "      <td>12</td>\n",
       "      <td>SG</td>\n",
       "      <td>['Not', 'Defined']</td>\n",
       "      <td>def</td>\n",
       "      <td>coop</td>\n",
       "      <td>52</td>\n",
       "      <td>0</td>\n",
       "      <td>4796</td>\n",
       "      <td>6608</td>\n",
       "      <td>not defined</td>\n",
       "    </tr>\n",
       "    <tr>\n",
       "      <td>3</td>\n",
       "      <td>5</td>\n",
       "      <td>5005</td>\n",
       "      <td>0</td>\n",
       "      <td>N.N.</td>\n",
       "      <td>opt</td>\n",
       "      <td>nat</td>\n",
       "      <td>opt_nat</td>\n",
       "      <td>3</td>\n",
       "      <td>3</td>\n",
       "      <td>5</td>\n",
       "      <td>SH</td>\n",
       "      <td>['Not', 'Defined']</td>\n",
       "      <td>coop</td>\n",
       "      <td>def</td>\n",
       "      <td>52</td>\n",
       "      <td>0</td>\n",
       "      <td>3840</td>\n",
       "      <td>5502</td>\n",
       "      <td>not defined</td>\n",
       "    </tr>\n",
       "    <tr>\n",
       "      <td>4</td>\n",
       "      <td>5</td>\n",
       "      <td>5005</td>\n",
       "      <td>0</td>\n",
       "      <td>N.N.</td>\n",
       "      <td>opt</td>\n",
       "      <td>nat</td>\n",
       "      <td>opt_nat</td>\n",
       "      <td>4</td>\n",
       "      <td>0</td>\n",
       "      <td>8</td>\n",
       "      <td>SH</td>\n",
       "      <td>['Not', 'Defined']</td>\n",
       "      <td>coop</td>\n",
       "      <td>coop</td>\n",
       "      <td>54</td>\n",
       "      <td>1</td>\n",
       "      <td>3806</td>\n",
       "      <td>6322</td>\n",
       "      <td>not defined</td>\n",
       "    </tr>\n",
       "  </tbody>\n",
       "</table>\n",
       "</div>"
      ],
      "text/plain": [
       "   sub  subID  Block Player Type Variant Type_Total  Trial   S   T GameType  \\\n",
       "0    5   5005      0   N.N.  opt     nat    opt_nat      0   0  12       PD   \n",
       "1    5   5005      0   N.N.  opt     nat    opt_nat      1   7   5       HG   \n",
       "2    5   5005      0   N.N.  opt     nat    opt_nat      2  10  12       SG   \n",
       "3    5   5005      0   N.N.  opt     nat    opt_nat      3   3   5       SH   \n",
       "4    5   5005      0   N.N.  opt     nat    opt_nat      4   0   8       SH   \n",
       "\n",
       "               Colors CorrAns GivenAns  Confidence  Score  RT_radio  \\\n",
       "0  ['Not', 'Defined']     def      def          86      1      8631   \n",
       "1  ['Not', 'Defined']    coop     coop          70      1      3639   \n",
       "2  ['Not', 'Defined']     def     coop          52      0      4796   \n",
       "3  ['Not', 'Defined']    coop      def          52      0      3840   \n",
       "4  ['Not', 'Defined']    coop     coop          54      1      3806   \n",
       "\n",
       "   RT_submit   SelfReport  \n",
       "0      10443  not defined  \n",
       "1       5183  not defined  \n",
       "2       6608  not defined  \n",
       "3       5502  not defined  \n",
       "4       6322  not defined  "
      ]
     },
     "execution_count": 6,
     "metadata": {},
     "output_type": "execute_result"
    }
   ],
   "source": [
    "gameDat = pd.read_csv(baseDir+'/Data/gameDat_study2.csv',index_col=0)\n",
    "gameDat = gameDat.rename(columns = {'ConfidenceNum':'Confidence','ScoreNum':'Score'})\n",
    "gameDat.head()"
   ]
  },
  {
   "cell_type": "code",
   "execution_count": 7,
   "metadata": {},
   "outputs": [
    {
     "name": "stdout",
     "output_type": "stream",
     "text": [
      "50 participants found\n"
     ]
    }
   ],
   "source": [
    "print('%i participants found'%len(gameDat['subID'].unique()))"
   ]
  },
  {
   "cell_type": "code",
   "execution_count": 8,
   "metadata": {
    "scrolled": true
   },
   "outputs": [
    {
     "data": {
      "text/html": [
       "<div>\n",
       "<style scoped>\n",
       "    .dataframe tbody tr th:only-of-type {\n",
       "        vertical-align: middle;\n",
       "    }\n",
       "\n",
       "    .dataframe tbody tr th {\n",
       "        vertical-align: top;\n",
       "    }\n",
       "\n",
       "    .dataframe thead th {\n",
       "        text-align: right;\n",
       "    }\n",
       "</style>\n",
       "<table border=\"1\" class=\"dataframe\">\n",
       "  <thead>\n",
       "    <tr style=\"text-align: right;\">\n",
       "      <th></th>\n",
       "      <th>sub</th>\n",
       "      <th>subID</th>\n",
       "      <th>Block</th>\n",
       "      <th>Player</th>\n",
       "      <th>Type</th>\n",
       "      <th>Variant</th>\n",
       "      <th>Type_Total</th>\n",
       "      <th>Trial</th>\n",
       "      <th>S</th>\n",
       "      <th>T</th>\n",
       "      <th>...</th>\n",
       "      <th>Colors</th>\n",
       "      <th>CorrAns</th>\n",
       "      <th>GivenAns</th>\n",
       "      <th>Confidence</th>\n",
       "      <th>Score</th>\n",
       "      <th>RT_radio</th>\n",
       "      <th>RT_submit</th>\n",
       "      <th>SelfReport</th>\n",
       "      <th>FirstType</th>\n",
       "      <th>ThirdType</th>\n",
       "    </tr>\n",
       "  </thead>\n",
       "  <tbody>\n",
       "    <tr>\n",
       "      <td>0</td>\n",
       "      <td>5</td>\n",
       "      <td>5005</td>\n",
       "      <td>0</td>\n",
       "      <td>N.N.</td>\n",
       "      <td>opt</td>\n",
       "      <td>nat</td>\n",
       "      <td>opt_nat</td>\n",
       "      <td>0</td>\n",
       "      <td>0</td>\n",
       "      <td>12</td>\n",
       "      <td>...</td>\n",
       "      <td>['Not', 'Defined']</td>\n",
       "      <td>def</td>\n",
       "      <td>def</td>\n",
       "      <td>86</td>\n",
       "      <td>1</td>\n",
       "      <td>8631</td>\n",
       "      <td>10443</td>\n",
       "      <td>not defined</td>\n",
       "      <td>opt_nat</td>\n",
       "      <td>pess_inv</td>\n",
       "    </tr>\n",
       "    <tr>\n",
       "      <td>1</td>\n",
       "      <td>5</td>\n",
       "      <td>5005</td>\n",
       "      <td>0</td>\n",
       "      <td>N.N.</td>\n",
       "      <td>opt</td>\n",
       "      <td>nat</td>\n",
       "      <td>opt_nat</td>\n",
       "      <td>1</td>\n",
       "      <td>7</td>\n",
       "      <td>5</td>\n",
       "      <td>...</td>\n",
       "      <td>['Not', 'Defined']</td>\n",
       "      <td>coop</td>\n",
       "      <td>coop</td>\n",
       "      <td>70</td>\n",
       "      <td>1</td>\n",
       "      <td>3639</td>\n",
       "      <td>5183</td>\n",
       "      <td>not defined</td>\n",
       "      <td>opt_nat</td>\n",
       "      <td>pess_inv</td>\n",
       "    </tr>\n",
       "    <tr>\n",
       "      <td>2</td>\n",
       "      <td>5</td>\n",
       "      <td>5005</td>\n",
       "      <td>0</td>\n",
       "      <td>N.N.</td>\n",
       "      <td>opt</td>\n",
       "      <td>nat</td>\n",
       "      <td>opt_nat</td>\n",
       "      <td>2</td>\n",
       "      <td>10</td>\n",
       "      <td>12</td>\n",
       "      <td>...</td>\n",
       "      <td>['Not', 'Defined']</td>\n",
       "      <td>def</td>\n",
       "      <td>coop</td>\n",
       "      <td>52</td>\n",
       "      <td>0</td>\n",
       "      <td>4796</td>\n",
       "      <td>6608</td>\n",
       "      <td>not defined</td>\n",
       "      <td>opt_nat</td>\n",
       "      <td>pess_inv</td>\n",
       "    </tr>\n",
       "    <tr>\n",
       "      <td>3</td>\n",
       "      <td>5</td>\n",
       "      <td>5005</td>\n",
       "      <td>0</td>\n",
       "      <td>N.N.</td>\n",
       "      <td>opt</td>\n",
       "      <td>nat</td>\n",
       "      <td>opt_nat</td>\n",
       "      <td>3</td>\n",
       "      <td>3</td>\n",
       "      <td>5</td>\n",
       "      <td>...</td>\n",
       "      <td>['Not', 'Defined']</td>\n",
       "      <td>coop</td>\n",
       "      <td>def</td>\n",
       "      <td>52</td>\n",
       "      <td>0</td>\n",
       "      <td>3840</td>\n",
       "      <td>5502</td>\n",
       "      <td>not defined</td>\n",
       "      <td>opt_nat</td>\n",
       "      <td>pess_inv</td>\n",
       "    </tr>\n",
       "    <tr>\n",
       "      <td>4</td>\n",
       "      <td>5</td>\n",
       "      <td>5005</td>\n",
       "      <td>0</td>\n",
       "      <td>N.N.</td>\n",
       "      <td>opt</td>\n",
       "      <td>nat</td>\n",
       "      <td>opt_nat</td>\n",
       "      <td>4</td>\n",
       "      <td>0</td>\n",
       "      <td>8</td>\n",
       "      <td>...</td>\n",
       "      <td>['Not', 'Defined']</td>\n",
       "      <td>coop</td>\n",
       "      <td>coop</td>\n",
       "      <td>54</td>\n",
       "      <td>1</td>\n",
       "      <td>3806</td>\n",
       "      <td>6322</td>\n",
       "      <td>not defined</td>\n",
       "      <td>opt_nat</td>\n",
       "      <td>pess_inv</td>\n",
       "    </tr>\n",
       "  </tbody>\n",
       "</table>\n",
       "<p>5 rows × 21 columns</p>\n",
       "</div>"
      ],
      "text/plain": [
       "   sub  subID  Block Player Type Variant Type_Total  Trial   S   T  ...  \\\n",
       "0    5   5005      0   N.N.  opt     nat    opt_nat      0   0  12  ...   \n",
       "1    5   5005      0   N.N.  opt     nat    opt_nat      1   7   5  ...   \n",
       "2    5   5005      0   N.N.  opt     nat    opt_nat      2  10  12  ...   \n",
       "3    5   5005      0   N.N.  opt     nat    opt_nat      3   3   5  ...   \n",
       "4    5   5005      0   N.N.  opt     nat    opt_nat      4   0   8  ...   \n",
       "\n",
       "               Colors CorrAns GivenAns Confidence  Score  RT_radio  RT_submit  \\\n",
       "0  ['Not', 'Defined']     def      def         86      1      8631      10443   \n",
       "1  ['Not', 'Defined']    coop     coop         70      1      3639       5183   \n",
       "2  ['Not', 'Defined']     def     coop         52      0      4796       6608   \n",
       "3  ['Not', 'Defined']    coop      def         52      0      3840       5502   \n",
       "4  ['Not', 'Defined']    coop     coop         54      1      3806       6322   \n",
       "\n",
       "    SelfReport FirstType ThirdType  \n",
       "0  not defined   opt_nat  pess_inv  \n",
       "1  not defined   opt_nat  pess_inv  \n",
       "2  not defined   opt_nat  pess_inv  \n",
       "3  not defined   opt_nat  pess_inv  \n",
       "4  not defined   opt_nat  pess_inv  \n",
       "\n",
       "[5 rows x 21 columns]"
      ]
     },
     "execution_count": 8,
     "metadata": {},
     "output_type": "execute_result"
    }
   ],
   "source": [
    "firstType = gameDat.loc[(gameDat['Trial']==0) & (gameDat['Block']==0), ['subID','Type_Total']].reset_index(drop=True)\n",
    "firstType.columns = ['subID','FirstType']\n",
    "thirdType = gameDat.loc[(gameDat['Trial']==0) & (gameDat['Block']==2), ['subID','Type_Total']].reset_index(drop=True)\n",
    "thirdType.columns = ['subID','ThirdType']\n",
    "gameDat = gameDat.merge(firstType,on='subID').merge(thirdType,on='subID')\n",
    "gameDat.head()"
   ]
  },
  {
   "cell_type": "code",
   "execution_count": 9,
   "metadata": {},
   "outputs": [],
   "source": [
    "gtOrder = ['HG','SG','SH','PD']\n",
    "roundOrder = range(4)\n",
    "ptOrder = ['opt_nat','pess_nat','opt_inv','pess_inv']"
   ]
  },
  {
   "cell_type": "code",
   "execution_count": 10,
   "metadata": {},
   "outputs": [],
   "source": [
    "def ttest_1samp(dat, popmean = .5, verbose = True):\n",
    "    if verbose:\n",
    "        print('SD: ',np.std(dat))\n",
    "        print('Stats:')\n",
    "    stats = scipy.stats.ttest_1samp(dat, popmean = popmean)\n",
    "    if verbose:\n",
    "        print(stats)\n",
    "        print('Cohen d:')\n",
    "    coh_d = (np.mean(dat) - popmean)/np.std(dat)\n",
    "    if verbose:\n",
    "        print(coh_d)\n",
    "    return(stats, coh_d)\n",
    "\n",
    "def ttest_2samp(dat1, dat2):\n",
    "    print('SD dat 1: ',np.std(dat1))\n",
    "    print('SD dat 2: ',np.std(dat2))\n",
    "    print('Stats:')\n",
    "    stats = scipy.stats.ttest_ind(dat1, dat2)\n",
    "    print(stats)\n",
    "    print('Cohen d:')\n",
    "    nx = len(dat1)\n",
    "    ny = len(dat2)\n",
    "    dof = nx + ny - 2\n",
    "    coh_d = ((np.mean(dat1) - np.mean(dat2)) /\n",
    "             np.sqrt(((nx-1)*np.std(dat1, ddof=1) ** 2 + (ny-1)*np.std(dat2, ddof=1) ** 2) / dof))\n",
    "    print(coh_d)\n",
    "    return(stats, coh_d)"
   ]
  },
  {
   "cell_type": "markdown",
   "metadata": {},
   "source": [
    "# Supplemental Results 6 part 1: replicating the behavioral effects in study 2"
   ]
  },
  {
   "cell_type": "markdown",
   "metadata": {},
   "source": [
    "## Overall performance against chance"
   ]
  },
  {
   "cell_type": "code",
   "execution_count": 13,
   "metadata": {},
   "outputs": [
    {
     "data": {
      "text/plain": [
       "0.6271875"
      ]
     },
     "execution_count": 13,
     "metadata": {},
     "output_type": "execute_result"
    }
   ],
   "source": [
    "gameDat.groupby('subID',as_index=False).mean()['Score'].mean()"
   ]
  },
  {
   "cell_type": "code",
   "execution_count": 14,
   "metadata": {},
   "outputs": [
    {
     "name": "stdout",
     "output_type": "stream",
     "text": [
      "SD:  0.09250527856560403\n",
      "Stats:\n",
      "Ttest_1sampResult(statistic=9.624450775191141, pvalue=7.061977943310414e-13)\n",
      "Cohen d:\n",
      "1.37492153931302\n"
     ]
    },
    {
     "data": {
      "text/plain": [
       "(Ttest_1sampResult(statistic=9.624450775191141, pvalue=7.061977943310414e-13),\n",
       " 1.37492153931302)"
      ]
     },
     "execution_count": 14,
     "metadata": {},
     "output_type": "execute_result"
    }
   ],
   "source": [
    "ttest_1samp(gameDat.groupby('subID',as_index=False).mean()['Score'], .5)"
   ]
  },
  {
   "cell_type": "markdown",
   "metadata": {},
   "source": [
    "## Overall performance by player type"
   ]
  },
  {
   "cell_type": "code",
   "execution_count": 15,
   "metadata": {},
   "outputs": [
    {
     "data": {
      "text/plain": [
       "Index(['sub', 'subID', 'Block', 'Player', 'Type', 'Variant', 'Type_Total',\n",
       "       'Trial', 'S', 'T', 'GameType', 'Colors', 'CorrAns', 'GivenAns',\n",
       "       'Confidence', 'Score', 'RT_radio', 'RT_submit', 'SelfReport',\n",
       "       'FirstType', 'ThirdType'],\n",
       "      dtype='object')"
      ]
     },
     "execution_count": 15,
     "metadata": {},
     "output_type": "execute_result"
    }
   ],
   "source": [
    "gameDat.columns"
   ]
  },
  {
   "cell_type": "code",
   "execution_count": 17,
   "metadata": {
    "scrolled": false
   },
   "outputs": [
    {
     "data": {
      "text/plain": [
       "(0, 1.4)"
      ]
     },
     "execution_count": 17,
     "metadata": {},
     "output_type": "execute_result"
    },
    {
     "data": {
      "image/png": "[encoded data removed]",
      "text/plain": [
       "<Figure size 432x360 with 1 Axes>"
      ]
     },
     "metadata": {},
     "output_type": "display_data"
    }
   ],
   "source": [
    "sns.set_context('poster')\n",
    "blockDat = gameDat[['subID','Type_Total','Type','Variant','Confidence','Score']\n",
    "                  ].groupby(['subID','Variant']).mean().reset_index()\n",
    "fig, ax = plt.subplots(1,1,figsize=[6,5])\n",
    "sns.barplot(data=blockDat,x='Variant',y='Score', ax=ax, errwidth = 3, capsize=.1,\n",
    "            order=['nat','inv'],alpha=0)\n",
    "sns.swarmplot(data=blockDat,x='Variant',y='Score', ax=ax,\n",
    "            order=['nat','inv'], alpha=.3, color = 'k')\n",
    "ax.plot([-5,5],[.5,.5], 'k--', lw=2)\n",
    "ax.set(ylim = [0,1.1], xlim = [-.5,1.5], xlabel = None, yticks = [0,.25,.5,.75,1],\n",
    "       title = 'Performance by strategy type',\n",
    "       xticklabels = ['Human\\nStrategies', 'Artificial\\nStrategies'], ylabel = 'Accuracy     ');\n",
    "dat1 = blockDat.loc[blockDat['Variant']=='nat','Score'].values\n",
    "dat2 = blockDat.loc[blockDat['Variant']=='inv','Score'].values\n",
    "stats = scipy.stats.ttest_rel(dat2,dat1)\n",
    "FigureTools.add_sig_markers(ax, relationships=[[0,1,stats[1]]])\n",
    "sns.despine(top=True,right=True)\n",
    "ax.spines['left'].set_bounds(0,1)\n",
    "ax.set_ylim([0,1.4])"
   ]
  },
  {
   "cell_type": "code",
   "execution_count": 18,
   "metadata": {},
   "outputs": [
    {
     "name": "stdout",
     "output_type": "stream",
     "text": [
      "0.09045026257562773 0.16851372347675428\n",
      "SD:  0.15955994171470483\n",
      "Stats:\n",
      "Ttest_1sampResult(statistic=-16.945042539776924, pvalue=3.9594312009069757e-22)\n",
      "Cohen d:\n",
      "-2.420720362825275\n"
     ]
    },
    {
     "data": {
      "text/plain": [
       "(Ttest_1sampResult(statistic=-16.945042539776924, pvalue=3.9594312009069757e-22),\n",
       " -2.420720362825275)"
      ]
     },
     "execution_count": 18,
     "metadata": {},
     "output_type": "execute_result"
    }
   ],
   "source": [
    "print(np.std(dat1), np.std(dat2))\n",
    "ttest_1samp(dat2-dat1, 0)"
   ]
  }
 ],
 "metadata": {
  "kernelspec": {
   "display_name": "Python 3",
   "language": "python",
   "name": "python3"
  },
  "language_info": {
   "codemirror_mode": {
    "name": "ipython",
    "version": 3
   },
   "file_extension": ".py",
   "mimetype": "text/x-python",
   "name": "python",
   "nbconvert_exporter": "python",
   "pygments_lexer": "ipython3",
   "version": "3.7.4"
  }
 },
 "nbformat": 4,
 "nbformat_minor": 2
}
